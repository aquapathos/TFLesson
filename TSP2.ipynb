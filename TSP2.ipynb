{
  "nbformat": 4,
  "nbformat_minor": 0,
  "metadata": {
    "colab": {
      "name": "TSP2",
      "version": "0.3.2",
      "provenance": [],
      "collapsed_sections": [],
      "include_colab_link": true
    },
    "kernelspec": {
      "name": "python3",
      "display_name": "Python 3"
    },
    "accelerator": "GPU"
  },
  "cells": [
    {
      "cell_type": "markdown",
      "metadata": {
        "id": "view-in-github",
        "colab_type": "text"
      },
      "source": [
        "<a href=\"https://colab.research.google.com/github/aquapathos/TFLesson/blob/master/TSP2.ipynb\" target=\"_parent\"><img src=\"https://colab.research.google.com/assets/colab-badge.svg\" alt=\"Open In Colab\"/></a>"
      ]
    },
    {
      "cell_type": "code",
      "metadata": {
        "id": "rvIkr-7cnsIr",
        "colab_type": "code",
        "outputId": "bcdf37fc-cba1-4ee0-c64e-7baaeda2135c",
        "colab": {
          "base_uri": "https://localhost:8080/",
          "height": 34
        }
      },
      "source": [
        "import cv2\n",
        "from google.colab.patches import cv2_imshow\n",
        "import matplotlib.pyplot as plt\n",
        "import numpy as np\n",
        "\n",
        "# import tensorflow as tf\n",
        "import keras\n",
        "from keras.models import Sequential\n",
        "from keras.layers import Conv2D, MaxPooling2D, Flatten,UpSampling2D,Conv2DTranspose,BatchNormalization\n",
        "import keras.backend.tensorflow_backend as KTF\n",
        "from keras.callbacks import EarlyStopping, CSVLogger\n",
        "from keras.layers.core import Dense, Dropout, Activation\n",
        "from keras.optimizers import Adam\n",
        "from keras.utils import to_categorical\n",
        "\n",
        "import tensorflow.compat.v1 as tf"
      ],
      "execution_count": 1,
      "outputs": [
        {
          "output_type": "stream",
          "text": [
            "Using TensorFlow backend.\n"
          ],
          "name": "stderr"
        }
      ]
    },
    {
      "cell_type": "markdown",
      "metadata": {
        "id": "ooEDRN72BG09",
        "colab_type": "text"
      },
      "source": [
        "# TSPの最適解生成のためのプログラム導入（concorde法）\n",
        "- https://github.com/jvkersch/pyconcorde のプログラムを使わせていただく"
      ]
    },
    {
      "cell_type": "code",
      "metadata": {
        "id": "Wgfkjw1CBIv4",
        "colab_type": "code",
        "colab": {
          "base_uri": "https://localhost:8080/",
          "height": 187
        },
        "outputId": "2df5e1e1-7b94-4bbf-fd41-437a20a86453"
      },
      "source": [
        "!git clone https://github.com/jvkersch/pyconcorde\n",
        "% cd pyconcorde\n",
        "!pip install -e ."
      ],
      "execution_count": 2,
      "outputs": [
        {
          "output_type": "stream",
          "text": [
            "fatal: destination path 'pyconcorde' already exists and is not an empty directory.\n",
            "/content/pyconcorde\n",
            "Obtaining file:///content/pyconcorde\n",
            "Requirement already satisfied: cython>=0.22.0 in /usr/local/lib/python3.6/dist-packages (from pyconcorde==0.1.0) (0.29.10)\n",
            "Requirement already satisfied: numpy>=1.10.0 in /usr/local/lib/python3.6/dist-packages (from pyconcorde==0.1.0) (1.16.4)\n",
            "Installing collected packages: pyconcorde\n",
            "  Found existing installation: pyconcorde 0.1.0\n",
            "    Can't uninstall 'pyconcorde'. No files were found to uninstall.\n",
            "  Running setup.py develop for pyconcorde\n",
            "Successfully installed pyconcorde\n"
          ],
          "name": "stdout"
        }
      ]
    },
    {
      "cell_type": "markdown",
      "metadata": {
        "id": "a6yeTPle2X4Y",
        "colab_type": "text"
      },
      "source": [
        "# 巡回地点の生成"
      ]
    },
    {
      "cell_type": "code",
      "metadata": {
        "id": "CN5SBzrqn9Pc",
        "colab_type": "code",
        "colab": {}
      },
      "source": [
        "CSIZE = 7 # 最小セルサイズ\n",
        "MSIZE = 2 # 周辺にとるマージン \n",
        "GFACTOR = 5"
      ],
      "execution_count": 0,
      "outputs": []
    },
    {
      "cell_type": "code",
      "metadata": {
        "id": "7BJsI5yMq4X4",
        "colab_type": "code",
        "colab": {}
      },
      "source": [
        "# 巡回する点を生成する関数\n",
        "#　入力\n",
        "# 　pnum : 巡回ポイント数\n",
        "# 　(xsize,ysize) : エリアのサイズ\n",
        "# 　msize : 周辺に残すマージン\n",
        "# 　ksize : 入力画像をぼかした画像を作る際のガウスぼかしのカーネルサイズ\n",
        "#　出力\n",
        "#  1. posA 座標の numpy 配列\n",
        "#  2. tspimg 訪問地点を白画素とした画像\n",
        "#  3. btspimg 上の画像をガウスぼかしした画像\n",
        "#  4. 表示用の参照画像\n",
        "\n",
        "def genTSP(pnum = 3, xsize=CSIZE,ysize=CSIZE, msize = MSIZE,ksize=GFACTOR):\n",
        "  tspimg = np.zeros((ysize,xsize),np.uint8)\n",
        "  refimg = np.ones((ysize,xsize,3),np.uint8)*200\n",
        "  posnumA = []\n",
        "  def genPnum(pset=posnumA): # 既存の集合に存在しない整数乱数を１つ生成　して集合に追加して返す    \n",
        "    while True:\n",
        "      a = np.random.randint(0,(xsize-2*msize)*(ysize-2*msize))\n",
        "      if a not in pset:\n",
        "            pset.append(a)\n",
        "            break              \n",
        "    return pset\n",
        "  \n",
        "  while len(posnumA) < pnum:\n",
        "    posnumA = genPnum(pset=posnumA)\n",
        " \n",
        "  posA = []\n",
        "  for i,n in enumerate(posnumA):\n",
        "    y = n//(xsize-2*msize)+msize\n",
        "    x = n%(xsize-2*msize)+msize\n",
        "    posA.append([x,y])\n",
        "    tspimg[y,x]=255\n",
        "    cv2.circle(refimg,(x,y),msize//2,(0,0,255),-1)\n",
        "  ksize = 2*msize*GFACTOR+1\n",
        "  btspimg = cv2.GaussianBlur(tspimg,(ksize,ksize),0)\n",
        "  btspimg = (btspimg/btspimg.max())*255\n",
        "  return np.array(posA),tspimg,btspimg,refimg"
      ],
      "execution_count": 0,
      "outputs": []
    },
    {
      "cell_type": "code",
      "metadata": {
        "id": "LMKiTSyMwzsi",
        "colab_type": "code",
        "colab": {
          "base_uri": "https://localhost:8080/",
          "height": 368
        },
        "outputId": "96f5627f-0d53-4f0d-f63d-8aff3978b05d"
      },
      "source": [
        "poss, img, bimg, rimg = genTSP(pnum=50,xsize=100,ysize=50)\n",
        "cv2_imshow(cv2.resize(rimg,(200,100)))\n",
        "print(\"巡回地点マップ(表示用)\")\n",
        "cv2_imshow(cv2.resize(img,(200,100)))\n",
        "print(\"巡回地点マップ（出題用）\")\n",
        "cv2_imshow(cv2.resize(bimg,(200,100)))\n",
        "print(\"巡回地点密度マップ（ガウシアンフィルタでぼかしたマップ）\")  # ぼかした画像は使うかどうかあとで考える。"
      ],
      "execution_count": 5,
      "outputs": [
        {
          "output_type": "display_data",
          "data": {
            "image/png": "[encoded data removed]",
            "text/plain": [
              "<PIL.Image.Image image mode=RGB size=200x100 at 0x7FA577E714E0>"
            ]
          },
          "metadata": {
            "tags": []
          }
        },
        {
          "output_type": "stream",
          "text": [
            "巡回地点マップ(表示用)\n"
          ],
          "name": "stdout"
        },
        {
          "output_type": "display_data",
          "data": {
            "image/png": "[encoded data removed]",
            "text/plain": [
              "<PIL.Image.Image image mode=L size=200x100 at 0x7FA577E71630>"
            ]
          },
          "metadata": {
            "tags": []
          }
        },
        {
          "output_type": "stream",
          "text": [
            "巡回地点マップ（出題用）\n"
          ],
          "name": "stdout"
        },
        {
          "output_type": "display_data",
          "data": {
            "image/png": "[encoded data removed]",
            "text/plain": [
              "<PIL.Image.Image image mode=L size=200x100 at 0x7FA577E715C0>"
            ]
          },
          "metadata": {
            "tags": []
          }
        },
        {
          "output_type": "stream",
          "text": [
            "巡回地点密度マップ（ガウシアンフィルタでぼかしたマップ）\n"
          ],
          "name": "stdout"
        }
      ]
    },
    {
      "cell_type": "markdown",
      "metadata": {
        "id": "FEtoMIBsACab",
        "colab_type": "text"
      },
      "source": [
        "# TSPの学習用データの生成（concorde法）\n",
        "- https://github.com/jvkersch/pyconcorde のプログラムを使わせていただく"
      ]
    },
    {
      "cell_type": "markdown",
      "metadata": {
        "id": "hDW0Mb1CDBAd",
        "colab_type": "text"
      },
      "source": [
        "# 解が生成できることの確認"
      ]
    },
    {
      "cell_type": "code",
      "metadata": {
        "id": "37VO028jw5NL",
        "colab_type": "code",
        "colab": {
          "base_uri": "https://localhost:8080/",
          "height": 468
        },
        "outputId": "bafd02b5-a04f-44f7-b967-286939d8f84a"
      },
      "source": [
        "from concorde.tsp import TSPSolver\n",
        "from concorde.tests.data_utils import get_dataset_path\n",
        "\n",
        "poss, img, bimg, rimg = genTSP(pnum=50,xsize=400,ysize=200,msize=10)\n",
        "cv2_imshow(rimg)\n",
        "\n",
        "# 地点データをx座標とy座標に分離\n",
        "xs = [x for [x,y] in poss]\n",
        "ys = [y for [x,y] in poss]\n",
        "\n",
        "# concorde ソルバーの準備　距離は２次元ユークリッド距離\n",
        "solver = TSPSolver.from_data(xs,ys,norm=\"EUC_2D\")\n",
        "\n",
        "# TSPを解く\n",
        "solution = solver.solve()\n",
        "\n",
        "color = rimg.copy()\n",
        "ps = solution.tour\n",
        "\n",
        "# 巡回順に白線で結ぶ\n",
        "cv2.line(color,(xs[ps[0]],ys[ps[0]]),(xs[ps[-1]],ys[ps[-1]]),(255,255,255),1)\n",
        "p0 = ps[0]\n",
        "for p1 in ps[1:]:\n",
        "  color = cv2.line(color,(xs[p0],ys[p0]),(xs[p1],ys[p1]),(255,255,255),1)\n",
        "  p0 = p1\n",
        "print(solution.tour, \"tour length\",solution.optimal_value)\n",
        "cv2_imshow(color)"
      ],
      "execution_count": 6,
      "outputs": [
        {
          "output_type": "display_data",
          "data": {
            "image/png": "[encoded data removed]",
            "text/plain": [
              "<PIL.Image.Image image mode=RGB size=400x200 at 0x7FA576FD7FD0>"
            ]
          },
          "metadata": {
            "tags": []
          }
        },
        {
          "output_type": "stream",
          "text": [
            "[ 0  7 39 17 21 29 49 35 23 41 30 14 20 42 40 16 47  4 33 15  5 31 22 38\n",
            " 27  1 44 10  2 32 12 26  3 34  6 43 36 11 46 13 45  9  8 37 19 24 48 28\n",
            " 25 18] tour length 1545.0\n"
          ],
          "name": "stdout"
        },
        {
          "output_type": "display_data",
          "data": {
            "image/png": "[encoded data removed]",
            "text/plain": [
              "<PIL.Image.Image image mode=RGB size=400x200 at 0x7FA576FDAB70>"
            ]
          },
          "metadata": {
            "tags": []
          }
        }
      ]
    },
    {
      "cell_type": "markdown",
      "metadata": {
        "id": "5pLzRwXzFOxB",
        "colab_type": "text"
      },
      "source": [
        "# 追確認"
      ]
    },
    {
      "cell_type": "code",
      "metadata": {
        "id": "9hbm9_Pkx_jm",
        "colab_type": "code",
        "colab": {
          "base_uri": "https://localhost:8080/",
          "height": 267
        },
        "outputId": "20654cf5-dcfe-4e65-a587-67255ac9dac7"
      },
      "source": [
        "plt.figure(figsize=(12, 6), dpi=100)\n",
        "for i in range(4):\n",
        "    plt.subplot(1, 4, i+1)\n",
        "    poss, img, bimg,rimg = genTSP(pnum=np.random.randint(10,25),xsize=200,ysize=200,msize=5)\n",
        "    xs = [x for [x,y] in poss]\n",
        "    ys = [y for [x,y] in poss]\n",
        "    solver = TSPSolver.from_data(xs,ys,norm=\"EUC_2D\")\n",
        "    solution = solver.solve()\n",
        "    ps = solution.tour\n",
        "    cv2.line(rimg,(xs[ps[0]],ys[ps[0]]),(xs[ps[-1]],ys[ps[-1]]),(255,255,255),1)\n",
        "    p0 = ps[0]\n",
        "    for p1 in ps[1:]:\n",
        "      rimg = cv2.line(rimg,(xs[p0],ys[p0]),(xs[p1],ys[p1]),(255,255,255),1)\n",
        "      p0 = p1\n",
        "    plt.imshow(rimg[:,:,::-1])\n",
        "    plt.axis('off')"
      ],
      "execution_count": 7,
      "outputs": [
        {
          "output_type": "display_data",
          "data": {
            "image/png": "[encoded data removed]",
            "text/plain": [
              "<Figure size 1200x600 with 4 Axes>"
            ]
          },
          "metadata": {
            "tags": []
          }
        }
      ]
    },
    {
      "cell_type": "markdown",
      "metadata": {
        "id": "gYKYxE2XFe9Y",
        "colab_type": "text"
      },
      "source": [
        "# 基礎実験\n",
        "- セルサイズ 24*24\n",
        "-200個の問題を生成\n",
        "- X：入力の配列\n",
        "- Y：理想解の配列"
      ]
    },
    {
      "cell_type": "code",
      "metadata": {
        "id": "hdG62ADvHoPu",
        "colab_type": "code",
        "colab": {}
      },
      "source": [
        "X,Y,Xb,Xr,Sols = [],[],[],[],[]\n",
        "Poss = []\n",
        "for i in range(200):\n",
        "    data, img, bimg,rimg = genTSP(pnum=np.random.randint(10,25),xsize=24,ysize=24,msize=1)\n",
        "    Poss.append(data)\n",
        "    X.append(img)\n",
        "    Xb.append(bimg)\n",
        "    Xr.append(rimg)\n",
        "    xs = [x for [x,y] in data]\n",
        "    ys = [y for [x,y] in data]\n",
        "    solver = TSPSolver.from_data(xs,ys,norm=\"EUC_2D\")\n",
        "    solution = solver.solve()\n",
        "    simg = np.zeros_like(img)\n",
        "    ps = solution.tour\n",
        "    Sols.append(ps)\n",
        "    cv2.line(simg,(xs[ps[0]],ys[ps[0]]),(xs[ps[-1]],ys[ps[-1]]),255,1)\n",
        "    p0 = ps[0]\n",
        "    for p1 in ps[1:]:\n",
        "      simg = cv2.line(simg,(xs[p0],ys[p0]),(xs[p1],ys[p1]),255,1)\n",
        "      p0 = p1\n",
        "    Y.append(simg)"
      ],
      "execution_count": 0,
      "outputs": []
    },
    {
      "cell_type": "markdown",
      "metadata": {
        "id": "a5SRGPLMGfeg",
        "colab_type": "text"
      },
      "source": [
        "# 確認\n",
        "200のうちの先頭50個だけ表示してみる"
      ]
    },
    {
      "cell_type": "code",
      "metadata": {
        "id": "_6QllyDnE-Dm",
        "colab_type": "code",
        "colab": {
          "base_uri": "https://localhost:8080/",
          "height": 584
        },
        "outputId": "a9f26ab2-ff61-4fdd-fd49-fc8067360df0"
      },
      "source": [
        "plt.figure(figsize=(12, 6), dpi=100)\n",
        "simg = np.ones((550,500,3),np.uint8)*255\n",
        "for i in range(5):\n",
        "  for j in range(10):\n",
        "    simg[105*i:105*i+48,50*j:50*j+48,:] = cv2.resize(Xr[5*i+j],(48,48))\n",
        "    simg[105*i+50:105*i+98,50*j:50*j+48] = cv2.resize(cv2.cvtColor(Y[5*i+j],cv2.COLOR_GRAY2BGR),(48,48))\n",
        "cv2_imshow(simg)"
      ],
      "execution_count": 9,
      "outputs": [
        {
          "output_type": "display_data",
          "data": {
            "image/png": "[encoded data removed]",
            "text/plain": [
              "<PIL.Image.Image image mode=RGB size=500x550 at 0x7FA5A725AAC8>"
            ]
          },
          "metadata": {
            "tags": []
          }
        },
        {
          "output_type": "display_data",
          "data": {
            "text/plain": [
              "<Figure size 1200x600 with 0 Axes>"
            ]
          },
          "metadata": {
            "tags": []
          }
        }
      ]
    },
    {
      "cell_type": "code",
      "metadata": {
        "id": "6vaPoRkdJQgm",
        "colab_type": "code",
        "colab": {
          "base_uri": "https://localhost:8080/",
          "height": 391
        },
        "outputId": "8b7a8ade-9469-4e05-ae5c-66e70f303fda"
      },
      "source": [
        "Poss[100] # 100番の課題"
      ],
      "execution_count": 10,
      "outputs": [
        {
          "output_type": "execute_result",
          "data": {
            "text/plain": [
              "array([[21, 17],\n",
              "       [12,  2],\n",
              "       [15,  4],\n",
              "       [ 9, 18],\n",
              "       [ 8, 10],\n",
              "       [18,  5],\n",
              "       [ 5, 14],\n",
              "       [14, 12],\n",
              "       [ 7, 22],\n",
              "       [ 6,  6],\n",
              "       [ 2, 10],\n",
              "       [ 4,  6],\n",
              "       [22,  1],\n",
              "       [22, 17],\n",
              "       [22, 10],\n",
              "       [18,  9],\n",
              "       [ 9, 12],\n",
              "       [18,  2],\n",
              "       [ 7, 15],\n",
              "       [ 1,  1],\n",
              "       [ 5, 17],\n",
              "       [ 1, 17]])"
            ]
          },
          "metadata": {
            "tags": []
          },
          "execution_count": 10
        }
      ]
    },
    {
      "cell_type": "markdown",
      "metadata": {
        "id": "zU8VGdQ4KDdK",
        "colab_type": "text"
      },
      "source": [
        "# データの水増し1\n",
        "反転と回転で１つの問題を８倍に水増しする  \n",
        "[[1, 2, 3],  \n",
        " [4, 5, 6],   \n",
        " [7, 8, 9]])  \n",
        "- flip axis=0 上下反転  \n",
        "[[7 8 9]  \n",
        " [4 5 6]  \n",
        " [1 2 3]]  \n",
        "- flip axis=1 左右反転  \n",
        "[[3 2 1]  \n",
        " [6 5 4]  \n",
        " [9 8 7]]  \n",
        "- flip axis=None  \n",
        "[[9 8 7]  \n",
        " [6 5 4]  \n",
        " [3 2 1]]  \n",
        "- rot90  k=1 反時計回り90度   \n",
        "[[3 6 9]  \n",
        " [2 5 8]  \n",
        " [1 4 7]]  \n",
        "- rot90 k=1 , flip axis=0  \n",
        "[[1 4 7]  \n",
        " [2 5 8]  \n",
        " [3 6 9]]  \n",
        "- rot90  k=-1  時計回り90度  \n",
        "[[7 4 1]  \n",
        " [8 5 2]  \n",
        " [9 6 3]]  \n",
        "- rot90 k=-1 , flip axis=0  \n",
        "[[9 6 3]  \n",
        " [8 5 2]  \n",
        " [7 4 1]]  \n",
        "\n",
        "- http://pynote.hatenablog.com/entry/numpy-array-manipulation-functions"
      ]
    },
    {
      "cell_type": "code",
      "metadata": {
        "id": "b7IAido9ItQF",
        "colab_type": "code",
        "colab": {}
      },
      "source": [
        "for i in range(200):\n",
        "  x,y = X[i],Y[i]\n",
        "  X.append(np.flip(x,axis=0))\n",
        "  Y.append(np.flip(y,axis=0))\n",
        "  Poss.append([[a,24-b] for [a,b] in Poss[i]])\n",
        "  Sols.append(Sols[i])\n",
        "  X.append(np.flip(x,axis=1))\n",
        "  Y.append(np.flip(y,axis=1))\n",
        "  Poss.append([[a,24-b] for [a,b] in Poss[i]])\n",
        "  Sols.append(Sols[i])\n",
        "  X.append(np.flip(x,axis=None))\n",
        "  Y.append(np.flip(y,axis=None))\n",
        "  Poss.append([[24-a,24-b] for [a,b] in Poss[i]])\n",
        "  Sols.append(Sols[i])\n",
        "  X.append(np.rot90(x,k=1))\n",
        "  Y.append(np.rot90(y,k=1))\n",
        "  Poss.append([[b,24-a] for [a,b] in Poss[i]])\n",
        "  Sols.append(Sols[i])\n",
        "  X.append(np.flip(X[-1],axis=0))\n",
        "  Y.append(np.flip(Y[-1],axis=0))\n",
        "  Poss.append([[b,a] for [a,b] in Poss[i]])\n",
        "  Sols.append(Sols[i])\n",
        "  X.append(np.rot90(x,k=-1))\n",
        "  Y.append(np.rot90(y,k=-1)) \n",
        "  Poss.append([[24-b,a] for [a,b] in Poss[i]])\n",
        "  Sols.append(Sols[i])\n",
        "  X.append(np.flip(X[-1],axis=0))\n",
        "  Y.append(np.flip(Y[-1],axis=0))\n",
        "  Poss.append([[24-b,24-a] for [a,b] in Poss[i]])\n",
        "  Sols.append(Sols[i])"
      ],
      "execution_count": 0,
      "outputs": []
    },
    {
      "cell_type": "markdown",
      "metadata": {
        "id": "kfQsHFOMD3Cb",
        "colab_type": "text"
      },
      "source": [
        "# データの水増し２\n",
        "1. 縦横２倍（48x48）のエリアに、(24x24)の各問題を24ピクセルずつ縦横移動して貼り付けた問題を作り、９倍に水増しする\n",
        "2. 24x24の問題の訪問地点の位置を縦横２倍に拡大して　48x48 の問題を作る。\n",
        "上の２つの操作で10倍に水増し。"
      ]
    },
    {
      "cell_type": "code",
      "metadata": {
        "id": "4SzB9LDLE_aX",
        "colab_type": "code",
        "colab": {}
      },
      "source": [
        "Xex, Yex, PossEx,SolsEx = [],[],[],[]\n",
        "for x,y,p,sol in zip(X,Y,Poss,Sols):\n",
        "  for s in range(0,25,12):\n",
        "    for t in range(0,25,12):\n",
        "      x1 = np.zeros((48,48),np.uint8)\n",
        "      y1 = np.zeros((48,48),np.uint8)\n",
        "      x1[s:s+24,t:t+24] = x\n",
        "      y1[s:s+24,t:t+24] = y\n",
        "      Xex.append(x1)\n",
        "      Yex.append(y1)\n",
        "      PossEx.append([(px+s,py+t) for [px,py] in p])\n",
        "      SolsEx.append(sol)\n",
        "      \n",
        "  x1 = np.zeros((48,48),np.uint8)\n",
        "  y1 = np.zeros((48,48),np.uint8)\n",
        "  for index,[px,py] in enumerate(p):\n",
        "    p[index]=[2*px,2*py]\n",
        "    x1[2*py,2*px] = 255\n",
        "  Xex.append(x1)\n",
        "  PossEx.append(p)\n",
        "  SolsEx.append(sol)\n",
        "  cv2.line(y1,(p[sol[0]][0],p[sol[0]][1]),(p[sol[-1]][0],p[sol[-1]][1]),255,1)\n",
        "  p0 = sol[0]\n",
        "  for p1 in sol[1:]:\n",
        "    cv2.line(y1,(p[p0][0],p[p0][1]),(p[p1][0],p[p1][1]),255,1)\n",
        "    p0 = p1\n",
        "  Yex.append(y1)"
      ],
      "execution_count": 0,
      "outputs": []
    },
    {
      "cell_type": "markdown",
      "metadata": {
        "id": "M6VYSduHPAFn",
        "colab_type": "text"
      },
      "source": [
        "# サンプルで確認"
      ]
    },
    {
      "cell_type": "code",
      "metadata": {
        "id": "90v3RKLjMd0H",
        "colab_type": "code",
        "colab": {
          "base_uri": "https://localhost:8080/",
          "height": 584
        },
        "outputId": "6fdfd01f-82f2-456b-a95c-3ce3a1cde85c"
      },
      "source": [
        "plt.figure(figsize=(12, 6), dpi=100)\n",
        "simg = np.ones((550,500),np.uint8)*255\n",
        "for i in range(5):\n",
        "  for j in range(10):\n",
        "    simg[105*i:105*i+48,50*j:50*j+48] = Xex[5*i+j]\n",
        "    simg[105*i+50:105*i+98,50*j:50*j+48] = Yex[5*i+j]\n",
        "cv2_imshow(simg)"
      ],
      "execution_count": 13,
      "outputs": [
        {
          "output_type": "display_data",
          "data": {
            "image/png": "[encoded data removed]",
            "text/plain": [
              "<PIL.Image.Image image mode=L size=500x550 at 0x7FA576FDABE0>"
            ]
          },
          "metadata": {
            "tags": []
          }
        },
        {
          "output_type": "display_data",
          "data": {
            "text/plain": [
              "<Figure size 1200x600 with 0 Axes>"
            ]
          },
          "metadata": {
            "tags": []
          }
        }
      ]
    },
    {
      "cell_type": "code",
      "metadata": {
        "id": "kOFG-pGwKML7",
        "colab_type": "code",
        "colab": {
          "base_uri": "https://localhost:8080/",
          "height": 1006
        },
        "outputId": "86f4327b-446a-479b-d5c6-ec4d50a0cc40"
      },
      "source": [
        "session = tf. Session ('')     # tensorboardを使うのに必要な設定\n",
        "KTF.set_session (session)      # tensorboardをわないなら不要\n",
        "KTF.set_learning_phase (1)     # \n",
        "\n",
        "model = Sequential()\n",
        "model.add(Conv2D(64,kernel_size=(5, 5),padding='same',\n",
        "                 activation='relu', input_shape=(48,48,1)))\n",
        "model.add(BatchNormalization())\n",
        "model.add(Conv2D(64,kernel_size=(7, 7),padding='same',\n",
        "                 activation='relu'))\n",
        "# model.add(BatchNormalization())\n",
        "model.add(Dropout(rate=0.2))\n",
        "model.add(MaxPooling2D(pool_size=(2, 2)),)\n",
        "model.add(BatchNormalization())\n",
        "model.add(Dropout(rate=0.2))\n",
        "model.add(Conv2D(64,kernel_size=(7, 7),padding='same',\n",
        "                 activation='relu'))\n",
        "model.add(MaxPooling2D(pool_size=(2, 2)))\n",
        "model.add(Conv2DTranspose(64, kernel_size=5,  activation='relu', use_bias=False))\n",
        "model.add(Conv2DTranspose(64, kernel_size=5,  activation='relu', use_bias=False))\n",
        "model.add(UpSampling2D((2, 2)))\n",
        "model.add(Conv2DTranspose(64, kernel_size=5,  activation='relu', use_bias=False))\n",
        "model.add(Conv2DTranspose(32, kernel_size=5,  activation='relu', use_bias=False))\n",
        "model.add(Conv2DTranspose(1, kernel_size=1,  activation='relu',use_bias=False))\n",
        "\n",
        "model.summary()"
      ],
      "execution_count": 14,
      "outputs": [
        {
          "output_type": "stream",
          "text": [
            "WARNING: Logging before flag parsing goes to stderr.\n",
            "W0616 14:28:08.091824 140349930018688 deprecation_wrapper.py:119] From /usr/local/lib/python3.6/dist-packages/keras/backend/tensorflow_backend.py:153: The name tf.get_default_graph is deprecated. Please use tf.compat.v1.get_default_graph instead.\n",
            "\n",
            "W0616 14:28:08.094732 140349930018688 deprecation_wrapper.py:119] From /usr/local/lib/python3.6/dist-packages/keras/backend/tensorflow_backend.py:517: The name tf.placeholder is deprecated. Please use tf.compat.v1.placeholder instead.\n",
            "\n",
            "W0616 14:28:08.098808 140349930018688 deprecation_wrapper.py:119] From /usr/local/lib/python3.6/dist-packages/keras/backend/tensorflow_backend.py:4138: The name tf.random_uniform is deprecated. Please use tf.random.uniform instead.\n",
            "\n",
            "W0616 14:28:08.134799 140349930018688 deprecation_wrapper.py:119] From /usr/local/lib/python3.6/dist-packages/keras/backend/tensorflow_backend.py:174: The name tf.get_default_session is deprecated. Please use tf.compat.v1.get_default_session instead.\n",
            "\n",
            "W0616 14:28:08.136194 140349930018688 deprecation_wrapper.py:119] From /usr/local/lib/python3.6/dist-packages/keras/backend/tensorflow_backend.py:190: The name tf.global_variables is deprecated. Please use tf.compat.v1.global_variables instead.\n",
            "\n",
            "W0616 14:28:08.622968 140349930018688 deprecation_wrapper.py:119] From /usr/local/lib/python3.6/dist-packages/keras/backend/tensorflow_backend.py:1834: The name tf.nn.fused_batch_norm is deprecated. Please use tf.compat.v1.nn.fused_batch_norm instead.\n",
            "\n",
            "W0616 14:28:08.713451 140349930018688 deprecation.py:506] From /usr/local/lib/python3.6/dist-packages/keras/backend/tensorflow_backend.py:3445: calling dropout (from tensorflow.python.ops.nn_ops) with keep_prob is deprecated and will be removed in a future version.\n",
            "Instructions for updating:\n",
            "Please use `rate` instead of `keep_prob`. Rate should be set to `rate = 1 - keep_prob`.\n",
            "W0616 14:28:08.730491 140349930018688 deprecation_wrapper.py:119] From /usr/local/lib/python3.6/dist-packages/keras/backend/tensorflow_backend.py:3976: The name tf.nn.max_pool is deprecated. Please use tf.nn.max_pool2d instead.\n",
            "\n",
            "W0616 14:28:08.913194 140349930018688 deprecation_wrapper.py:119] From /usr/local/lib/python3.6/dist-packages/keras/backend/tensorflow_backend.py:2018: The name tf.image.resize_nearest_neighbor is deprecated. Please use tf.compat.v1.image.resize_nearest_neighbor instead.\n",
            "\n"
          ],
          "name": "stderr"
        },
        {
          "output_type": "stream",
          "text": [
            "_________________________________________________________________\n",
            "Layer (type)                 Output Shape              Param #   \n",
            "=================================================================\n",
            "conv2d_1 (Conv2D)            (None, 48, 48, 64)        1664      \n",
            "_________________________________________________________________\n",
            "batch_normalization_1 (Batch (None, 48, 48, 64)        256       \n",
            "_________________________________________________________________\n",
            "conv2d_2 (Conv2D)            (None, 48, 48, 64)        200768    \n",
            "_________________________________________________________________\n",
            "dropout_1 (Dropout)          (None, 48, 48, 64)        0         \n",
            "_________________________________________________________________\n",
            "max_pooling2d_1 (MaxPooling2 (None, 24, 24, 64)        0         \n",
            "_________________________________________________________________\n",
            "batch_normalization_2 (Batch (None, 24, 24, 64)        256       \n",
            "_________________________________________________________________\n",
            "dropout_2 (Dropout)          (None, 24, 24, 64)        0         \n",
            "_________________________________________________________________\n",
            "conv2d_3 (Conv2D)            (None, 24, 24, 64)        200768    \n",
            "_________________________________________________________________\n",
            "max_pooling2d_2 (MaxPooling2 (None, 12, 12, 64)        0         \n",
            "_________________________________________________________________\n",
            "conv2d_transpose_1 (Conv2DTr (None, 16, 16, 64)        102400    \n",
            "_________________________________________________________________\n",
            "conv2d_transpose_2 (Conv2DTr (None, 20, 20, 64)        102400    \n",
            "_________________________________________________________________\n",
            "up_sampling2d_1 (UpSampling2 (None, 40, 40, 64)        0         \n",
            "_________________________________________________________________\n",
            "conv2d_transpose_3 (Conv2DTr (None, 44, 44, 64)        102400    \n",
            "_________________________________________________________________\n",
            "conv2d_transpose_4 (Conv2DTr (None, 48, 48, 32)        51200     \n",
            "_________________________________________________________________\n",
            "conv2d_transpose_5 (Conv2DTr (None, 48, 48, 1)         32        \n",
            "=================================================================\n",
            "Total params: 762,144\n",
            "Trainable params: 761,888\n",
            "Non-trainable params: 256\n",
            "_________________________________________________________________\n"
          ],
          "name": "stdout"
        }
      ]
    },
    {
      "cell_type": "code",
      "metadata": {
        "id": "EYu3IrjkKQv4",
        "colab_type": "code",
        "colab": {
          "base_uri": "https://localhost:8080/",
          "height": 122
        },
        "outputId": "54c41374-02fb-49da-a380-3cf331fe8067"
      },
      "source": [
        "model.compile(loss= 'binary_crossentropy', # 'mean_squared_error',\n",
        "              # optimizer = keras.optimizers.Adamax(lr=0.002, beta_1=0.9, beta_2=0.999, epsilon=None, decay=0.0),\n",
        "              optimizer = Adam(lr=0.001, beta_1=0.9, beta_2=0.999, epsilon=1e-08, decay=0.0),\n",
        "              #optimizer = keras.optimizers.SGD(lr=0.01, momentum=0.0, decay=0.0, nesterov=False),\n",
        "              metrics=['accuracy'])"
      ],
      "execution_count": 15,
      "outputs": [
        {
          "output_type": "stream",
          "text": [
            "W0616 14:28:09.073811 140349930018688 deprecation_wrapper.py:119] From /usr/local/lib/python3.6/dist-packages/keras/optimizers.py:790: The name tf.train.Optimizer is deprecated. Please use tf.compat.v1.train.Optimizer instead.\n",
            "\n",
            "W0616 14:28:09.088105 140349930018688 deprecation.py:323] From /usr/local/lib/python3.6/dist-packages/tensorflow/python/ops/nn_impl.py:180: add_dispatch_support.<locals>.wrapper (from tensorflow.python.ops.array_ops) is deprecated and will be removed in a future version.\n",
            "Instructions for updating:\n",
            "Use tf.where in 2.0, which has the same broadcast rule as np.where\n"
          ],
          "name": "stderr"
        }
      ]
    },
    {
      "cell_type": "code",
      "metadata": {
        "id": "r_9XbZI_KobJ",
        "colab_type": "code",
        "colab": {
          "base_uri": "https://localhost:8080/",
          "height": 408
        },
        "outputId": "7e9dc704-cb43-48ae-9b56-6b4f4d24ea38"
      },
      "source": [
        "dsize = len(Xex)\n",
        "batch_size = 1000\n",
        "epochs = 20\n",
        "\n",
        "X1 = np.array(Xex).reshape(dsize,48*48).astype('float32')\n",
        "X1 = X1/255\n",
        "X1 = X1.reshape(-1,48,48,1)\n",
        "Y1 = np.array(Yex).reshape(dsize,48*48)\n",
        "Y1 = Y1/255\n",
        "Y1 = Y1.reshape(-1,48,48,1)\n",
        "\n",
        "es = EarlyStopping(monitor='val_loss', patience=2)   #  検証用データのロスが改善されなくなったら2エポック後に停止\n",
        "tb_cb = keras.callbacks.TensorBoard(log_dir='tblog', histogram_freq=1, write_graph=True)\n",
        "csv_logger = CSVLogger('training.log')\n",
        "hist = model.fit(X1, Y1,\n",
        "                 batch_size=batch_size,\n",
        "                 epochs=epochs,\n",
        "                 verbose=1,\n",
        "                 validation_split=0.2, # 20 % は検証用に利用する\n",
        "                 #callbacks=[es, csv_logger,tb_cb])\n",
        "                  callbacks=[es, csv_logger])"
      ],
      "execution_count": 27,
      "outputs": [
        {
          "output_type": "stream",
          "text": [
            "Train on 12800 samples, validate on 3200 samples\n",
            "Epoch 1/20\n",
            "12800/12800 [==============================] - 24s 2ms/step - loss: 0.1090 - acc: 0.9661 - val_loss: 0.1065 - val_acc: 0.9662\n",
            "Epoch 2/20\n",
            "12800/12800 [==============================] - 24s 2ms/step - loss: 0.1052 - acc: 0.9661 - val_loss: 0.1038 - val_acc: 0.9662\n",
            "Epoch 3/20\n",
            "12800/12800 [==============================] - 24s 2ms/step - loss: 0.1018 - acc: 0.9661 - val_loss: 0.1001 - val_acc: 0.9662\n",
            "Epoch 4/20\n",
            "12800/12800 [==============================] - 24s 2ms/step - loss: 0.0992 - acc: 0.9661 - val_loss: 0.0986 - val_acc: 0.9662\n",
            "Epoch 5/20\n",
            "12800/12800 [==============================] - 24s 2ms/step - loss: 0.0975 - acc: 0.9661 - val_loss: 0.0968 - val_acc: 0.9662\n",
            "Epoch 6/20\n",
            "12800/12800 [==============================] - 24s 2ms/step - loss: 0.0963 - acc: 0.9661 - val_loss: 0.0955 - val_acc: 0.9662\n",
            "Epoch 7/20\n",
            "12800/12800 [==============================] - 24s 2ms/step - loss: 0.0950 - acc: 0.9661 - val_loss: 0.0944 - val_acc: 0.9662\n",
            "Epoch 8/20\n",
            "12800/12800 [==============================] - 24s 2ms/step - loss: 0.0938 - acc: 0.9661 - val_loss: 0.0932 - val_acc: 0.9662\n",
            "Epoch 9/20\n",
            "12800/12800 [==============================] - 24s 2ms/step - loss: 0.0929 - acc: 0.9661 - val_loss: 0.0927 - val_acc: 0.9662\n",
            "Epoch 10/20\n",
            "12800/12800 [==============================] - 24s 2ms/step - loss: 0.0922 - acc: 0.9661 - val_loss: 0.0934 - val_acc: 0.9661\n",
            "Epoch 11/20\n",
            "12800/12800 [==============================] - 24s 2ms/step - loss: 0.0922 - acc: 0.9661 - val_loss: 0.0934 - val_acc: 0.9656\n"
          ],
          "name": "stdout"
        }
      ]
    },
    {
      "cell_type": "code",
      "metadata": {
        "id": "pSasJEI9Ohl1",
        "colab_type": "code",
        "colab": {}
      },
      "source": [
        "def test():\n",
        "    data, img, bimg,rimg = genTSP(pnum=np.random.randint(10,25),xsize=48,ysize=48,msize=1)\n",
        "    img2 = img.reshape((1,48,48,1))\n",
        "    output = model.predict(img2)\n",
        "    output = np.ndarray.flatten(output)\n",
        "    output = output.reshape((48,48))\n",
        "    \n",
        "    xs = [x for [x,y] in data]\n",
        "    ys = [y for [x,y] in data]\n",
        "    solver = TSPSolver.from_data(xs,ys,norm=\"EUC_2D\")\n",
        "    solution = solver.solve()\n",
        "    simg = np.zeros_like(img)\n",
        "    ps = solution.tour\n",
        "    Sols.append(ps)\n",
        "    cv2.line(simg,(xs[ps[0]],ys[ps[0]]),(xs[ps[-1]],ys[ps[-1]]),255,1)\n",
        "    p0 = ps[0]\n",
        "    for p1 in ps[1:]:\n",
        "      simg = cv2.line(simg,(xs[p0],ys[p0]),(xs[p1],ys[p1]),255,1)\n",
        "      p0 = p1    \n",
        "\n",
        "    fig = plt.figure(figsize=(8,2))\n",
        "    subplot = fig.add_subplot(1,4,1)\n",
        "    subplot.set_xticks([])\n",
        "    subplot.set_yticks([])\n",
        "    subplot.imshow(255-img,cmap=plt.cm.binary)\n",
        "    subplot = fig.add_subplot(1,4,2)\n",
        "    subplot.set_xticks([])\n",
        "    subplot.set_yticks([])\n",
        "    subplot.imshow(1-output,cmap=plt.cm.binary)\n",
        "    subplot = fig.add_subplot(1,4,3)\n",
        "    subplot.set_xticks([])\n",
        "    subplot.set_yticks([])\n",
        "    subplot.imshow(255-simg,cmap=plt.cm.binary)"
      ],
      "execution_count": 0,
      "outputs": []
    },
    {
      "cell_type": "code",
      "metadata": {
        "id": "HXzqiZDUOknA",
        "colab_type": "code",
        "colab": {
          "base_uri": "https://localhost:8080/",
          "height": 135
        },
        "outputId": "226f2568-8a9e-42b8-b09d-09d36f67e231"
      },
      "source": [
        "test()"
      ],
      "execution_count": 18,
      "outputs": [
        {
          "output_type": "display_data",
          "data": {
            "image/png": "[encoded data removed]",
            "text/plain": [
              "<Figure size 576x144 with 3 Axes>"
            ]
          },
          "metadata": {
            "tags": []
          }
        }
      ]
    },
    {
      "cell_type": "code",
      "metadata": {
        "id": "Zkip5HFDO1FR",
        "colab_type": "code",
        "colab": {
          "base_uri": "https://localhost:8080/",
          "height": 135
        },
        "outputId": "58db6473-efb7-434a-9ad6-f13d318776f0"
      },
      "source": [
        "test()"
      ],
      "execution_count": 19,
      "outputs": [
        {
          "output_type": "display_data",
          "data": {
            "image/png": "[encoded data removed]",
            "text/plain": [
              "<Figure size 576x144 with 3 Axes>"
            ]
          },
          "metadata": {
            "tags": []
          }
        }
      ]
    },
    {
      "cell_type": "code",
      "metadata": {
        "id": "s-kxCs-xO8DS",
        "colab_type": "code",
        "colab": {
          "base_uri": "https://localhost:8080/",
          "height": 135
        },
        "outputId": "264cb78e-1375-474c-c472-39c95a93042f"
      },
      "source": [
        "test()"
      ],
      "execution_count": 20,
      "outputs": [
        {
          "output_type": "display_data",
          "data": {
            "image/png": "[encoded data removed]",
            "text/plain": [
              "<Figure size 576x144 with 3 Axes>"
            ]
          },
          "metadata": {
            "tags": []
          }
        }
      ]
    },
    {
      "cell_type": "code",
      "metadata": {
        "id": "hLsZDvPZPFMi",
        "colab_type": "code",
        "colab": {
          "base_uri": "https://localhost:8080/",
          "height": 135
        },
        "outputId": "5fe754ac-61a7-4ad7-87fd-9484e13c2098"
      },
      "source": [
        "test()"
      ],
      "execution_count": 21,
      "outputs": [
        {
          "output_type": "display_data",
          "data": {
            "image/png": "[encoded data removed]",
            "text/plain": [
              "<Figure size 576x144 with 3 Axes>"
            ]
          },
          "metadata": {
            "tags": []
          }
        }
      ]
    },
    {
      "cell_type": "code",
      "metadata": {
        "id": "k3Azk7iiPHjB",
        "colab_type": "code",
        "colab": {
          "base_uri": "https://localhost:8080/",
          "height": 135
        },
        "outputId": "7952d8e6-45b2-4f92-8893-a3637d9594f7"
      },
      "source": [
        "test()"
      ],
      "execution_count": 22,
      "outputs": [
        {
          "output_type": "display_data",
          "data": {
            "image/png": "[encoded data removed]",
            "text/plain": [
              "<Figure size 576x144 with 3 Axes>"
            ]
          },
          "metadata": {
            "tags": []
          }
        }
      ]
    },
    {
      "cell_type": "code",
      "metadata": {
        "id": "S0ir28KDPxk3",
        "colab_type": "code",
        "colab": {
          "base_uri": "https://localhost:8080/",
          "height": 135
        },
        "outputId": "cb853e8a-8721-48bd-a52c-40a323d96257"
      },
      "source": [
        "test()"
      ],
      "execution_count": 23,
      "outputs": [
        {
          "output_type": "display_data",
          "data": {
            "image/png": "[encoded data removed]",
            "text/plain": [
              "<Figure size 576x144 with 3 Axes>"
            ]
          },
          "metadata": {
            "tags": []
          }
        }
      ]
    },
    {
      "cell_type": "code",
      "metadata": {
        "id": "4wjDYWjJUqfT",
        "colab_type": "code",
        "colab": {
          "base_uri": "https://localhost:8080/",
          "height": 135
        },
        "outputId": "9215267f-0e44-4de8-a585-4b72a68ad7a2"
      },
      "source": [
        "test()"
      ],
      "execution_count": 24,
      "outputs": [
        {
          "output_type": "display_data",
          "data": {
            "image/png": "[encoded data removed]",
            "text/plain": [
              "<Figure size 576x144 with 3 Axes>"
            ]
          },
          "metadata": {
            "tags": []
          }
        }
      ]
    },
    {
      "cell_type": "code",
      "metadata": {
        "id": "E7RmocK5UtL-",
        "colab_type": "code",
        "colab": {
          "base_uri": "https://localhost:8080/",
          "height": 135
        },
        "outputId": "c18b04e1-340e-4227-c480-727b0c632c6c"
      },
      "source": [
        "test()"
      ],
      "execution_count": 25,
      "outputs": [
        {
          "output_type": "display_data",
          "data": {
            "image/png": "[encoded data removed]",
            "text/plain": [
              "<Figure size 576x144 with 3 Axes>"
            ]
          },
          "metadata": {
            "tags": []
          }
        }
      ]
    },
    {
      "cell_type": "code",
      "metadata": {
        "id": "zBtZv-PaUvce",
        "colab_type": "code",
        "colab": {
          "base_uri": "https://localhost:8080/",
          "height": 135
        },
        "outputId": "75d9fd87-584e-483c-b429-25244bdaf449"
      },
      "source": [
        "test()"
      ],
      "execution_count": 26,
      "outputs": [
        {
          "output_type": "display_data",
          "data": {
            "image/png": "[encoded data removed]",
            "text/plain": [
              "<Figure size 576x144 with 3 Axes>"
            ]
          },
          "metadata": {
            "tags": []
          }
        }
      ]
    },
    {
      "cell_type": "code",
      "metadata": {
        "id": "xO7RqaGSUxNO",
        "colab_type": "code",
        "colab": {}
      },
      "source": [
        ""
      ],
      "execution_count": 0,
      "outputs": []
    }
  ]
}