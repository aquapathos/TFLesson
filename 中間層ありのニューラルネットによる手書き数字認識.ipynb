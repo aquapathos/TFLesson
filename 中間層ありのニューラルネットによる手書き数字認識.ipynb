{
 "cells": [
  {
   "cell_type": "code",
   "execution_count": 2,
   "metadata": {
    "collapsed": true
   },
   "outputs": [],
   "source": [
    "import numpy as np\n",
    "import matplotlib.pyplot as plt\n",
    "from tensorflow.examples.tutorials.mnist import input_data\n",
    "import seaborn as sns\n",
    "import tensorflow as tf\n",
    "from tensorflow.contrib.deprecated import histogram_summary\n",
    "%matplotlib inline\n",
    "np.random.seed(20170731)\n",
    "tf.set_random_seed(20170731)"
   ]
  },
  {
   "cell_type": "code",
   "execution_count": 3,
   "metadata": {
    "collapsed": true
   },
   "outputs": [],
   "source": [
    "def plotchr(image,label,i):\n",
    "    sns.set_context(\"talk\")\n",
    "    plt.subplot(1,6,i+1)\n",
    "    plt.xticks([])\n",
    "    plt.yticks([])\n",
    "    plt.title(\"%d\" % np.argmax(label))\n",
    "    plt.imshow(image,cmap=plt.cm.gray_r)"
   ]
  },
  {
   "cell_type": "code",
   "execution_count": 4,
   "metadata": {},
   "outputs": [
    {
     "name": "stdout",
     "output_type": "stream",
     "text": [
      "Extracting /tmp/data/train-images-idx3-ubyte.gz\n",
      "Extracting /tmp/data/train-labels-idx1-ubyte.gz\n",
      "Extracting /tmp/data/t10k-images-idx3-ubyte.gz\n",
      "Extracting /tmp/data/t10k-labels-idx1-ubyte.gz\n"
     ]
    }
   ],
   "source": [
    "mnist = input_data.read_data_sets(\"/tmp/data/\", one_hot=True)"
   ]
  },
  {
   "cell_type": "markdown",
   "metadata": {},
   "source": [
    "# モデルの作成"
   ]
  },
  {
   "cell_type": "code",
   "execution_count": 5,
   "metadata": {
    "collapsed": true
   },
   "outputs": [],
   "source": [
    "num_units = 1024\n",
    "# モデルの作成\n",
    "x = tf.placeholder(tf.float32, [None, 784])\n",
    "\n",
    "w1 = tf.Variable(tf.truncated_normal([784, num_units]))\n",
    "b1 = tf.Variable(tf.zeros([num_units]))\n",
    "# h1 = tf.nn.relu(tf.matmul(x,w1)+b1)\n",
    "h1 = tf.sigmoid(tf.matmul(x,w1)+b1)\n",
    "\n",
    "w0 = tf.Variable(tf.zeros([num_units,10]))\n",
    "b0 = tf.Variable(tf.zeros([10]))\n",
    "\n",
    "h2 = tf.nn.sigmoid(tf.matmul(h1,w0)+b0)\n",
    "out = tf.nn.softmax(h2)\n",
    "\n",
    "with tf.name_scope(\"Histgram\") as scope:\n",
    "    w_hist = tf.summary.histogram(\"weight\",w1)\n",
    "    b_hist = tf.summary.histogram(\"biases\",b1)\n",
    "    h2_hist = tf.summary.histogram(\"h2\",h2)\n",
    "    out_hist = tf.summary.histogram(\"out\",out)"
   ]
  },
  {
   "cell_type": "markdown",
   "metadata": {},
   "source": [
    "# 誤差関数とオプティマイザーを定義"
   ]
  },
  {
   "cell_type": "code",
   "execution_count": 6,
   "metadata": {
    "collapsed": true
   },
   "outputs": [],
   "source": [
    "t = tf.placeholder(tf.float32, [None, 10], name=\"ideal-output\")\n",
    "\n",
    "with tf.name_scope(\"Evaluations\") as scope:\n",
    "    loss = -tf.reduce_sum(t*tf.log(out))\n",
    "    _ = tf.summary.scalar(\"cross_entropy\", loss)\n",
    "    correct_prediction = tf.equal(tf.argmax(out,1),tf.argmax(t,1))\n",
    "    accuracy = tf.reduce_mean(tf.cast(correct_prediction, tf.float32))\n",
    "    _ = tf.summary.scalar(\"accuracy\", accuracy)\n",
    "\n",
    "train_step = tf.train.AdamOptimizer().minimize(loss)\n",
    "#train_step = tf.train.GradientDescentOptimizer(0.003).minimize(loss)\n",
    "\n",
    "merged = tf.summary.merge_all()"
   ]
  },
  {
   "cell_type": "markdown",
   "metadata": {},
   "source": [
    "# 学習セッション"
   ]
  },
  {
   "cell_type": "code",
   "execution_count": 7,
   "metadata": {},
   "outputs": [
    {
     "name": "stdout",
     "output_type": "stream",
     "text": [
      "Step: 1000, Loss: 15345.476562, Accuracy: 0.935800\n",
      "Step: 2000, Loss: 15168.183594, Accuracy: 0.948500\n",
      "Step: 3000, Loss: 15077.349609, Accuracy: 0.954900\n",
      "Step: 4000, Loss: 15010.467773, Accuracy: 0.962500\n",
      "Step: 5000, Loss: 14997.658203, Accuracy: 0.964400\n"
     ]
    }
   ],
   "source": [
    "\n",
    "with tf.Session() as sess:\n",
    "    writer = tf.summary.FileWriter(\"test\", sess.graph)\n",
    "    sess.run(tf.global_variables_initializer())\n",
    "    sess.run(tf.local_variables_initializer())\n",
    "\n",
    "    times = 0\n",
    "    for _ in range(5000):\n",
    "        times += 1\n",
    "        batch_xs,batch_ts = mnist.train.next_batch(100)\n",
    "        sess.run(train_step, feed_dict={x:batch_xs, t:batch_ts})\n",
    "        if times % 100 == 0:\n",
    "            summm,loss_val, acc_val = sess.run([merged,loss,accuracy],\n",
    "                feed_dict={x:mnist.test.images, t:mnist.test.labels})\n",
    "            writer.add_summary(summm,times)\n",
    "            if times % 1000 == 0:\n",
    "                print(\"Step: {0:d}, Loss: {1:f}, Accuracy: {2:f}\".format(times, loss_val, acc_val))"
   ]
  },
  {
   "cell_type": "markdown",
   "metadata": {
    "collapsed": true
   },
   "source": [
    "# 96%"
   ]
  },
  {
   "cell_type": "markdown",
   "metadata": {},
   "source": [
    "# 学習結果を用いて文字認識してみる"
   ]
  },
  {
   "cell_type": "code",
   "execution_count": 1,
   "metadata": {},
   "outputs": [
    {
     "ename": "NameError",
     "evalue": "name 'plt' is not defined",
     "output_type": "error",
     "traceback": [
      "\u001b[1;31m---------------------------------------------------------------------------\u001b[0m",
      "\u001b[1;31mNameError\u001b[0m                                 Traceback (most recent call last)",
      "\u001b[1;32m<ipython-input-1-ebddb905beca>\u001b[0m in \u001b[0;36m<module>\u001b[1;34m()\u001b[0m\n\u001b[1;32m----> 1\u001b[1;33m \u001b[0mplt\u001b[0m\u001b[1;33m.\u001b[0m\u001b[0mfigure\u001b[0m\u001b[1;33m(\u001b[0m\u001b[0mfigsize\u001b[0m\u001b[1;33m=\u001b[0m\u001b[1;33m(\u001b[0m\u001b[1;36m8\u001b[0m\u001b[1;33m,\u001b[0m\u001b[1;36m15\u001b[0m\u001b[1;33m)\u001b[0m\u001b[1;33m)\u001b[0m\u001b[1;33m\u001b[0m\u001b[0m\n\u001b[0m\u001b[0;32m      2\u001b[0m \u001b[1;32mdef\u001b[0m \u001b[0mplotchr\u001b[0m\u001b[1;33m(\u001b[0m\u001b[0mimage\u001b[0m\u001b[1;33m,\u001b[0m\u001b[0mlabel1\u001b[0m\u001b[1;33m,\u001b[0m\u001b[0mlabel2\u001b[0m\u001b[1;33m,\u001b[0m \u001b[0mi\u001b[0m\u001b[1;33m)\u001b[0m\u001b[1;33m:\u001b[0m\u001b[1;33m\u001b[0m\u001b[0m\n\u001b[0;32m      3\u001b[0m     \u001b[0msns\u001b[0m\u001b[1;33m.\u001b[0m\u001b[0mset_context\u001b[0m\u001b[1;33m(\u001b[0m\u001b[1;34m\"talk\"\u001b[0m\u001b[1;33m)\u001b[0m\u001b[1;33m\u001b[0m\u001b[0m\n\u001b[0;32m      4\u001b[0m     \u001b[0mplt\u001b[0m\u001b[1;33m.\u001b[0m\u001b[0msubplot\u001b[0m\u001b[1;33m(\u001b[0m\u001b[1;36m10\u001b[0m\u001b[1;33m,\u001b[0m\u001b[1;36m6\u001b[0m\u001b[1;33m,\u001b[0m\u001b[0mi\u001b[0m\u001b[1;33m)\u001b[0m\u001b[1;33m\u001b[0m\u001b[0m\n\u001b[0;32m      5\u001b[0m     \u001b[0mplt\u001b[0m\u001b[1;33m.\u001b[0m\u001b[0mxticks\u001b[0m\u001b[1;33m(\u001b[0m\u001b[1;33m[\u001b[0m\u001b[1;33m]\u001b[0m\u001b[1;33m)\u001b[0m\u001b[1;33m\u001b[0m\u001b[0m\n",
      "\u001b[1;31mNameError\u001b[0m: name 'plt' is not defined"
     ]
    }
   ],
   "source": [
    "plt.figure(figsize=(8,15))\n",
    "def plotchr(image,label1,label2, i):\n",
    "    sns.set_context(\"talk\")\n",
    "    plt.subplot(10,6,i)\n",
    "    plt.xticks([])\n",
    "    plt.yticks([])\n",
    "    plt.title(\"%d / %d\" % (np.argmax(label1),np.argmax(label2)))\n",
    "    plt.imshow(image,cmap=plt.cm.gray_r)\n",
    "    \n",
    "images, labels = mnist.test.images, mnist.test.labels\n",
    "p_val = sess.run(out, feed_dict={x:images, t:labels})\n",
    "\n",
    "# 0～9 と判定されたものについて、それぞれ正の例を３つ、負の例を３つ表示する\n",
    "picnumber = 0\n",
    "for i in range(10):\n",
    "    c = 0\n",
    "    for (image, label, pred) in zip(images, labels, p_val):\n",
    "        prediction,actual = np.argmax(pred), np.argmax(label)\n",
    "        if prediction != i:  # \n",
    "            continue\n",
    "        if(c<3 and i == actual) or (c>=3 and i != actual):\n",
    "            picnumber += 1\n",
    "            plotchr(image.reshape((28,28)),pred,label,picnumber)\n",
    "            c += 1\n",
    "            if c > 5:\n",
    "                break\n",
    "            "
   ]
  },
  {
   "cell_type": "code",
   "execution_count": null,
   "metadata": {
    "collapsed": true
   },
   "outputs": [],
   "source": []
  }
 ],
 "metadata": {
  "kernelspec": {
   "display_name": "Python 3",
   "language": "python",
   "name": "python3"
  },
  "language_info": {
   "codemirror_mode": {
    "name": "ipython",
    "version": 3
   },
   "file_extension": ".py",
   "mimetype": "text/x-python",
   "name": "python",
   "nbconvert_exporter": "python",
   "pygments_lexer": "ipython3",
   "version": "3.6.2"
  }
 },
 "nbformat": 4,
 "nbformat_minor": 2
}
