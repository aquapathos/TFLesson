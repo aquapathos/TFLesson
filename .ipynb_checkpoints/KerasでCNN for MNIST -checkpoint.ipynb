{
 "cells": [
  {
   "cell_type": "markdown",
   "metadata": {},
   "source": [
    "# CNN for MNIST on Keras"
   ]
  },
  {
   "cell_type": "code",
   "execution_count": 1,
   "metadata": {},
   "outputs": [
    {
     "name": "stderr",
     "output_type": "stream",
     "text": [
      "Using TensorFlow backend.\n"
     ]
    }
   ],
   "source": [
    "import keras\n",
    "from keras.datasets import mnist\n",
    "from keras.models import Sequential\n",
    "from keras.layers.core import Dense, Dropout, Activation\n",
    "from keras.optimizers import Adam\n",
    "from keras.callbacks import EarlyStopping, CSVLogger\n",
    "from keras.layers import Conv2D, MaxPooling2D, Flatten\n",
    "import keras.backend.tensorflow_backend as KTF\n",
    "import matplotlib.pyplot as plt\n",
    "import tensorflow as tf"
   ]
  },
  {
   "cell_type": "code",
   "execution_count": 2,
   "metadata": {
    "collapsed": true
   },
   "outputs": [],
   "source": [
    "batch_size = 50   # バッチサイズ\n",
    "num_classes = 10  # 分類クラス数　数字認識なので10\n",
    "epochs = 5 #  学習の繰り返し回数　"
   ]
  },
  {
   "cell_type": "markdown",
   "metadata": {},
   "source": [
    "# MNISTデータの読み込み\n",
    "```\n",
    "(images, labels), (timages, tlabels) = mnist.load_data()\n",
    "images = images.reshape(60000, 784).astype('float32')\n",
    "timages = timages.reshape(10000, 784).astype('float32')\n",
    "images /= 255  # tensorflow と違って keras で読み込んだ MNISTデータは画素が１バイトの整数表現されている\n",
    "timages /= 255\n",
    "labels = keras.utils.to_categorica(labels,10)  # keras の MNISTのラベルデータは整数\n",
    "tlabels = keras.utils.to_categorica(tlabels,10)```"
   ]
  },
  {
   "cell_type": "code",
   "execution_count": 3,
   "metadata": {},
   "outputs": [
    {
     "name": "stdout",
     "output_type": "stream",
     "text": [
      "Extracting /tmp/data/train-images-idx3-ubyte.gz\n",
      "Extracting /tmp/data/train-labels-idx1-ubyte.gz\n",
      "Extracting /tmp/data/t10k-images-idx3-ubyte.gz\n",
      "Extracting /tmp/data/t10k-labels-idx1-ubyte.gz\n"
     ]
    }
   ],
   "source": [
    "from tensorflow.examples.tutorials.mnist import input_data\n",
    "mnist = input_data.read_data_sets(\"/tmp/data/\", one_hot=True)\n",
    "images = mnist.train.images\n",
    "labels = mnist.train.labels\n",
    "timages = mnist.test.images\n",
    "tlabels = mnist.test.labels"
   ]
  },
  {
   "cell_type": "code",
   "execution_count": 4,
   "metadata": {
    "collapsed": true
   },
   "outputs": [],
   "source": [
    "images = images.reshape(-1,28,28,1)\n",
    "timages = timages.reshape(-1,28,28,1)"
   ]
  },
  {
   "cell_type": "markdown",
   "metadata": {},
   "source": [
    "### Tensorboard 用の設定"
   ]
  },
  {
   "cell_type": "code",
   "execution_count": 5,
   "metadata": {
    "collapsed": true
   },
   "outputs": [],
   "source": [
    "old_session = KTF.get_session ()   # tensorboardを使うのに必要な設定"
   ]
  },
  {
   "cell_type": "markdown",
   "metadata": {},
   "source": [
    "# モデル定義\n"
   ]
  },
  {
   "cell_type": "code",
   "execution_count": 6,
   "metadata": {
    "collapsed": true
   },
   "outputs": [],
   "source": [
    "session = tf. Session ('')     # tensorboardを使うのに必要な設定\n",
    "KTF.set_session (session)      # tensorboardをわないなら不要\n",
    "KTF.set_learning_phase (1)     # \n",
    "\n",
    "model = Sequential()\n",
    "model.add(Conv2D(32,kernel_size=(5, 5),padding='same',\n",
    "                 activation='relu', input_shape=(28,28,1)))\n",
    "model.add(MaxPooling2D(pool_size=(2, 2)),)\n",
    "model.add(Conv2D(64,kernel_size=(5, 5),padding='same',\n",
    "                 activation='relu'))\n",
    "model.add(MaxPooling2D(pool_size=(2, 2)))\n",
    "model.add(Flatten())\n",
    "model.add(Dense(1024, activation='relu'))\n",
    "model.add(Dropout(0.5))\n",
    "model.add(Dense(num_classes, activation='softmax'))"
   ]
  },
  {
   "cell_type": "code",
   "execution_count": 7,
   "metadata": {
    "scrolled": true
   },
   "outputs": [
    {
     "name": "stdout",
     "output_type": "stream",
     "text": [
      "_________________________________________________________________\n",
      "Layer (type)                 Output Shape              Param #   \n",
      "=================================================================\n",
      "conv2d_1 (Conv2D)            (None, 28, 28, 32)        832       \n",
      "_________________________________________________________________\n",
      "max_pooling2d_1 (MaxPooling2 (None, 14, 14, 32)        0         \n",
      "_________________________________________________________________\n",
      "conv2d_2 (Conv2D)            (None, 14, 14, 64)        51264     \n",
      "_________________________________________________________________\n",
      "max_pooling2d_2 (MaxPooling2 (None, 7, 7, 64)          0         \n",
      "_________________________________________________________________\n",
      "flatten_1 (Flatten)          (None, 3136)              0         \n",
      "_________________________________________________________________\n",
      "dense_1 (Dense)              (None, 1024)              3212288   \n",
      "_________________________________________________________________\n",
      "dropout_1 (Dropout)          (None, 1024)              0         \n",
      "_________________________________________________________________\n",
      "dense_2 (Dense)              (None, 10)                10250     \n",
      "=================================================================\n",
      "Total params: 3,274,634\n",
      "Trainable params: 3,274,634\n",
      "Non-trainable params: 0\n",
      "_________________________________________________________________\n"
     ]
    }
   ],
   "source": [
    "model.summary()"
   ]
  },
  {
   "cell_type": "markdown",
   "metadata": {},
   "source": [
    "# 学習の定義"
   ]
  },
  {
   "cell_type": "code",
   "execution_count": 8,
   "metadata": {
    "collapsed": true
   },
   "outputs": [],
   "source": [
    "model.compile(loss='categorical_crossentropy',\n",
    "              optimizer=Adam(lr=0.001, beta_1=0.9, beta_2=0.999, epsilon=1e-08, decay=0.0),\n",
    "              metrics=['accuracy'])"
   ]
  },
  {
   "cell_type": "markdown",
   "metadata": {},
   "source": [
    "Optimizerについては\n",
    "https://keras.io/ja/optimizers/"
   ]
  },
  {
   "cell_type": "code",
   "execution_count": 9,
   "metadata": {
    "scrolled": false
   },
   "outputs": [
    {
     "name": "stdout",
     "output_type": "stream",
     "text": [
      "Train on 49500 samples, validate on 5500 samples\n",
      "Epoch 1/5\n",
      "49500/49500 [==============================] - 457s - loss: 0.1380 - acc: 0.9568 - val_loss: 0.0487 - val_acc: 0.9865\n",
      "Epoch 2/5\n",
      "49500/49500 [==============================] - 271s - loss: 0.0454 - acc: 0.9858 - val_loss: 0.0339 - val_acc: 0.9900\n",
      "Epoch 3/5\n",
      "49500/49500 [==============================] - 265s - loss: 0.0312 - acc: 0.9903 - val_loss: 0.0315 - val_acc: 0.9909\n",
      "Epoch 4/5\n",
      "49500/49500 [==============================] - 265s - loss: 0.0242 - acc: 0.9924 - val_loss: 0.0283 - val_acc: 0.9909\n",
      "Epoch 5/5\n",
      "49500/49500 [==============================] - 283s - loss: 0.0199 - acc: 0.9937 - val_loss: 0.0339 - val_acc: 0.9902\n"
     ]
    }
   ],
   "source": [
    "es = EarlyStopping(monitor='val_loss', patience=2)   #  検証用データのロスが改善されなくなったら2エポック後に停止\n",
    "tb_cb = keras.callbacks.TensorBoard(log_dir='tblog', histogram_freq=1, write_graph=True)\n",
    "csv_logger = CSVLogger('training.log')\n",
    "hist = model.fit(images, labels,\n",
    "                 batch_size=batch_size,\n",
    "                 epochs=epochs,\n",
    "                 verbose=1,\n",
    "                 validation_split=0.1, # 10 % は検証用に利用する\n",
    "                 callbacks=[es, csv_logger,tb_cb])\n",
    "                 # callbacks=[es, csv_logger])"
   ]
  },
  {
   "cell_type": "code",
   "execution_count": 10,
   "metadata": {},
   "outputs": [
    {
     "name": "stdout",
     "output_type": "stream",
     "text": [
      "test loss: 0.0264988971651\n",
      "test acc: 0.9922\n"
     ]
    },
    {
     "data": {
      "image/png": "[encoded data removed]",
      "text/plain": [
       "<matplotlib.figure.Figure at 0x12f494278>"
      ]
     },
     "metadata": {},
     "output_type": "display_data"
    }
   ],
   "source": [
    "score = model.evaluate(timages, tlabels, verbose=0)\n",
    "print('test loss:', score[0])\n",
    "print('test acc:', score[1])\n",
    "\n",
    "# plot results\n",
    "loss = hist.history['loss']\n",
    "val_loss = hist.history['val_loss']\n",
    "acc = hist.history['acc']\n",
    "val_acc = hist.history['val_acc']\n",
    "\n",
    "epochs = len(loss)\n",
    "plt.plot(range(epochs), loss, marker='.', label='loss')\n",
    "plt.plot(range(epochs), val_loss, marker='.', label='val_loss')\n",
    "plt.plot(range(epochs), acc, marker='.', label='acc')\n",
    "plt.plot(range(epochs), val_acc, marker='.', label='val_acc')\n",
    "plt.legend(loc='best')\n",
    "plt.grid()\n",
    "plt.xlabel('epoch')\n",
    "plt.ylabel('acc')\n",
    "plt.show()"
   ]
  },
  {
   "cell_type": "code",
   "execution_count": 48,
   "metadata": {
    "collapsed": true
   },
   "outputs": [],
   "source": [
    "from inputform import input_form, javascript\n",
    "from IPython.display import HTML\n",
    "from inputform import javascript, input_form\n",
    "import numpy as np\n",
    "%matplotlib inline"
   ]
  },
  {
   "cell_type": "code",
   "execution_count": 49,
   "metadata": {
    "collapsed": true
   },
   "outputs": [],
   "source": [
    "def testeval():\n",
    "    input = np.array(testimg,dtype=np.float32).reshape(-1,28,28,1)\n",
    "    inputasimg = input.reshape(28,28)\n",
    "    output = model.predict(input)[0]\n",
    "    fig = plt.figure(figsize=(8,2))\n",
    "    subplot = fig.add_subplot(1,2,1)\n",
    "    subplot.set_xticks([])\n",
    "    subplot.set_yticks([])\n",
    "    subplot.imshow(inputasimg,cmap=plt.cm.binary)\n",
    "    subplot = fig.add_subplot(1,2,2)\n",
    "    subplot.set_xlim(-0.5,9.5)\n",
    "    subplot.set_ylim(0,1)\n",
    "    subplot.bar(range(10),output, align='center')\n",
    "    print(\"It may be {}\".format(np.argmax(output)) )"
   ]
  },
  {
   "cell_type": "code",
   "execution_count": 50,
   "metadata": {},
   "outputs": [
    {
     "data": {
      "text/html": [
       "\n",
       "<table>\n",
       "<tr>\n",
       "<td style=\"border-style: none;\">\n",
       "<div style=\"border: solid 2px #666; width: 143px; height: 144px;\">\n",
       "<canvas width=\"140\" height=\"140\"></canvas>\n",
       "</div></td>\n",
       "</tr>\n",
       "<tr>\n",
       "<td style=\"border-style: none;\"  align=\"left\" >\n",
       "<button onclick=\"clear_value()\">消去</button>\n",
       "</td>\n",
       "</tr>\n",
       "</table>\n",
       "\n",
       "<script type=\"text/Javascript\">\n",
       "    var pixels = [];\n",
       "    for (var i = 0; i < 28*28; i++) pixels[i] = 0\n",
       "    var click = 0;\n",
       "\n",
       "    var canvas = document.querySelector(\"canvas\");\n",
       "    canvas.addEventListener(\"mousemove\", function(e){\n",
       "        if (e.buttons == 1) {\n",
       "            click = 1;\n",
       "            canvas.getContext(\"2d\").fillStyle = \"rgb(0,0,0)\";\n",
       "            canvas.getContext(\"2d\").fillRect(e.offsetX, e.offsetY, 8, 8);\n",
       "            y = Math.floor(e.offsetY * 0.2)\n",
       "            x = Math.floor(e.offsetX * 0.2) + 1\n",
       "            for (var dy = 0; dy < 2; dy++){\n",
       "                for (var dx = 0; dx < 2; dx++){\n",
       "                    if ((x + dx < 28) && (y + dy < 28)){\n",
       "                        pixels[(x+dx)+(y+dy)*28] = 1\n",
       "                    }\n",
       "                }\n",
       "            }\n",
       "        } else {\n",
       "            if (click == 1) set_value()\n",
       "            click = 0;\n",
       "        }\n",
       "    });\n",
       "    \n",
       "    function set_value(){\n",
       "        var result = \"\"\n",
       "        for (var i = 0; i < 28*28; i++) result += pixels[i] + \",\"\n",
       "        var kernel = IPython.notebook.kernel;\n",
       "        kernel.execute(\"testimg = [\" + result + \"]\");\n",
       "    }\n",
       "    \n",
       "    function clear_value(){\n",
       "        canvas.getContext(\"2d\").fillStyle = \"rgb(255,255,255)\";\n",
       "        canvas.getContext(\"2d\").fillRect(0, 0, 140, 140);\n",
       "        for (var i = 0; i < 28*28; i++) pixels[i] = 0\n",
       "    }\n",
       "    \n",
       "</script>\n"
      ],
      "text/plain": [
       "<IPython.core.display.HTML object>"
      ]
     },
     "execution_count": 50,
     "metadata": {},
     "output_type": "execute_result"
    }
   ],
   "source": [
    "HTML(input_form + javascript)"
   ]
  },
  {
   "cell_type": "code",
   "execution_count": 53,
   "metadata": {},
   "outputs": [
    {
     "name": "stdout",
     "output_type": "stream",
     "text": [
      "(1, 28, 28, 1)\n",
      "It may be 5\n"
     ]
    },
    {
     "data": {
      "image/png": "[encoded data removed]",
      "text/plain": [
       "<matplotlib.figure.Figure at 0x1328b1518>"
      ]
     },
     "metadata": {},
     "output_type": "display_data"
    }
   ],
   "source": [
    "testeval()"
   ]
  },
  {
   "cell_type": "code",
   "execution_count": 54,
   "metadata": {},
   "outputs": [
    {
     "name": "stdout",
     "output_type": "stream",
     "text": [
      "(1, 28, 28, 1)\n",
      "It may be 5\n"
     ]
    },
    {
     "data": {
      "image/png": "[encoded data removed]",
      "text/plain": [
       "<matplotlib.figure.Figure at 0x1327f6588>"
      ]
     },
     "metadata": {},
     "output_type": "display_data"
    }
   ],
   "source": [
    "testeval()"
   ]
  },
  {
   "cell_type": "code",
   "execution_count": 55,
   "metadata": {},
   "outputs": [
    {
     "name": "stdout",
     "output_type": "stream",
     "text": [
      "(1, 28, 28, 1)\n",
      "It may be 6\n"
     ]
    },
    {
     "data": {
      "image/png": "[encoded data removed]",
      "text/plain": [
       "<matplotlib.figure.Figure at 0x1328ae3c8>"
      ]
     },
     "metadata": {},
     "output_type": "display_data"
    }
   ],
   "source": [
    "testeval()"
   ]
  },
  {
   "cell_type": "code",
   "execution_count": null,
   "metadata": {
    "collapsed": true
   },
   "outputs": [],
   "source": []
  }
 ],
 "metadata": {
  "kernelspec": {
   "display_name": "Python 3",
   "language": "python",
   "name": "python3"
  },
  "language_info": {
   "codemirror_mode": {
    "name": "ipython",
    "version": 3
   },
   "file_extension": ".py",
   "mimetype": "text/x-python",
   "name": "python",
   "nbconvert_exporter": "python",
   "pygments_lexer": "ipython3",
   "version": "3.6.2"
  }
 },
 "nbformat": 4,
 "nbformat_minor": 2
}
