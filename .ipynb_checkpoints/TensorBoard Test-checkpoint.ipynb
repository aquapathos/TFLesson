{
 "cells": [
  {
   "cell_type": "code",
   "execution_count": 1,
   "metadata": {
    "collapsed": true
   },
   "outputs": [],
   "source": [
    "import numpy as np\n",
    "import matplotlib.pyplot as plt\n",
    "from tensorflow.examples.tutorials.mnist import input_data\n",
    "import seaborn as sns\n",
    "import tensorflow as tf\n",
    "from tensorflow.contrib.deprecated import histogram_summary\n",
    "import os.path,shutil\n",
    "%matplotlib inline\n",
    "np.random.seed(20170731)\n",
    "tf.set_random_seed(20170731)"
   ]
  },
  {
   "cell_type": "code",
   "execution_count": 2,
   "metadata": {
    "collapsed": true
   },
   "outputs": [],
   "source": [
    "def plotchr(image,label,i):\n",
    "    sns.set_context(\"talk\")\n",
    "    plt.subplot(1,6,i+1)\n",
    "    plt.xticks([])\n",
    "    plt.yticks([])\n",
    "    plt.title(\"%d\" % np.argmax(label))\n",
    "    plt.imshow(image,cmap=plt.cm.gray_r)"
   ]
  },
  {
   "cell_type": "code",
   "execution_count": 3,
   "metadata": {},
   "outputs": [
    {
     "name": "stdout",
     "output_type": "stream",
     "text": [
      "Extracting /tmp/data/train-images-idx3-ubyte.gz\n",
      "Extracting /tmp/data/train-labels-idx1-ubyte.gz\n",
      "Extracting /tmp/data/t10k-images-idx3-ubyte.gz\n",
      "Extracting /tmp/data/t10k-labels-idx1-ubyte.gz\n"
     ]
    }
   ],
   "source": [
    "mnist = input_data.read_data_sets(\"/tmp/data/\", one_hot=True)"
   ]
  },
  {
   "cell_type": "markdown",
   "metadata": {},
   "source": [
    "# ネットワーク構成のクラスを定義"
   ]
  },
  {
   "cell_type": "code",
   "execution_count": 33,
   "metadata": {
    "collapsed": true
   },
   "outputs": [],
   "source": [
    "# ネットワークモデルの定義\n",
    "class Network:\n",
    "    def __init__(self, num_units):\n",
    "        with tf.Graph().as_default():\n",
    "            self.prepare_model(num_units)\n",
    "            self.prepare_session()\n",
    "            \n",
    "    def prepare_model(self, num_units):\n",
    "        with tf.name_scope(\"input\") as scope:\n",
    "            x = tf.placeholder(tf.float32, [None, 784], name=\"input\")\n",
    "                               \n",
    "        with tf.name_scope(\"hidden\") as scpoe:\n",
    "            w1 = tf.Variable(tf.truncated_normal([784, num_units]), name=\"weights\")\n",
    "            b1 = tf.Variable(tf.zeros([num_units]), name=\"biases\")\n",
    "            h1 = tf.nn.relu(tf.matmul(x,w1)+b1, name=\"hidden1\")\n",
    "            # h1 = tf.sigmoid(tf.matmul(x,w1)+b1, name=\"hidden1\")\n",
    "\n",
    "        with tf.name_scope(\"output\") as scope:                       \n",
    "            w0 = tf.Variable(tf.zeros([num_units,10]), name=\"weight\")\n",
    "            b0 = tf.Variable(tf.zeros([10]), name=\"biases\")\n",
    "            # h0 = tf.nn.tanh(tf.matmul(h1,w0)+b0, name=\"sigmoid_output\")\n",
    "            # out = tf.nn.softmax(h0, name = \"softmax\")\n",
    "            out = tf.nn.softmax(tf.matmul(h1,w0)+b0, name=\"softmax\")\n",
    "                               \n",
    "        with tf.name_scope(\"Optimizer\") as scope:\n",
    "            ideal = tf.placeholder(tf.float32, [None, 10], name=\"ideal_output\")\n",
    "            loss = -tf.reduce_sum(ideal*tf.log(out), name=\"loss\")\n",
    "            tf.summary.scalar(\"cross_entropy\", loss)\n",
    "            # train_step = tf.train.GradientDescentOptimizer(0.00002).minimize(loss)\n",
    "            train_step = tf.train.AdamOptimizer().minimize(loss)\n",
    "                               \n",
    "        with tf.name_scope(\"Evaluator\") as scope:\n",
    "            correct_prediction = tf.equal(tf.argmax(out,1),tf.argmax(ideal,1))\n",
    "            accuracy = tf.reduce_mean(tf.cast(correct_prediction, tf.float32), name=\"accuracy\")\n",
    "            _ = tf.summary.scalar(\"accuracy\", accuracy)\n",
    "                               \n",
    "        with tf.name_scope(\"Histgram\") as scope:\n",
    "            tf.summary.histogram(\"weight_hidden\",w1)\n",
    "            _ = tf.summary.histogram(\"biases_hidden\",b1)\n",
    "            _ = tf.summary.histogram(\"weight_output\",w0)\n",
    "            _ = tf.summary.histogram(\"biases_output\",b0)\n",
    "            # _ = tf.summary.histogram(\"hidden_0\",h0)\n",
    "            _ = tf.summary.histogram(\"hidden_1\",h1)\n",
    "            _ = tf.summary.histogram(\"out\",out)\n",
    "        \n",
    "        self.x, self.ideal, self.out = x, ideal, out\n",
    "        self.train_step = train_step\n",
    "        self.loss, self.accuracy = loss, accuracy\n",
    "                               \n",
    "    def prepare_session(self):\n",
    "        sess = tf.InteractiveSession()\n",
    "        sess.run(tf.global_variables_initializer())\n",
    "        # sess.run(tf.local_variables_initializer())\n",
    "        summary = tf.summary.merge_all()\n",
    "        writer = tf.summary.FileWriter(\"log\", sess.graph)\n",
    "                               \n",
    "        self.sess = sess\n",
    "        self.summary = summary\n",
    "        self.writer = writer"
   ]
  },
  {
   "cell_type": "markdown",
   "metadata": {},
   "source": [
    "# 学習セッション"
   ]
  },
  {
   "cell_type": "code",
   "execution_count": 34,
   "metadata": {},
   "outputs": [
    {
     "name": "stdout",
     "output_type": "stream",
     "text": [
      "Step: 100, Loss: 2708.977051, Accuracy: 0.917700\n",
      "Step: 200, Loss: 2226.019531, Accuracy: 0.933300\n",
      "Step: 300, Loss: 1794.644897, Accuracy: 0.947300\n",
      "Step: 400, Loss: 1649.912109, Accuracy: 0.951200\n",
      "Step: 500, Loss: 1524.761230, Accuracy: 0.955100\n"
     ]
    }
   ],
   "source": [
    "nn = Network(1024)\n",
    "\n",
    "times = 0\n",
    "for _ in range(500):\n",
    "    times += 1\n",
    "    batch_xs,batch_ts = mnist.train.next_batch(100)\n",
    "    nn.sess.run(nn.train_step, feed_dict={nn.x:batch_xs, nn.ideal:batch_ts})\n",
    "    if times % 100 == 0:\n",
    "        summary,loss_val, acc_val = nn.sess.run([nn.summary,nn.loss,nn.accuracy],\n",
    "            feed_dict={nn.x:mnist.test.images, nn.ideal:mnist.test.labels})\n",
    "        nn.writer.add_summary(summary,times)\n",
    "        if times % 100 == 0:\n",
    "            print(\"Step: {0:d}, Loss: {1:f}, Accuracy: {2:f}\".format(times, loss_val, acc_val))"
   ]
  },
  {
   "cell_type": "markdown",
   "metadata": {
    "collapsed": true
   },
   "source": [
    "# 96%"
   ]
  },
  {
   "cell_type": "markdown",
   "metadata": {},
   "source": [
    "# 学習結果を用いて文字認識してみる"
   ]
  },
  {
   "cell_type": "code",
   "execution_count": null,
   "metadata": {
    "collapsed": true
   },
   "outputs": [],
   "source": [
    "plt.figure(figsize=(8,15))\n",
    "def plotchr(image,label1,label2, i):\n",
    "    sns.set_context(\"talk\")\n",
    "    plt.subplot(10,6,i)\n",
    "    plt.xticks([])\n",
    "    plt.yticks([])\n",
    "    plt.title(\"%d / %d\" % (np.argmax(label1),np.argmax(label2)))\n",
    "    plt.imshow(image,cmap=plt.cm.gray_r)\n",
    "    \n",
    "images, labels = mnist.test.images, mnist.test.labels\n",
    "p_val = nn.sess.run(nn.out, feed_dict={nn.x:images, nn.ideal:labels})\n",
    "\n",
    "# 0～9 と判定されたものについて、それぞれ正の例を３つ、負の例を３つ表示する\n",
    "picnumber = 0\n",
    "for i in range(10):\n",
    "    c = 0\n",
    "    for (image, label, pred) in zip(images, labels, p_val):\n",
    "        prediction,actual = np.argmax(pred), np.argmax(label)\n",
    "        if prediction != i:  # \n",
    "            continue\n",
    "        if(c<3 and i == actual) or (c>=3 and i != actual):\n",
    "            picnumber += 1\n",
    "            plotchr(image.reshape((28,28)),pred,label,picnumber)\n",
    "            c += 1\n",
    "            if c > 5:\n",
    "                break\n",
    "            "
   ]
  },
  {
   "cell_type": "code",
   "execution_count": null,
   "metadata": {
    "collapsed": true
   },
   "outputs": [],
   "source": []
  }
 ],
 "metadata": {
  "kernelspec": {
   "display_name": "Python 3",
   "language": "python",
   "name": "python3"
  },
  "language_info": {
   "codemirror_mode": {
    "name": "ipython",
    "version": 3
   },
   "file_extension": ".py",
   "mimetype": "text/x-python",
   "name": "python",
   "nbconvert_exporter": "python",
   "pygments_lexer": "ipython3",
   "version": "3.6.2"
  }
 },
 "nbformat": 4,
 "nbformat_minor": 2
}
