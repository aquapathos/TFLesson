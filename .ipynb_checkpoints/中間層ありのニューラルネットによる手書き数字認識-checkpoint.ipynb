{
 "cells": [
  {
   "cell_type": "code",
   "execution_count": 1,
   "metadata": {
    "collapsed": true
   },
   "outputs": [],
   "source": [
    "import numpy as np\n",
    "import matplotlib.pyplot as plt\n",
    "from tensorflow.examples.tutorials.mnist import input_data\n",
    "import seaborn as sns\n",
    "import tensorflow as tf\n",
    "from tensorflow.contrib.deprecated import histogram_summary\n",
    "%matplotlib inline\n",
    "np.random.seed(20170731)\n",
    "tf.set_random_seed(20170731)"
   ]
  },
  {
   "cell_type": "code",
   "execution_count": 2,
   "metadata": {
    "collapsed": true
   },
   "outputs": [],
   "source": [
    "def plotchr(image,label,i):\n",
    "    sns.set_context(\"talk\")\n",
    "    plt.subplot(1,6,i+1)\n",
    "    plt.xticks([])\n",
    "    plt.yticks([])\n",
    "    plt.title(\"%d\" % np.argmax(label))\n",
    "    plt.imshow(image,cmap=plt.cm.gray_r)"
   ]
  },
  {
   "cell_type": "code",
   "execution_count": 3,
   "metadata": {},
   "outputs": [
    {
     "name": "stdout",
     "output_type": "stream",
     "text": [
      "Extracting /tmp/data/train-images-idx3-ubyte.gz\n",
      "Extracting /tmp/data/train-labels-idx1-ubyte.gz\n",
      "Extracting /tmp/data/t10k-images-idx3-ubyte.gz\n",
      "Extracting /tmp/data/t10k-labels-idx1-ubyte.gz\n"
     ]
    }
   ],
   "source": [
    "mnist = input_data.read_data_sets(\"/tmp/data/\", one_hot=True)"
   ]
  },
  {
   "cell_type": "markdown",
   "metadata": {},
   "source": [
    "# モデルの作成"
   ]
  },
  {
   "cell_type": "code",
   "execution_count": 4,
   "metadata": {
    "collapsed": true
   },
   "outputs": [],
   "source": [
    "num_units = 1024\n",
    "# モデルの作成\n",
    "x = tf.placeholder(tf.float32, [None, 784])\n",
    "\n",
    "w1 = tf.Variable(tf.truncated_normal([784, num_units]))\n",
    "b1 = tf.Variable(tf.zeros([num_units]))\n",
    "# h1 = tf.nn.relu(tf.matmul(x,w1)+b1)\n",
    "h1 = tf.sigmoid(tf.matmul(x,w1)+b1)\n",
    "\n",
    "w0 = tf.Variable(tf.zeros([num_units,10]))\n",
    "b0 = tf.Variable(tf.zeros([10]))\n",
    "\n",
    "h2 = tf.nn.sigmoid(tf.matmul(h1,w0)+b0)\n",
    "out = tf.nn.softmax(h2)\n",
    "\n",
    "with tf.name_scope(\"Histgram\") as scope:\n",
    "    w_hist = tf.summary.histogram(\"weight\",w1)\n",
    "    b_hist = tf.summary.histogram(\"biases\",b1)\n",
    "    h2_hist = tf.summary.histogram(\"h2\",h2)\n",
    "    out_hist = tf.summary.histogram(\"out\",out)\n"
   ]
  },
  {
   "cell_type": "markdown",
   "metadata": {},
   "source": [
    "# 誤差関数とオプティマイザーを定義"
   ]
  },
  {
   "cell_type": "code",
   "execution_count": 5,
   "metadata": {
    "collapsed": true
   },
   "outputs": [],
   "source": [
    "t = tf.placeholder(tf.float32, [None, 10], name=\"ideal-output\")\n",
    "\n",
    "with tf.name_scope(\"Evaluations\") as scope:\n",
    "    loss = -tf.reduce_sum(t*tf.log(out))\n",
    "    _ = tf.summary.scalar(\"cross_entropy\", loss)\n",
    "    correct_prediction = tf.equal(tf.argmax(out,1),tf.argmax(t,1))\n",
    "    accuracy = tf.reduce_mean(tf.cast(correct_prediction, tf.float32))\n",
    "    _ = tf.summary.scalar(\"accuracy\", accuracy)\n",
    "\n",
    "train_step = tf.train.AdamOptimizer().minimize(loss)\n",
    "#train_step = tf.train.GradientDescentOptimizer(0.003).minimize(loss)\n",
    "\n",
    "merged = tf.summary.merge_all()\n"
   ]
  },
  {
   "cell_type": "markdown",
   "metadata": {},
   "source": [
    "# 学習セッション"
   ]
  },
  {
   "cell_type": "code",
   "execution_count": 7,
   "metadata": {},
   "outputs": [
    {
     "name": "stdout",
     "output_type": "stream",
     "text": [
      "Step: 1000, Loss: 15354.278320, Accuracy: 0.934400\n",
      "Step: 2000, Loss: 15168.461914, Accuracy: 0.949000\n",
      "Step: 3000, Loss: 15075.252930, Accuracy: 0.957000\n",
      "Step: 4000, Loss: 15028.835938, Accuracy: 0.961400\n",
      "Step: 5000, Loss: 14978.823242, Accuracy: 0.966300\n"
     ]
    }
   ],
   "source": [
    "with tf.Session() as sess:\n",
    "    writer = tf.summary.FileWriter(\"test\", sess.graph)\n",
    "    sess.run(tf.global_variables_initializer())\n",
    "    sess.run(tf.local_variables_initializer())\n",
    "    for i in range(6):\n",
    "        tf.summary.image('test', (tf.reshape(mnist.test.images[i], [-1,28,28,1])), 10)\n",
    "    \n",
    "    times = 0\n",
    "    for _ in range(5000):\n",
    "        times += 1\n",
    "        batch_xs,batch_ts = mnist.train.next_batch(100)\n",
    "        sess.run(train_step, feed_dict={x:batch_xs, t:batch_ts})\n",
    "        if times % 100 == 0:\n",
    "            summm,loss_val, acc_val = sess.run([merged,loss,accuracy],\n",
    "                feed_dict={x:mnist.test.images, t:mnist.test.labels})\n",
    "            writer.add_summary(summm,times)\n",
    "            if times % 1000 == 0:\n",
    "                print(\"Step: {0:d}, Loss: {1:f}, Accuracy: {2:f}\".format(times, loss_val, acc_val))"
   ]
  },
  {
   "cell_type": "code",
   "execution_count": null,
   "metadata": {
    "collapsed": true
   },
   "outputs": [],
   "source": []
  }
 ],
 "metadata": {
  "kernelspec": {
   "display_name": "Python 3",
   "language": "python",
   "name": "python3"
  },
  "language_info": {
   "codemirror_mode": {
    "name": "ipython",
    "version": 3
   },
   "file_extension": ".py",
   "mimetype": "text/x-python",
   "name": "python",
   "nbconvert_exporter": "python",
   "pygments_lexer": "ipython3",
   "version": "3.6.2"
  }
 },
 "nbformat": 4,
 "nbformat_minor": 2
}
