{
  "nbformat": 4,
  "nbformat_minor": 0,
  "metadata": {
    "colab": {
      "name": "TSP",
      "version": "0.3.2",
      "provenance": [],
      "collapsed_sections": [],
      "include_colab_link": true
    },
    "kernelspec": {
      "name": "python3",
      "display_name": "Python 3"
    },
    "accelerator": "GPU"
  },
  "cells": [
    {
      "cell_type": "markdown",
      "metadata": {
        "id": "view-in-github",
        "colab_type": "text"
      },
      "source": [
        "<a href=\"https://colab.research.google.com/github/aquapathos/TFLesson/blob/master/TSP.ipynb\" target=\"_parent\"><img src=\"https://colab.research.google.com/assets/colab-badge.svg\" alt=\"Open In Colab\"/></a>"
      ]
    },
    {
      "cell_type": "code",
      "metadata": {
        "id": "bUGhsal6OJrN",
        "colab_type": "code",
        "colab": {}
      },
      "source": [
        "import cv2\n",
        "from google.colab.patches import cv2_imshow\n",
        "import matplotlib.pyplot as plt\n",
        "import numpy as np\n",
        "import tensorflow.compat.v1 as tf\n",
        "# import tensorflow as tf\n",
        "\n",
        "XSIZE = 192\n",
        "YSIZE = 192\n",
        "MINSPAN = 4 # 格子点間隔"
      ],
      "execution_count": 0,
      "outputs": []
    },
    {
      "cell_type": "code",
      "metadata": {
        "id": "PwlGOaIAP855",
        "colab_type": "code",
        "colab": {}
      },
      "source": [
        "# 巡回する点を生成する関数\n",
        "def genTSP(pnum = 1):\n",
        "  tspimg = np.zeros((YSIZE,XSIZE),np.uint8)\n",
        "  posnumA = np.random.randint(0,(XSIZE-MINSPAN)//MINSPAN*(YSIZE-MINSPAN)//MINSPAN,pnum)  \n",
        "  posnumA = np.unique(posnumA)\n",
        "  posA = []\n",
        "  for i,n in enumerate(posnumA):\n",
        "    y = MINSPAN*(n//((XSIZE-MINSPAN)//MINSPAN))+MINSPAN//2\n",
        "    x = MINSPAN*(n%((XSIZE-MINSPAN)//MINSPAN))+MINSPAN//2\n",
        "    posA.append([x,y])\n",
        "    cv2.rectangle(tspimg,(posA[i][0]-1,posA[i][1]-1),(posA[i][0]+1,posA[i][1]+1),255,-1)\n",
        "  return posA, tspimg"
      ],
      "execution_count": 0,
      "outputs": []
    },
    {
      "cell_type": "code",
      "metadata": {
        "id": "6orkbPQsQuO0",
        "colab_type": "code",
        "outputId": "d4a1ffc8-e6b4-44a8-c6fb-5e54148e447c",
        "colab": {
          "base_uri": "https://localhost:8080/",
          "height": 209
        }
      },
      "source": [
        "ret, img = genTSP(10)\n",
        "cv2_imshow(img)"
      ],
      "execution_count": 0,
      "outputs": [
        {
          "output_type": "display_data",
          "data": {
            "image/png": "[encoded data removed]",
            "text/plain": [
              "<PIL.Image.Image image mode=L size=192x192 at 0x7FF99D470BA8>"
            ]
          },
          "metadata": {
            "tags": []
          }
        }
      ]
    },
    {
      "cell_type": "code",
      "metadata": {
        "id": "9NsVCqKRQ8y5",
        "colab_type": "code",
        "outputId": "7889f920-476b-4b3a-9b24-68d4fbd47ce7",
        "colab": {
          "base_uri": "https://localhost:8080/",
          "height": 267
        }
      },
      "source": [
        "plt.figure(figsize=(12, 6), dpi=100)\n",
        "for i in range(4):\n",
        "    plt.subplot(1, 4, i+1)\n",
        "    ret, img = genTSP(np.random.randint(10,25))\n",
        "    plt.imshow(img)\n",
        "    plt.axis('off')"
      ],
      "execution_count": 0,
      "outputs": [
        {
          "output_type": "display_data",
          "data": {
            "image/png": "[encoded data removed]",
            "text/plain": [
              "<Figure size 1200x600 with 4 Axes>"
            ]
          },
          "metadata": {
            "tags": []
          }
        }
      ]
    },
    {
      "cell_type": "markdown",
      "metadata": {
        "id": "gZgc9VWi3CQN",
        "colab_type": "text"
      },
      "source": [
        "https://github.com/jvkersch/pyconcorde"
      ]
    },
    {
      "cell_type": "code",
      "metadata": {
        "id": "4DV0RDjmUBYq",
        "colab_type": "code",
        "outputId": "07090ce5-3dab-45e0-a879-d6ab0c65b17a",
        "colab": {
          "base_uri": "https://localhost:8080/",
          "height": 230
        }
      },
      "source": [
        "!git clone https://github.com/jvkersch/pyconcorde\n",
        "% cd pyconcorde\n",
        "!pip install -e ."
      ],
      "execution_count": 0,
      "outputs": [
        {
          "output_type": "stream",
          "text": [
            "Cloning into 'pyconcorde'...\n",
            "remote: Enumerating objects: 195, done.\u001b[K\n",
            "remote: Total 195 (delta 0), reused 0 (delta 0), pack-reused 195\u001b[K\n",
            "Receiving objects: 100% (195/195), 108.28 KiB | 9.02 MiB/s, done.\n",
            "Resolving deltas: 100% (102/102), done.\n",
            "/content/pyconcorde\n",
            "Obtaining file:///content/pyconcorde\n",
            "Requirement already satisfied: cython>=0.22.0 in /usr/local/lib/python3.6/dist-packages (from pyconcorde==0.1.0) (0.29.10)\n",
            "Requirement already satisfied: numpy>=1.10.0 in /usr/local/lib/python3.6/dist-packages (from pyconcorde==0.1.0) (1.16.4)\n",
            "Installing collected packages: pyconcorde\n",
            "  Running setup.py develop for pyconcorde\n",
            "Successfully installed pyconcorde\n"
          ],
          "name": "stdout"
        }
      ]
    },
    {
      "cell_type": "code",
      "metadata": {
        "id": "9aLW7cq4XRP5",
        "colab_type": "code",
        "outputId": "11056f9c-884f-4355-fc4b-960008d58721",
        "colab": {
          "base_uri": "https://localhost:8080/",
          "height": 209
        }
      },
      "source": [
        "from concorde.tsp import TSPSolver\n",
        "from concorde.tests.data_utils import get_dataset_path\n",
        "\n",
        "data, img = genTSP(10)\n",
        "cv2_imshow(img)\n",
        "xs = [x for [x,y] in data]\n",
        "ys = [y for [x,y] in data]\n",
        "solver = TSPSolver.from_data(xs,ys,norm=\"EUC_2D\")\n"
      ],
      "execution_count": 0,
      "outputs": [
        {
          "output_type": "display_data",
          "data": {
            "image/png": "[encoded data removed]",
            "text/plain": [
              "<PIL.Image.Image image mode=L size=192x192 at 0x7FF99D2F6E10>"
            ]
          },
          "metadata": {
            "tags": []
          }
        }
      ]
    },
    {
      "cell_type": "code",
      "metadata": {
        "id": "KEGPEE9JwRVV",
        "colab_type": "code",
        "outputId": "aba2cedd-4fe1-4ddd-cf1e-81e144d7cf92",
        "colab": {
          "base_uri": "https://localhost:8080/",
          "height": 227
        }
      },
      "source": [
        "solution = solver.solve()\n",
        "color = cv2.cvtColor(img,cv2.COLOR_GRAY2BGR)\n",
        "color = color - np.array([255,255,0],np.uint8)\n",
        "ps = solution.tour\n",
        "cv2.line(color,(xs[ps[0]],ys[ps[0]]),(xs[ps[-1]],ys[ps[-1]]),(255,255,255),1)\n",
        "p0 = ps[0]\n",
        "for p1 in ps[1:]:\n",
        "  color = cv2.line(color,(xs[p0],ys[p0]),(xs[p1],ys[p1]),(255,255,255),1)\n",
        "  p0 = p1\n",
        "print(solution.tour, \"tour length\",solution.optimal_value)\n",
        "cv2_imshow(color)"
      ],
      "execution_count": 0,
      "outputs": [
        {
          "output_type": "stream",
          "text": [
            "[0 1 6 7 8 9 2 3 5 4] tour length 516.0\n"
          ],
          "name": "stdout"
        },
        {
          "output_type": "display_data",
          "data": {
            "image/png": "[encoded data removed]",
            "text/plain": [
              "<PIL.Image.Image image mode=RGB size=192x192 at 0x7FF99AAD6F60>"
            ]
          },
          "metadata": {
            "tags": []
          }
        }
      ]
    },
    {
      "cell_type": "code",
      "metadata": {
        "id": "ZLm2arYf3T3N",
        "colab_type": "code",
        "outputId": "466459ee-d0e3-4153-d2e7-d0a262d59622",
        "colab": {
          "base_uri": "https://localhost:8080/",
          "height": 267
        }
      },
      "source": [
        "plt.figure(figsize=(12, 6), dpi=100)\n",
        "for i in range(4):\n",
        "    plt.subplot(1, 4, i+1)\n",
        "    data, img = genTSP(np.random.randint(10,25))\n",
        "    xs = [x for [x,y] in data]\n",
        "    ys = [y for [x,y] in data]\n",
        "    solver = TSPSolver.from_data(xs,ys,norm=\"EUC_2D\")\n",
        "    solution = solver.solve()\n",
        "    color = cv2.cvtColor(img,cv2.COLOR_GRAY2BGR)\n",
        "    color = color - np.array([255,255,0],np.uint8)\n",
        "    ps = solution.tour\n",
        "    cv2.line(color,(xs[ps[0]],ys[ps[0]]),(xs[ps[-1]],ys[ps[-1]]),(255,255,255),1)\n",
        "    p0 = ps[0]\n",
        "    for p1 in ps[1:]:\n",
        "      color = cv2.line(color,(xs[p0],ys[p0]),(xs[p1],ys[p1]),(255,255,255),1)\n",
        "      p0 = p1\n",
        "    plt.imshow(color)\n",
        "    plt.axis('off')"
      ],
      "execution_count": 0,
      "outputs": [
        {
          "output_type": "display_data",
          "data": {
            "image/png": "[encoded data removed]",
            "text/plain": [
              "<Figure size 1200x600 with 4 Axes>"
            ]
          },
          "metadata": {
            "tags": []
          }
        }
      ]
    },
    {
      "cell_type": "markdown",
      "metadata": {
        "id": "bEN2ENMPDB0S",
        "colab_type": "text"
      },
      "source": [
        "# 基礎実験\n",
        "- 48ｘ48サイズのエリアで10～25の訪問先をランダムに生成（格子間隔４）\n",
        "- 200 の TSP 問題を生成"
      ]
    },
    {
      "cell_type": "code",
      "metadata": {
        "id": "XtG6esKj3v6s",
        "colab_type": "code",
        "colab": {}
      },
      "source": [
        "XSIZE = 48\n",
        "YSIZE = 48\n",
        "MINSPAN = 4 # 格子点間隔"
      ],
      "execution_count": 0,
      "outputs": []
    },
    {
      "cell_type": "markdown",
      "metadata": {
        "id": "Nbsk_lN-Djan",
        "colab_type": "text"
      },
      "source": [
        "# サンプル"
      ]
    },
    {
      "cell_type": "code",
      "metadata": {
        "id": "eoaGHqBM69Hr",
        "colab_type": "code",
        "outputId": "abca2fa0-fc86-495f-e2ca-4b3b7cf4fb4d",
        "colab": {
          "base_uri": "https://localhost:8080/",
          "height": 266
        }
      },
      "source": [
        "plt.figure(figsize=(12, 6), dpi=100)\n",
        "for i in range(4):\n",
        "    plt.subplot(1, 4, i+1)\n",
        "    data, img = genTSP(np.random.randint(10,25))\n",
        "    xs = [x for [x,y] in data]\n",
        "    ys = [y for [x,y] in data]\n",
        "    solver = TSPSolver.from_data(xs,ys,norm=\"EUC_2D\")\n",
        "    solution = solver.solve()\n",
        "    color = cv2.cvtColor(img,cv2.COLOR_GRAY2BGR)\n",
        "    color = color - np.array([255,255,0],np.uint8)\n",
        "    ps = solution.tour\n",
        "    cv2.line(color,(xs[ps[0]],ys[ps[0]]),(xs[ps[-1]],ys[ps[-1]]),(255,255,255),1)\n",
        "    p0 = ps[0]\n",
        "    for p1 in ps[1:]:\n",
        "      color = cv2.line(color,(xs[p0],ys[p0]),(xs[p1],ys[p1]),(255,255,255),1)\n",
        "      p0 = p1\n",
        "    plt.imshow(color)\n",
        "    plt.axis('off')"
      ],
      "execution_count": 0,
      "outputs": [
        {
          "output_type": "display_data",
          "data": {
            "image/png": "[encoded data removed]",
            "text/plain": [
              "<Figure size 1200x600 with 4 Axes>"
            ]
          },
          "metadata": {
            "tags": []
          }
        }
      ]
    },
    {
      "cell_type": "markdown",
      "metadata": {
        "id": "PrgJ5wRyDwTu",
        "colab_type": "text"
      },
      "source": [
        "# 学習用データの生成\n",
        "200の問題を生成\n",
        "- X：入力の配列\n",
        "- Y：理想解の配列"
      ]
    },
    {
      "cell_type": "code",
      "metadata": {
        "id": "cZeGmhSw9eV8",
        "colab_type": "code",
        "colab": {}
      },
      "source": [
        "X,Y = [],[]\n",
        "for i in range(200):\n",
        "    data, img = genTSP(np.random.randint(10,25))\n",
        "    X.append(img)\n",
        "    xs = [x for [x,y] in data]\n",
        "    ys = [y for [x,y] in data]\n",
        "    solver = TSPSolver.from_data(xs,ys,norm=\"EUC_2D\")\n",
        "    solution = solver.solve()\n",
        "    simg = img.copy()\n",
        "    ps = solution.tour\n",
        "    cv2.line(simg,(xs[ps[0]],ys[ps[0]]),(xs[ps[-1]],ys[ps[-1]]),255,1)\n",
        "    p0 = ps[0]\n",
        "    for p1 in ps[1:]:\n",
        "      color = cv2.line(simg,(xs[p0],ys[p0]),(xs[p1],ys[p1]),255,1)\n",
        "      p0 = p1\n",
        "    Y.append(simg)"
      ],
      "execution_count": 0,
      "outputs": []
    },
    {
      "cell_type": "markdown",
      "metadata": {
        "id": "AZiZE7fXC-YA",
        "colab_type": "text"
      },
      "source": [
        "# 確認\n",
        "200のうちの先頭50個だけ表示してみる"
      ]
    },
    {
      "cell_type": "code",
      "metadata": {
        "id": "wAHie4u5_gHL",
        "colab_type": "code",
        "outputId": "cac44098-495b-408f-dbba-095ec8636a40",
        "colab": {
          "base_uri": "https://localhost:8080/",
          "height": 584
        }
      },
      "source": [
        "plt.figure(figsize=(12, 6), dpi=100)\n",
        "simg = np.ones((550,500),np.uint8)*255\n",
        "for i in range(5):\n",
        "  for j in range(10):\n",
        "    simg[105*i:105*i+48,50*j:50*j+48] = X[5*i+j]\n",
        "    simg[105*i+50:105*i+98,50*j:50*j+48] = Y[5*i+j]\n",
        "cv2_imshow(simg)"
      ],
      "execution_count": 0,
      "outputs": [
        {
          "output_type": "display_data",
          "data": {
            "image/png": "[encoded data removed]",
            "text/plain": [
              "<PIL.Image.Image image mode=L size=500x550 at 0x7FF999ED2550>"
            ]
          },
          "metadata": {
            "tags": []
          }
        },
        {
          "output_type": "display_data",
          "data": {
            "text/plain": [
              "<Figure size 1200x600 with 0 Axes>"
            ]
          },
          "metadata": {
            "tags": []
          }
        }
      ]
    },
    {
      "cell_type": "markdown",
      "metadata": {
        "id": "kqGfyWpXFE6v",
        "colab_type": "text"
      },
      "source": [
        "# データの水増し\n",
        "[[1, 2, 3],  \n",
        " [4, 5, 6],   \n",
        " [7, 8, 9]])  \n",
        "- flip axis=0 上下反転  \n",
        "[[7 8 9]  \n",
        " [4 5 6]  \n",
        " [1 2 3]]  \n",
        "- flip axis=1 左右反転  \n",
        "[[3 2 1]  \n",
        " [6 5 4]  \n",
        " [9 8 7]]  \n",
        "- flip axis=None  \n",
        "[[9 8 7]  \n",
        " [6 5 4]  \n",
        " [3 2 1]]  \n",
        "- rot90  k=1 反時計回り90度   \n",
        "[[3 6 9]  \n",
        " [2 5 8]  \n",
        " [1 4 7]]  \n",
        "- rot90 k=1 , flip axis=0  \n",
        "[[1 4 7]  \n",
        " [2 5 8]  \n",
        " [3 6 9]]  \n",
        "- rot90  k=-1  時計回り90度  \n",
        "[[7 4 1]  \n",
        " [8 5 2]  \n",
        " [9 6 3]]  \n",
        "- rot90 k=-1 , flip axis=0  \n",
        "[[9 6 3]  \n",
        " [8 5 2]  \n",
        " [7 4 1]]  \n",
        "\n",
        "- http://pynote.hatenablog.com/entry/numpy-array-manipulation-functions"
      ]
    },
    {
      "cell_type": "code",
      "metadata": {
        "id": "G3S5bir0_jZJ",
        "colab_type": "code",
        "colab": {}
      },
      "source": [
        "for i in range(200):\n",
        "  x,y = X[i],Y[i]\n",
        "  X.append(np.flip(x,axis=0))\n",
        "  Y.append(np.flip(y,axis=0))\n",
        "  X.append(np.flip(x,axis=1))\n",
        "  Y.append(np.flip(y,axis=1))\n",
        "  X.append(np.flip(x,axis=None))\n",
        "  Y.append(np.flip(y,axis=None))\n",
        "  X.append(np.rot90(x,k=1))\n",
        "  Y.append(np.rot90(y,k=1))\n",
        "  X.append(np.flip(X[-1],axis=0))\n",
        "  Y.append(np.flip(Y[-1],axis=0))\n",
        "  X.append(np.rot90(x,k=-1))\n",
        "  Y.append(np.rot90(y,k=-1))    \n",
        "  X.append(np.flip(X[-1],axis=0))\n",
        "  Y.append(np.flip(Y[-1],axis=0))"
      ],
      "execution_count": 0,
      "outputs": []
    },
    {
      "cell_type": "code",
      "metadata": {
        "id": "fUYZOLmhGojU",
        "colab_type": "code",
        "outputId": "19035318-b757-406e-a47b-8c298409869c",
        "colab": {
          "base_uri": "https://localhost:8080/",
          "height": 35
        }
      },
      "source": [
        "import keras\n",
        "from keras.models import Sequential\n",
        "from keras.layers import Conv2D, MaxPooling2D, Flatten,UpSampling2D,Conv2DTranspose\n",
        "import keras.backend.tensorflow_backend as KTF\n",
        "from keras.callbacks import EarlyStopping, CSVLogger\n",
        "from keras.layers.core import Dense, Dropout, Activation\n",
        "from keras.optimizers import Adam\n",
        "\n",
        "from keras.utils import to_categorical"
      ],
      "execution_count": 0,
      "outputs": [
        {
          "output_type": "stream",
          "text": [
            "Using TensorFlow backend.\n"
          ],
          "name": "stderr"
        }
      ]
    },
    {
      "cell_type": "code",
      "metadata": {
        "id": "tlAAQT9CHPVP",
        "colab_type": "code",
        "colab": {}
      },
      "source": [
        ""
      ],
      "execution_count": 0,
      "outputs": []
    },
    {
      "cell_type": "code",
      "metadata": {
        "id": "3QcuFLD3SYT0",
        "colab_type": "code",
        "colab": {}
      },
      "source": [
        "session = tf. Session ('')     # tensorboardを使うのに必要な設定\n",
        "KTF.set_session (session)      # tensorboardをわないなら不要\n",
        "KTF.set_learning_phase (1)     # \n",
        "\n",
        "model = Sequential()\n",
        "model.add(Conv2D(64,kernel_size=(3, 3),padding='same',\n",
        "                 activation='relu', input_shape=(48,48,1)))\n",
        "model.add(MaxPooling2D(pool_size=(2, 2)),)\n",
        "model.add(Dropout(rate=0.5))\n",
        "model.add(Conv2D(64,kernel_size=(3, 3),padding='same',\n",
        "                 activation='relu'))\n",
        "model.add(MaxPooling2D(pool_size=(2, 2)))\n",
        "model.add(Conv2DTranspose(64, kernel_size=3,  activation='relu', use_bias=False))\n",
        "\n",
        "model.add(Conv2DTranspose(64, kernel_size=5,  activation='relu', use_bias=False))\n",
        "model.add(UpSampling2D((2, 2)))\n",
        "model.add(Conv2DTranspose(64, kernel_size=7,  activation='relu', use_bias=False))\n",
        "model.add(Conv2DTranspose(32, kernel_size=7,  activation='relu', use_bias=False))\n",
        "model.add(Conv2DTranspose(1, kernel_size=1,  activation='relu',use_bias=False))\n"
      ],
      "execution_count": 0,
      "outputs": []
    },
    {
      "cell_type": "code",
      "metadata": {
        "id": "aEMaraw_SrBD",
        "colab_type": "code",
        "outputId": "b506ae9c-224f-48bd-e66a-9f592944f3a4",
        "colab": {
          "base_uri": "https://localhost:8080/",
          "height": 532
        }
      },
      "source": [
        "model.summary()"
      ],
      "execution_count": 0,
      "outputs": [
        {
          "output_type": "stream",
          "text": [
            "_________________________________________________________________\n",
            "Layer (type)                 Output Shape              Param #   \n",
            "=================================================================\n",
            "conv2d_3 (Conv2D)            (None, 48, 48, 64)        640       \n",
            "_________________________________________________________________\n",
            "max_pooling2d_3 (MaxPooling2 (None, 24, 24, 64)        0         \n",
            "_________________________________________________________________\n",
            "dropout_2 (Dropout)          (None, 24, 24, 64)        0         \n",
            "_________________________________________________________________\n",
            "conv2d_4 (Conv2D)            (None, 24, 24, 64)        36928     \n",
            "_________________________________________________________________\n",
            "max_pooling2d_4 (MaxPooling2 (None, 12, 12, 64)        0         \n",
            "_________________________________________________________________\n",
            "conv2d_transpose_6 (Conv2DTr (None, 14, 14, 64)        36864     \n",
            "_________________________________________________________________\n",
            "conv2d_transpose_7 (Conv2DTr (None, 18, 18, 64)        102400    \n",
            "_________________________________________________________________\n",
            "up_sampling2d_2 (UpSampling2 (None, 36, 36, 64)        0         \n",
            "_________________________________________________________________\n",
            "conv2d_transpose_8 (Conv2DTr (None, 42, 42, 64)        200704    \n",
            "_________________________________________________________________\n",
            "conv2d_transpose_9 (Conv2DTr (None, 48, 48, 32)        100352    \n",
            "_________________________________________________________________\n",
            "conv2d_transpose_10 (Conv2DT (None, 48, 48, 1)         32        \n",
            "=================================================================\n",
            "Total params: 477,920\n",
            "Trainable params: 477,920\n",
            "Non-trainable params: 0\n",
            "_________________________________________________________________\n"
          ],
          "name": "stdout"
        }
      ]
    },
    {
      "cell_type": "code",
      "metadata": {
        "id": "mHQc5DSUUXHt",
        "colab_type": "code",
        "colab": {}
      },
      "source": [
        "model.compile(loss='mean_squared_error',\n",
        "              # optimizer = keras.optimizers.Adamax(lr=0.002, beta_1=0.9, beta_2=0.999, epsilon=None, decay=0.0),\n",
        "              #optimizer=Adam(lr=0.001, beta_1=0.9, beta_2=0.999, epsilon=1e-08, decay=0.0),\n",
        "              optimizer = keras.optimizers.SGD(lr=0.01, momentum=0.0, decay=0.0, nesterov=False),\n",
        "              metrics=['accuracy'])"
      ],
      "execution_count": 0,
      "outputs": []
    },
    {
      "cell_type": "code",
      "metadata": {
        "id": "WtgVp4D0rlZ2",
        "colab_type": "code",
        "outputId": "75696a6b-d1e2-4d6c-e303-8c171b3b6de7",
        "colab": {
          "base_uri": "https://localhost:8080/",
          "height": 3590
        }
      },
      "source": [
        "batch_size = 100\n",
        "epochs = 100\n",
        "\n",
        "X1 = np.array(X).reshape(1600,48*48).astype('float32')\n",
        "X1 = X1/255\n",
        "X1 = X1.reshape(-1,48,48,1)\n",
        "Y1 = np.array(Y).reshape(1600,48*48)\n",
        "Y1 = Y1/255\n",
        "Y1 = Y1.reshape(-1,48,48,1)\n",
        "\n",
        "es = EarlyStopping(monitor='val_loss', patience=2)   #  検証用データのロスが改善されなくなったら2エポック後に停止\n",
        "tb_cb = keras.callbacks.TensorBoard(log_dir='tblog', histogram_freq=1, write_graph=True)\n",
        "csv_logger = CSVLogger('training.log')\n",
        "hist = model.fit(X1, Y1,\n",
        "                 batch_size=batch_size,\n",
        "                 epochs=epochs,\n",
        "                 verbose=1,\n",
        "                 validation_split=0.2, # 20 % は検証用に利用する\n",
        "                 #callbacks=[es, csv_logger,tb_cb])\n",
        "                  callbacks=[es, csv_logger])"
      ],
      "execution_count": 0,
      "outputs": [
        {
          "output_type": "stream",
          "text": [
            "Train on 1280 samples, validate on 320 samples\n",
            "Epoch 1/100\n",
            "1280/1280 [==============================] - 1s 584us/step - loss: 0.1015 - acc: 0.8985 - val_loss: 0.0990 - val_acc: 0.9009\n",
            "Epoch 2/100\n",
            "1280/1280 [==============================] - 1s 529us/step - loss: 0.1015 - acc: 0.8985 - val_loss: 0.0990 - val_acc: 0.9009\n",
            "Epoch 3/100\n",
            "1280/1280 [==============================] - 1s 542us/step - loss: 0.1015 - acc: 0.8985 - val_loss: 0.0990 - val_acc: 0.9009\n",
            "Epoch 4/100\n",
            "1280/1280 [==============================] - 1s 539us/step - loss: 0.1014 - acc: 0.8985 - val_loss: 0.0990 - val_acc: 0.9009\n",
            "Epoch 5/100\n",
            "1280/1280 [==============================] - 1s 537us/step - loss: 0.1014 - acc: 0.8985 - val_loss: 0.0990 - val_acc: 0.9009\n",
            "Epoch 6/100\n",
            "1280/1280 [==============================] - 1s 540us/step - loss: 0.1014 - acc: 0.8985 - val_loss: 0.0990 - val_acc: 0.9009\n",
            "Epoch 7/100\n",
            "1280/1280 [==============================] - 1s 537us/step - loss: 0.1014 - acc: 0.8985 - val_loss: 0.0990 - val_acc: 0.9009\n",
            "Epoch 8/100\n",
            "1280/1280 [==============================] - 1s 542us/step - loss: 0.1014 - acc: 0.8985 - val_loss: 0.0990 - val_acc: 0.9009\n",
            "Epoch 9/100\n",
            "1280/1280 [==============================] - 1s 543us/step - loss: 0.1014 - acc: 0.8985 - val_loss: 0.0990 - val_acc: 0.9009\n",
            "Epoch 10/100\n",
            "1280/1280 [==============================] - 1s 541us/step - loss: 0.1014 - acc: 0.8985 - val_loss: 0.0990 - val_acc: 0.9009\n",
            "Epoch 11/100\n",
            "1280/1280 [==============================] - 1s 541us/step - loss: 0.1014 - acc: 0.8985 - val_loss: 0.0990 - val_acc: 0.9009\n",
            "Epoch 12/100\n",
            "1280/1280 [==============================] - 1s 539us/step - loss: 0.1014 - acc: 0.8985 - val_loss: 0.0990 - val_acc: 0.9009\n",
            "Epoch 13/100\n",
            "1280/1280 [==============================] - 1s 545us/step - loss: 0.1014 - acc: 0.8985 - val_loss: 0.0990 - val_acc: 0.9009\n",
            "Epoch 14/100\n",
            "1280/1280 [==============================] - 1s 542us/step - loss: 0.1014 - acc: 0.8985 - val_loss: 0.0989 - val_acc: 0.9009\n",
            "Epoch 15/100\n",
            "1280/1280 [==============================] - 1s 541us/step - loss: 0.1013 - acc: 0.8985 - val_loss: 0.0989 - val_acc: 0.9009\n",
            "Epoch 16/100\n",
            "1280/1280 [==============================] - 1s 544us/step - loss: 0.1013 - acc: 0.8985 - val_loss: 0.0988 - val_acc: 0.9009\n",
            "Epoch 17/100\n",
            "1280/1280 [==============================] - 1s 545us/step - loss: 0.1012 - acc: 0.8985 - val_loss: 0.0987 - val_acc: 0.9009\n",
            "Epoch 18/100\n",
            "1280/1280 [==============================] - 1s 545us/step - loss: 0.1010 - acc: 0.8985 - val_loss: 0.0984 - val_acc: 0.9009\n",
            "Epoch 19/100\n",
            "1280/1280 [==============================] - 1s 538us/step - loss: 0.1005 - acc: 0.8985 - val_loss: 0.0978 - val_acc: 0.9009\n",
            "Epoch 20/100\n",
            "1280/1280 [==============================] - 1s 550us/step - loss: 0.0997 - acc: 0.8985 - val_loss: 0.0968 - val_acc: 0.9009\n",
            "Epoch 21/100\n",
            "1280/1280 [==============================] - 1s 543us/step - loss: 0.0985 - acc: 0.8985 - val_loss: 0.0955 - val_acc: 0.9009\n",
            "Epoch 22/100\n",
            "1280/1280 [==============================] - 1s 543us/step - loss: 0.0973 - acc: 0.8985 - val_loss: 0.0944 - val_acc: 0.9009\n",
            "Epoch 23/100\n",
            "1280/1280 [==============================] - 1s 547us/step - loss: 0.0963 - acc: 0.8985 - val_loss: 0.0936 - val_acc: 0.9009\n",
            "Epoch 24/100\n",
            "1280/1280 [==============================] - 1s 541us/step - loss: 0.0956 - acc: 0.8985 - val_loss: 0.0931 - val_acc: 0.9009\n",
            "Epoch 25/100\n",
            "1280/1280 [==============================] - 1s 539us/step - loss: 0.0952 - acc: 0.8985 - val_loss: 0.0928 - val_acc: 0.9009\n",
            "Epoch 26/100\n",
            "1280/1280 [==============================] - 1s 543us/step - loss: 0.0949 - acc: 0.8985 - val_loss: 0.0926 - val_acc: 0.9009\n",
            "Epoch 27/100\n",
            "1280/1280 [==============================] - 1s 540us/step - loss: 0.0947 - acc: 0.8985 - val_loss: 0.0924 - val_acc: 0.9009\n",
            "Epoch 28/100\n",
            "1280/1280 [==============================] - 1s 542us/step - loss: 0.0946 - acc: 0.8985 - val_loss: 0.0923 - val_acc: 0.9009\n",
            "Epoch 29/100\n",
            "1280/1280 [==============================] - 1s 540us/step - loss: 0.0944 - acc: 0.8985 - val_loss: 0.0922 - val_acc: 0.9009\n",
            "Epoch 30/100\n",
            "1280/1280 [==============================] - 1s 542us/step - loss: 0.0943 - acc: 0.8985 - val_loss: 0.0921 - val_acc: 0.9009\n",
            "Epoch 31/100\n",
            "1280/1280 [==============================] - 1s 540us/step - loss: 0.0942 - acc: 0.8985 - val_loss: 0.0920 - val_acc: 0.9009\n",
            "Epoch 32/100\n",
            "1280/1280 [==============================] - 1s 547us/step - loss: 0.0941 - acc: 0.8985 - val_loss: 0.0919 - val_acc: 0.9009\n",
            "Epoch 33/100\n",
            "1280/1280 [==============================] - 1s 559us/step - loss: 0.0940 - acc: 0.8985 - val_loss: 0.0918 - val_acc: 0.9009\n",
            "Epoch 34/100\n",
            "1280/1280 [==============================] - 1s 538us/step - loss: 0.0939 - acc: 0.8985 - val_loss: 0.0917 - val_acc: 0.9009\n",
            "Epoch 35/100\n",
            "1280/1280 [==============================] - 1s 541us/step - loss: 0.0938 - acc: 0.8985 - val_loss: 0.0916 - val_acc: 0.9009\n",
            "Epoch 36/100\n",
            "1280/1280 [==============================] - 1s 544us/step - loss: 0.0938 - acc: 0.8985 - val_loss: 0.0915 - val_acc: 0.9009\n",
            "Epoch 37/100\n",
            "1280/1280 [==============================] - 1s 541us/step - loss: 0.0937 - acc: 0.8985 - val_loss: 0.0914 - val_acc: 0.9009\n",
            "Epoch 38/100\n",
            "1280/1280 [==============================] - 1s 552us/step - loss: 0.0936 - acc: 0.8985 - val_loss: 0.0913 - val_acc: 0.9009\n",
            "Epoch 39/100\n",
            "1280/1280 [==============================] - 1s 552us/step - loss: 0.0935 - acc: 0.8985 - val_loss: 0.0913 - val_acc: 0.9009\n",
            "Epoch 40/100\n",
            "1280/1280 [==============================] - 1s 540us/step - loss: 0.0934 - acc: 0.8985 - val_loss: 0.0912 - val_acc: 0.9009\n",
            "Epoch 41/100\n",
            "1280/1280 [==============================] - 1s 546us/step - loss: 0.0933 - acc: 0.8985 - val_loss: 0.0911 - val_acc: 0.9009\n",
            "Epoch 42/100\n",
            "1280/1280 [==============================] - 1s 539us/step - loss: 0.0933 - acc: 0.8985 - val_loss: 0.0910 - val_acc: 0.9009\n",
            "Epoch 43/100\n",
            "1280/1280 [==============================] - 1s 543us/step - loss: 0.0932 - acc: 0.8985 - val_loss: 0.0910 - val_acc: 0.9009\n",
            "Epoch 44/100\n",
            "1280/1280 [==============================] - 1s 537us/step - loss: 0.0931 - acc: 0.8985 - val_loss: 0.0909 - val_acc: 0.9009\n",
            "Epoch 45/100\n",
            "1280/1280 [==============================] - 1s 540us/step - loss: 0.0930 - acc: 0.8985 - val_loss: 0.0908 - val_acc: 0.9009\n",
            "Epoch 46/100\n",
            "1280/1280 [==============================] - 1s 538us/step - loss: 0.0930 - acc: 0.8985 - val_loss: 0.0907 - val_acc: 0.9009\n",
            "Epoch 47/100\n",
            "1280/1280 [==============================] - 1s 538us/step - loss: 0.0929 - acc: 0.8985 - val_loss: 0.0907 - val_acc: 0.9009\n",
            "Epoch 48/100\n",
            "1280/1280 [==============================] - 1s 549us/step - loss: 0.0928 - acc: 0.8985 - val_loss: 0.0906 - val_acc: 0.9009\n",
            "Epoch 49/100\n",
            "1280/1280 [==============================] - 1s 536us/step - loss: 0.0927 - acc: 0.8985 - val_loss: 0.0905 - val_acc: 0.9009\n",
            "Epoch 50/100\n",
            "1280/1280 [==============================] - 1s 543us/step - loss: 0.0927 - acc: 0.8985 - val_loss: 0.0904 - val_acc: 0.9009\n",
            "Epoch 51/100\n",
            "1280/1280 [==============================] - 1s 553us/step - loss: 0.0926 - acc: 0.8985 - val_loss: 0.0904 - val_acc: 0.9009\n",
            "Epoch 52/100\n",
            "1280/1280 [==============================] - 1s 551us/step - loss: 0.0925 - acc: 0.8985 - val_loss: 0.0903 - val_acc: 0.9009\n",
            "Epoch 53/100\n",
            "1280/1280 [==============================] - 1s 540us/step - loss: 0.0924 - acc: 0.8985 - val_loss: 0.0902 - val_acc: 0.9009\n",
            "Epoch 54/100\n",
            "1280/1280 [==============================] - 1s 552us/step - loss: 0.0924 - acc: 0.8985 - val_loss: 0.0902 - val_acc: 0.9009\n",
            "Epoch 55/100\n",
            "1280/1280 [==============================] - 1s 550us/step - loss: 0.0923 - acc: 0.8985 - val_loss: 0.0901 - val_acc: 0.9009\n",
            "Epoch 56/100\n",
            "1280/1280 [==============================] - 1s 541us/step - loss: 0.0922 - acc: 0.8985 - val_loss: 0.0900 - val_acc: 0.9009\n",
            "Epoch 57/100\n",
            "1280/1280 [==============================] - 1s 540us/step - loss: 0.0922 - acc: 0.8985 - val_loss: 0.0899 - val_acc: 0.9009\n",
            "Epoch 58/100\n",
            "1280/1280 [==============================] - 1s 546us/step - loss: 0.0921 - acc: 0.8985 - val_loss: 0.0899 - val_acc: 0.9009\n",
            "Epoch 59/100\n",
            "1280/1280 [==============================] - 1s 543us/step - loss: 0.0920 - acc: 0.8985 - val_loss: 0.0898 - val_acc: 0.9009\n",
            "Epoch 60/100\n",
            "1280/1280 [==============================] - 1s 551us/step - loss: 0.0919 - acc: 0.8985 - val_loss: 0.0897 - val_acc: 0.9009\n",
            "Epoch 61/100\n",
            "1280/1280 [==============================] - 1s 550us/step - loss: 0.0919 - acc: 0.8985 - val_loss: 0.0896 - val_acc: 0.9009\n",
            "Epoch 62/100\n",
            "1280/1280 [==============================] - 1s 540us/step - loss: 0.0918 - acc: 0.8985 - val_loss: 0.0896 - val_acc: 0.9009\n",
            "Epoch 63/100\n",
            "1280/1280 [==============================] - 1s 547us/step - loss: 0.0917 - acc: 0.8985 - val_loss: 0.0895 - val_acc: 0.9009\n",
            "Epoch 64/100\n",
            "1280/1280 [==============================] - 1s 538us/step - loss: 0.0917 - acc: 0.8985 - val_loss: 0.0894 - val_acc: 0.9009\n",
            "Epoch 65/100\n",
            "1280/1280 [==============================] - 1s 548us/step - loss: 0.0916 - acc: 0.8985 - val_loss: 0.0894 - val_acc: 0.9009\n",
            "Epoch 66/100\n",
            "1280/1280 [==============================] - 1s 543us/step - loss: 0.0915 - acc: 0.8985 - val_loss: 0.0893 - val_acc: 0.9009\n",
            "Epoch 67/100\n",
            "1280/1280 [==============================] - 1s 546us/step - loss: 0.0914 - acc: 0.8985 - val_loss: 0.0892 - val_acc: 0.9009\n",
            "Epoch 68/100\n",
            "1280/1280 [==============================] - 1s 543us/step - loss: 0.0914 - acc: 0.8985 - val_loss: 0.0892 - val_acc: 0.9009\n",
            "Epoch 69/100\n",
            "1280/1280 [==============================] - 1s 553us/step - loss: 0.0913 - acc: 0.8985 - val_loss: 0.0891 - val_acc: 0.9009\n",
            "Epoch 70/100\n",
            "1280/1280 [==============================] - 1s 548us/step - loss: 0.0913 - acc: 0.8985 - val_loss: 0.0891 - val_acc: 0.9009\n",
            "Epoch 71/100\n",
            "1280/1280 [==============================] - 1s 543us/step - loss: 0.0912 - acc: 0.8985 - val_loss: 0.0890 - val_acc: 0.9009\n",
            "Epoch 72/100\n",
            "1280/1280 [==============================] - 1s 551us/step - loss: 0.0911 - acc: 0.8985 - val_loss: 0.0889 - val_acc: 0.9009\n",
            "Epoch 73/100\n",
            "1280/1280 [==============================] - 1s 544us/step - loss: 0.0911 - acc: 0.8985 - val_loss: 0.0888 - val_acc: 0.9009\n",
            "Epoch 74/100\n",
            "1280/1280 [==============================] - 1s 548us/step - loss: 0.0910 - acc: 0.8985 - val_loss: 0.0888 - val_acc: 0.9009\n",
            "Epoch 75/100\n",
            "1280/1280 [==============================] - 1s 546us/step - loss: 0.0909 - acc: 0.8985 - val_loss: 0.0887 - val_acc: 0.9009\n",
            "Epoch 76/100\n",
            "1280/1280 [==============================] - 1s 548us/step - loss: 0.0908 - acc: 0.8985 - val_loss: 0.0886 - val_acc: 0.9009\n",
            "Epoch 77/100\n",
            "1280/1280 [==============================] - 1s 543us/step - loss: 0.0908 - acc: 0.8985 - val_loss: 0.0886 - val_acc: 0.9009\n",
            "Epoch 78/100\n",
            "1280/1280 [==============================] - 1s 549us/step - loss: 0.0907 - acc: 0.8985 - val_loss: 0.0885 - val_acc: 0.9009\n",
            "Epoch 79/100\n",
            "1280/1280 [==============================] - 1s 543us/step - loss: 0.0907 - acc: 0.8985 - val_loss: 0.0885 - val_acc: 0.9009\n",
            "Epoch 80/100\n",
            "1280/1280 [==============================] - 1s 542us/step - loss: 0.0906 - acc: 0.8985 - val_loss: 0.0884 - val_acc: 0.9009\n",
            "Epoch 81/100\n",
            "1280/1280 [==============================] - 1s 546us/step - loss: 0.0905 - acc: 0.8985 - val_loss: 0.0883 - val_acc: 0.9009\n",
            "Epoch 82/100\n",
            "1280/1280 [==============================] - 1s 555us/step - loss: 0.0905 - acc: 0.8985 - val_loss: 0.0883 - val_acc: 0.9009\n",
            "Epoch 83/100\n",
            "1280/1280 [==============================] - 1s 548us/step - loss: 0.0904 - acc: 0.8985 - val_loss: 0.0882 - val_acc: 0.9009\n",
            "Epoch 84/100\n",
            "1280/1280 [==============================] - 1s 549us/step - loss: 0.0904 - acc: 0.8985 - val_loss: 0.0882 - val_acc: 0.9009\n",
            "Epoch 85/100\n",
            "1280/1280 [==============================] - 1s 551us/step - loss: 0.0903 - acc: 0.8985 - val_loss: 0.0881 - val_acc: 0.9009\n",
            "Epoch 86/100\n",
            "1280/1280 [==============================] - 1s 558us/step - loss: 0.0903 - acc: 0.8985 - val_loss: 0.0881 - val_acc: 0.9009\n",
            "Epoch 87/100\n",
            "1280/1280 [==============================] - 1s 551us/step - loss: 0.0902 - acc: 0.8985 - val_loss: 0.0880 - val_acc: 0.9009\n",
            "Epoch 88/100\n",
            "1280/1280 [==============================] - 1s 547us/step - loss: 0.0901 - acc: 0.8985 - val_loss: 0.0879 - val_acc: 0.9009\n",
            "Epoch 89/100\n",
            "1280/1280 [==============================] - 1s 545us/step - loss: 0.0901 - acc: 0.8985 - val_loss: 0.0879 - val_acc: 0.9009\n",
            "Epoch 90/100\n",
            "1280/1280 [==============================] - 1s 550us/step - loss: 0.0900 - acc: 0.8985 - val_loss: 0.0878 - val_acc: 0.9009\n",
            "Epoch 91/100\n",
            "1280/1280 [==============================] - 1s 552us/step - loss: 0.0900 - acc: 0.8985 - val_loss: 0.0878 - val_acc: 0.9009\n",
            "Epoch 92/100\n",
            "1280/1280 [==============================] - 1s 558us/step - loss: 0.0899 - acc: 0.8985 - val_loss: 0.0877 - val_acc: 0.9009\n",
            "Epoch 93/100\n",
            "1280/1280 [==============================] - 1s 550us/step - loss: 0.0899 - acc: 0.8985 - val_loss: 0.0877 - val_acc: 0.9009\n",
            "Epoch 94/100\n",
            "1280/1280 [==============================] - 1s 553us/step - loss: 0.0898 - acc: 0.8985 - val_loss: 0.0876 - val_acc: 0.9009\n",
            "Epoch 95/100\n",
            "1280/1280 [==============================] - 1s 546us/step - loss: 0.0898 - acc: 0.8985 - val_loss: 0.0876 - val_acc: 0.9009\n",
            "Epoch 96/100\n",
            "1280/1280 [==============================] - 1s 555us/step - loss: 0.0898 - acc: 0.8985 - val_loss: 0.0876 - val_acc: 0.9009\n",
            "Epoch 97/100\n",
            "1280/1280 [==============================] - 1s 548us/step - loss: 0.0897 - acc: 0.8985 - val_loss: 0.0875 - val_acc: 0.9009\n",
            "Epoch 98/100\n",
            "1280/1280 [==============================] - 1s 549us/step - loss: 0.0897 - acc: 0.8985 - val_loss: 0.0875 - val_acc: 0.9009\n",
            "Epoch 99/100\n",
            "1280/1280 [==============================] - 1s 548us/step - loss: 0.0896 - acc: 0.8985 - val_loss: 0.0874 - val_acc: 0.9009\n",
            "Epoch 100/100\n",
            "1280/1280 [==============================] - 1s 548us/step - loss: 0.0896 - acc: 0.8985 - val_loss: 0.0874 - val_acc: 0.9009\n"
          ],
          "name": "stdout"
        }
      ]
    },
    {
      "cell_type": "code",
      "metadata": {
        "id": "RxT18Ei7tCEq",
        "colab_type": "code",
        "colab": {}
      },
      "source": [
        "def test(i):\n",
        "    output = model.predict(X1)[i]\n",
        "    output = np.ndarray.flatten(output)\n",
        "    output = output.reshape(48,48)\n",
        "    fig = plt.figure(figsize=(8,2))\n",
        "    subplot = fig.add_subplot(1,3,1)\n",
        "    subplot.set_xticks([])\n",
        "    subplot.set_yticks([])\n",
        "    subplot.imshow(255-X[i],cmap=plt.cm.binary)\n",
        "    subplot = fig.add_subplot(1,3,2)\n",
        "    subplot.set_xticks([])\n",
        "    subplot.set_yticks([])\n",
        "    subplot.imshow(1-output,cmap=plt.cm.binary)\n",
        "    subplot = fig.add_subplot(1,3,3)\n",
        "    subplot.set_xticks([])\n",
        "    subplot.set_yticks([])\n",
        "    subplot.imshow(255-Y[i],cmap=plt.cm.binary)"
      ],
      "execution_count": 0,
      "outputs": []
    },
    {
      "cell_type": "code",
      "metadata": {
        "id": "TCyIsNbHvuHD",
        "colab_type": "code",
        "outputId": "59061190-9f8e-4c11-f5af-ab6b091e8c1f",
        "colab": {
          "base_uri": "https://localhost:8080/",
          "height": 147
        }
      },
      "source": [
        "test(100)"
      ],
      "execution_count": 0,
      "outputs": [
        {
          "output_type": "display_data",
          "data": {
            "image/png": "[encoded data removed]",
            "text/plain": [
              "<Figure size 576x144 with 3 Axes>"
            ]
          },
          "metadata": {
            "tags": []
          }
        }
      ]
    },
    {
      "cell_type": "code",
      "metadata": {
        "id": "OT5DPIJRxzMa",
        "colab_type": "code",
        "outputId": "d6742e46-4d6a-4c06-ae22-37dca60ec5da",
        "colab": {
          "base_uri": "https://localhost:8080/",
          "height": 147
        }
      },
      "source": [
        "test(200)"
      ],
      "execution_count": 0,
      "outputs": [
        {
          "output_type": "display_data",
          "data": {
            "image/png": "[encoded data removed]",
            "text/plain": [
              "<Figure size 576x144 with 3 Axes>"
            ]
          },
          "metadata": {
            "tags": []
          }
        }
      ]
    },
    {
      "cell_type": "code",
      "metadata": {
        "id": "ba-BH_Pz51dV",
        "colab_type": "code",
        "outputId": "673c2c7e-216c-44f6-d5d7-90085df83553",
        "colab": {
          "base_uri": "https://localhost:8080/",
          "height": 147
        }
      },
      "source": [
        "test(300)"
      ],
      "execution_count": 0,
      "outputs": [
        {
          "output_type": "display_data",
          "data": {
            "image/png": "[encoded data removed]",
            "text/plain": [
              "<Figure size 576x144 with 3 Axes>"
            ]
          },
          "metadata": {
            "tags": []
          }
        }
      ]
    },
    {
      "cell_type": "code",
      "metadata": {
        "id": "D-QS1JT27rj7",
        "colab_type": "code",
        "colab": {}
      },
      "source": [
        ""
      ],
      "execution_count": 0,
      "outputs": []
    },
    {
      "cell_type": "markdown",
      "metadata": {
        "id": "qHvg7V0rMQk7",
        "colab_type": "text"
      },
      "source": [
        "# 優良エッジ値"
      ]
    }
  ]
}