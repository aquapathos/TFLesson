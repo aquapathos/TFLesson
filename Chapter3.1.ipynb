{
 "cells": [
  {
   "cell_type": "code",
   "execution_count": 1,
   "metadata": {
    "collapsed": true
   },
   "outputs": [],
   "source": [
    "import numpy as np\n",
    "from numpy.random import multivariate_normal, permutation\n",
    "import pandas as pd\n",
    "from pandas import DataFrame, Series\n",
    "import matplotlib.pyplot as plt\n",
    "from tensorflow.examples.tutorials.mnist import input_data\n",
    "import seaborn as sns\n",
    "import tensorflow as tf\n",
    "%matplotlib inline\n"
   ]
  },
  {
   "cell_type": "code",
   "execution_count": 2,
   "metadata": {
    "collapsed": true
   },
   "outputs": [],
   "source": [
    "def plotchr(image,label,i):\n",
    "    sns.set_context(\"talk\")\n",
    "    plt.subplot(1,6,i+1)\n",
    "    plt.xticks([])\n",
    "    plt.yticks([])\n",
    "    plt.title(\"%d\" % np.argmax(label))\n",
    "    plt.imshow(image,cmap=plt.cm.gray_r)"
   ]
  },
  {
   "cell_type": "code",
   "execution_count": 174,
   "metadata": {
    "collapsed": true
   },
   "outputs": [],
   "source": [
    "np.random.seed(20170730)\n",
    "tf.set_random_seed(20170730)"
   ]
  },
  {
   "cell_type": "markdown",
   "metadata": {},
   "source": [
    "# 実験データの生成関数"
   ]
  },
  {
   "cell_type": "code",
   "execution_count": 175,
   "metadata": {},
   "outputs": [
    {
     "data": {
      "image/png": "[encoded data removed]",
      "text/plain": [
       "<matplotlib.figure.Figure at 0x1bf2cd81ac8>"
      ]
     },
     "metadata": {},
     "output_type": "display_data"
    }
   ],
   "source": [
    "def generate_datablock(n, mu, var, label):\n",
    "    data = multivariate_normal(mu, np.eye(2)*var, n)\n",
    "    df = DataFrame(data, columns =['x','y'])\n",
    "    df['l' ] = label\n",
    "    return df\n",
    "\n",
    "df0 = generate_datablock(15, [7,7], 22, 0)\n",
    "df1 = generate_datablock(15, [22,7], 22, 0)\n",
    "df2 = generate_datablock(10, [7,22], 22, 0)\n",
    "df3 = generate_datablock(25, [20,20], 22, 1)\n",
    "\n",
    "df = pd.concat([df0,df1,df2,df3], ignore_index=True)\n",
    "train_set = df.reindex(permutation(df.index)).reset_index(drop=True)\n",
    "\n",
    "sns.regplot(x=\"x\", y=\"y\", data=df[df['l']==1],fit_reg=False)\n",
    "sns.regplot(x=\"x\", y=\"y\", data=df[df['l']==0],fit_reg=False)\n",
    "\n",
    "plt.show()"
   ]
  },
  {
   "cell_type": "markdown",
   "metadata": {},
   "source": [
    "# データの取り出し"
   ]
  },
  {
   "cell_type": "code",
   "execution_count": 176,
   "metadata": {
    "collapsed": true
   },
   "outputs": [],
   "source": [
    "train_x = train_set[['x','y']].as_matrix()\n",
    "train_t = train_set[['l']].as_matrix()"
   ]
  },
  {
   "cell_type": "markdown",
   "metadata": {},
   "source": [
    "# モデル定義"
   ]
  },
  {
   "cell_type": "code",
   "execution_count": 177,
   "metadata": {
    "collapsed": true
   },
   "outputs": [],
   "source": [
    "num_units = 2\n",
    "mult = train_x.flatten().mean()   # x,yを区別しない平均値"
   ]
  },
  {
   "cell_type": "code",
   "execution_count": 178,
   "metadata": {
    "collapsed": true
   },
   "outputs": [],
   "source": [
    "x = tf.placeholder(tf.float32,[None,2])\n",
    "\n",
    "w1 = tf.Variable(tf.truncated_normal([2, num_units]))   # 0 を平均として分散1の正規分布乱数で初期化\n",
    "b1 = tf.Variable(tf.zeros([num_units]))\n",
    "hidden1 = tf.nn.tanh(tf.matmul(x,w1) + b1*mult)\n",
    "\n",
    "w0 = tf.Variable(tf.zeros([num_units,1]))\n",
    "b0 = tf.Variable(tf.zeros([1]))\n",
    "p = tf.nn.sigmoid(tf.matmul(hidden1,w0) + b0*mult)"
   ]
  },
  {
   "cell_type": "markdown",
   "metadata": {},
   "source": [
    "# 誤差関数の定義"
   ]
  },
  {
   "cell_type": "code",
   "execution_count": 179,
   "metadata": {
    "collapsed": true
   },
   "outputs": [],
   "source": [
    "t = tf.placeholder(tf.float32, [None,1])\n",
    "loss = -tf.reduce_sum(t*tf.log(p) + (1-t)*tf.log(1-p))\n",
    "#train_step = tf.train.AdamOptimizer().minimize(loss)\n",
    "train_step = tf.train.GradientDescentOptimizer(0.003).minimize(loss)\n",
    "correct_prediction = tf.equal(tf.sign(p-0.5), tf.sign(t-0.5))\n",
    "accuracy = tf.reduce_mean(tf.cast(correct_prediction, tf.float32))"
   ]
  },
  {
   "cell_type": "markdown",
   "metadata": {},
   "source": [
    "# 学習セッション"
   ]
  },
  {
   "cell_type": "code",
   "execution_count": 180,
   "metadata": {
    "collapsed": true
   },
   "outputs": [],
   "source": [
    "sess = tf.InteractiveSession()\n",
    "sess.run(tf.global_variables_initializer())"
   ]
  },
  {
   "cell_type": "code",
   "execution_count": 181,
   "metadata": {},
   "outputs": [
    {
     "name": "stdout",
     "output_type": "stream",
     "text": [
      "Step: 100, Loss: 230.004089, Accuracy: 0.384615\n",
      "Step: 200, Loss: 114.925804, Accuracy: 0.661538\n",
      "Step: 300, Loss: 95.798973, Accuracy: 0.538462\n",
      "Step: 400, Loss: 14.774084, Accuracy: 0.953846\n",
      "Step: 500, Loss: 14.236907, Accuracy: 0.953846\n",
      "Step: 600, Loss: 9.455277, Accuracy: 0.953846\n",
      "Step: 700, Loss: 9.408392, Accuracy: 0.953846\n",
      "Step: 800, Loss: 9.377880, Accuracy: 0.953846\n",
      "Step: 900, Loss: 11.361700, Accuracy: 0.969231\n",
      "Step: 1000, Loss: 10.376982, Accuracy: 0.969231\n"
     ]
    }
   ],
   "source": [
    "times = 0\n",
    "for _ in range(1000):\n",
    "    times += 1\n",
    "    sess.run(train_step, feed_dict = {x:train_x, t:train_t})\n",
    "    if times  % 100 == 0:\n",
    "        loss_val, acc_val = sess.run(\n",
    "            [loss, accuracy], feed_dict = {x:train_x, t:train_t})\n",
    "        print(\"Step: {0:d}, Loss: {1:f}, Accuracy: {2:f}\".format(times, loss_val, acc_val))"
   ]
  },
  {
   "cell_type": "markdown",
   "metadata": {},
   "source": [
    "# 検証"
   ]
  },
  {
   "cell_type": "code",
   "execution_count": 171,
   "metadata": {},
   "outputs": [
    {
     "data": {
      "text/plain": [
       "<matplotlib.image.AxesImage at 0x1bf33b54e48>"
      ]
     },
     "execution_count": 171,
     "metadata": {},
     "output_type": "execute_result"
    },
    {
     "data": {
      "image/png": "[encoded data removed]",
      "text/plain": [
       "<matplotlib.figure.Figure at 0x1bf33b69470>"
      ]
     },
     "metadata": {},
     "output_type": "display_data"
    }
   ],
   "source": [
    "#train_set1 = train_set[train_set['l']==1]\n",
    "#train_set1 = train_set[train_set['l']==0]\n",
    "\n",
    "sns.regplot(x=\"x\", y=\"y\", data=df[df['l']==1],fit_reg=False, marker=\"o\")\n",
    "sns.regplot(x=\"x\", y=\"y\", data=df[df['l']==0],fit_reg=False,marker=\"x\")\n",
    "\n",
    "locations = []\n",
    "for y1 in np.linspace(0,30,100):\n",
    "    for x1 in np.linspace(0,30,100):\n",
    "        locations.append([x1,y1])\n",
    "p_vals = sess.run(p, feed_dict={x:locations})\n",
    "p_vals = p_vals.reshape((100,100))\n",
    "plt.imshow(p_vals, origin='lower', extent=(0,30,0,30), cmap=plt.cm.gray_r, alpha = 0.5)"
   ]
  },
  {
   "cell_type": "markdown",
   "metadata": {},
   "source": [
    "この結果は、左上から右下にかけての境界面がほぼ支配的である。（15，15）付近の1点を除けば、この境界面の上下という判断だけで青と赤はクラスタ分けできる。唯一この1点だけが高い確率で誤判定となる。\n",
    "\n",
    "# パラメータを少しだけ変えた結果"
   ]
  },
  {
   "cell_type": "code",
   "execution_count": 172,
   "metadata": {},
   "outputs": [
    {
     "name": "stdout",
     "output_type": "stream",
     "text": [
      "Step: 100, Loss: 61.775669, Accuracy: 0.769231\n",
      "Step: 200, Loss: 199.961624, Accuracy: 0.615385\n",
      "Step: 300, Loss: 24.115753, Accuracy: 0.969231\n",
      "Step: 400, Loss: 0.455952, Accuracy: 1.000000\n",
      "Step: 500, Loss: 0.403756, Accuracy: 1.000000\n",
      "Step: 600, Loss: 0.363350, Accuracy: 1.000000\n",
      "Step: 700, Loss: 0.331120, Accuracy: 1.000000\n",
      "Step: 800, Loss: 0.304821, Accuracy: 1.000000\n",
      "Step: 900, Loss: 0.282966, Accuracy: 1.000000\n",
      "Step: 1000, Loss: 0.264523, Accuracy: 1.000000\n"
     ]
    }
   ],
   "source": [
    "train_step = tf.train.GradientDescentOptimizer(0.0033).minimize(loss)\n",
    "sess = tf.InteractiveSession()\n",
    "sess.run(tf.global_variables_initializer())\n",
    "times = 0\n",
    "for _ in range(1000):\n",
    "    times += 1\n",
    "    sess.run(train_step, feed_dict = {x:train_x, t:train_t})\n",
    "    if times  % 100 == 0:\n",
    "        loss_val, acc_val = sess.run(\n",
    "            [loss, accuracy], feed_dict = {x:train_x, t:train_t})\n",
    "        print(\"Step: {0:d}, Loss: {1:f}, Accuracy: {2:f}\".format(times, loss_val, acc_val))"
   ]
  },
  {
   "cell_type": "code",
   "execution_count": 173,
   "metadata": {},
   "outputs": [
    {
     "data": {
      "text/plain": [
       "<matplotlib.image.AxesImage at 0x1bf33b6f588>"
      ]
     },
     "execution_count": 173,
     "metadata": {},
     "output_type": "execute_result"
    },
    {
     "data": {
      "image/png": "[encoded data removed]",
      "text/plain": [
       "<matplotlib.figure.Figure at 0x1bf33b6f9e8>"
      ]
     },
     "metadata": {},
     "output_type": "display_data"
    }
   ],
   "source": [
    "#train_set1 = train_set[train_set['l']==1]\n",
    "#train_set1 = train_set[train_set['l']==0]\n",
    "\n",
    "sns.regplot(x=\"x\", y=\"y\", data=df[df['l']==1],fit_reg=False, marker=\"o\")\n",
    "sns.regplot(x=\"x\", y=\"y\", data=df[df['l']==0],fit_reg=False,marker=\"x\")\n",
    "\n",
    "locations = []\n",
    "for y1 in np.linspace(0,30,100):\n",
    "    for x1 in np.linspace(0,30,100):\n",
    "        locations.append([x1,y1])\n",
    "p_vals = sess.run(p, feed_dict={x:locations})\n",
    "p_vals = p_vals.reshape((100,100))\n",
    "plt.imshow(p_vals, origin='lower', extent=(0,30,0,30), cmap=plt.cm.gray_r, alpha = 0.5)"
   ]
  },
  {
   "cell_type": "markdown",
   "metadata": {},
   "source": [
    "見てわかるように、この学習結果によって、すべての事例が高い確率で正答できる。\n",
    "隠れ層の２つのニューロンがそれぞれ２つの判定面の識別を担い、出力層の唯一のニューロンがその論理和を計算するように構成されたと考えてよかろう。"
   ]
  },
  {
   "cell_type": "code",
   "execution_count": null,
   "metadata": {
    "collapsed": true
   },
   "outputs": [],
   "source": []
  }
 ],
 "metadata": {
  "kernelspec": {
   "display_name": "Python 3",
   "language": "python",
   "name": "python3"
  },
  "language_info": {
   "codemirror_mode": {
    "name": "ipython",
    "version": 3
   },
   "file_extension": ".py",
   "mimetype": "text/x-python",
   "name": "python",
   "nbconvert_exporter": "python",
   "pygments_lexer": "ipython3",
   "version": "3.6.2"
  }
 },
 "nbformat": 4,
 "nbformat_minor": 2
}
