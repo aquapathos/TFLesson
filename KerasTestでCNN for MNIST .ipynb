{
 "cells": [
  {
   "cell_type": "code",
   "execution_count": 1,
   "metadata": {},
   "outputs": [
    {
     "name": "stderr",
     "output_type": "stream",
     "text": [
      "Using TensorFlow backend.\n"
     ]
    }
   ],
   "source": [
    "import keras\n",
    "from keras.datasets import mnist\n",
    "from keras.models import Sequential\n",
    "from keras.layers.core import Dense, Dropout, Activation\n",
    "from keras.optimizers import Adam\n",
    "from keras.callbacks import EarlyStopping, CSVLogger\n",
    "from keras.layers import Conv2D, MaxPooling2D, Flatten\n",
    "import keras.backend.tensorflow_backend as KTF\n",
    "import matplotlib.pyplot as plt\n",
    "import tensorflow as tf"
   ]
  },
  {
   "cell_type": "code",
   "execution_count": 2,
   "metadata": {
    "collapsed": true
   },
   "outputs": [],
   "source": [
    "batch_size = 50   # バッチサイズ\n",
    "num_classes = 10  # 分類クラス数　数字認識なので10\n",
    "epochs = 5 #  学習の繰り返し回数　"
   ]
  },
  {
   "cell_type": "markdown",
   "metadata": {},
   "source": [
    "# MNISTデータの読み込み\n",
    "```\n",
    "(images, labels), (timages, tlabels) = mnist.load_data()\n",
    "images = images.reshape(60000, 784).astype('float32')\n",
    "timages = timages.reshape(10000, 784).astype('float32')\n",
    "images /= 255  # tensorflow と違って keras で読み込んだ MNISTデータは画素が１バイトの整数表現されている\n",
    "timages /= 255\n",
    "labels = keras.utils.to_categorica(labels,10)  # keras の MNISTのラベルデータは整数\n",
    "tlabels = keras.utils.to_categorica(tlabels,10)```"
   ]
  },
  {
   "cell_type": "code",
   "execution_count": 3,
   "metadata": {},
   "outputs": [
    {
     "name": "stdout",
     "output_type": "stream",
     "text": [
      "Extracting /tmp/data/train-images-idx3-ubyte.gz\n",
      "Extracting /tmp/data/train-labels-idx1-ubyte.gz\n",
      "Extracting /tmp/data/t10k-images-idx3-ubyte.gz\n",
      "Extracting /tmp/data/t10k-labels-idx1-ubyte.gz\n"
     ]
    }
   ],
   "source": [
    "from tensorflow.examples.tutorials.mnist import input_data\n",
    "mnist = input_data.read_data_sets(\"/tmp/data/\", one_hot=True)\n",
    "images = mnist.train.images\n",
    "labels = mnist.train.labels\n",
    "timages = mnist.test.images\n",
    "tlabels = mnist.test.labels"
   ]
  },
  {
   "cell_type": "code",
   "execution_count": 4,
   "metadata": {
    "collapsed": true
   },
   "outputs": [],
   "source": [
    "images = images.reshape(-1,28,28,1)\n",
    "timages = timages.reshape(-1,28,28,1)"
   ]
  },
  {
   "cell_type": "markdown",
   "metadata": {},
   "source": [
    "### Tensorboard 用の設定"
   ]
  },
  {
   "cell_type": "code",
   "execution_count": 5,
   "metadata": {
    "collapsed": true
   },
   "outputs": [],
   "source": [
    "old_session = KTF.get_session ()   # tensorboardを使うのに必要な設定"
   ]
  },
  {
   "cell_type": "markdown",
   "metadata": {},
   "source": [
    "# モデル定義\n"
   ]
  },
  {
   "cell_type": "code",
   "execution_count": 10,
   "metadata": {
    "collapsed": true
   },
   "outputs": [],
   "source": [
    "sess = tf.InteractiveSession ()     # tensorboardを使うのに必要な設定\n",
    "KTF.set_session (sess)              # tensorboardをわないなら不要\n",
    "KTF.set_learning_phase (1)          # \n",
    "\n",
    "model = Sequential()\n",
    "model.add(Conv2D(32,kernel_size=(5, 5),padding='same',\n",
    "                 activation='relu', input_shape=(28,28,1)))\n",
    "model.add(MaxPooling2D(pool_size=(2, 2)),)\n",
    "model.add(Conv2D(64,kernel_size=(5, 5),padding='same',\n",
    "                 activation='relu'))\n",
    "model.add(MaxPooling2D(pool_size=(2, 2)))\n",
    "model.add(Flatten())\n",
    "model.add(Dense(1024, activation='relu'))\n",
    "model.add(Dropout(0.5))\n",
    "model.add(Dense(num_classes, activation='softmax'))"
   ]
  },
  {
   "cell_type": "code",
   "execution_count": 11,
   "metadata": {},
   "outputs": [
    {
     "name": "stdout",
     "output_type": "stream",
     "text": [
      "_________________________________________________________________\n",
      "Layer (type)                 Output Shape              Param #   \n",
      "=================================================================\n",
      "conv2d_1 (Conv2D)            (None, 28, 28, 32)        832       \n",
      "_________________________________________________________________\n",
      "max_pooling2d_1 (MaxPooling2 (None, 14, 14, 32)        0         \n",
      "_________________________________________________________________\n",
      "conv2d_2 (Conv2D)            (None, 14, 14, 64)        51264     \n",
      "_________________________________________________________________\n",
      "max_pooling2d_2 (MaxPooling2 (None, 7, 7, 64)          0         \n",
      "_________________________________________________________________\n",
      "flatten_1 (Flatten)          (None, 3136)              0         \n",
      "_________________________________________________________________\n",
      "dense_1 (Dense)              (None, 1024)              3212288   \n",
      "_________________________________________________________________\n",
      "dropout_1 (Dropout)          (None, 1024)              0         \n",
      "_________________________________________________________________\n",
      "dense_2 (Dense)              (None, 10)                10250     \n",
      "=================================================================\n",
      "Total params: 3,274,634\n",
      "Trainable params: 3,274,634\n",
      "Non-trainable params: 0\n",
      "_________________________________________________________________\n"
     ]
    }
   ],
   "source": [
    "model.summary()"
   ]
  },
  {
   "cell_type": "code",
   "execution_count": 12,
   "metadata": {},
   "outputs": [
    {
     "name": "stdout",
     "output_type": "stream",
     "text": [
      "Train on 49500 samples, validate on 5500 samples\n",
      "Epoch 1/5\n",
      "49500/49500 [==============================] - 342s - loss: 0.1329 - acc: 0.9588 - val_loss: 0.0454 - val_acc: 0.9855\n",
      "Epoch 2/5\n",
      "49500/49500 [==============================] - 344s - loss: 0.0442 - acc: 0.9861 - val_loss: 0.0415 - val_acc: 0.9864\n",
      "Epoch 3/5\n",
      "49500/49500 [==============================] - 353s - loss: 0.0314 - acc: 0.9907 - val_loss: 0.0343 - val_acc: 0.9905\n",
      "Epoch 4/5\n",
      "49500/49500 [==============================] - 350s - loss: 0.0243 - acc: 0.9924 - val_loss: 0.0432 - val_acc: 0.9880\n",
      "Epoch 5/5\n",
      "49500/49500 [==============================] - 350s - loss: 0.0182 - acc: 0.9942 - val_loss: 0.0309 - val_acc: 0.9925\n"
     ]
    }
   ],
   "source": [
    "model.compile(loss='categorical_crossentropy',\n",
    "              optimizer=Adam(lr=0.001, beta_1=0.9, beta_2=0.999, epsilon=1e-08, decay=0.0),\n",
    "              metrics=['accuracy'])\n",
    "\n",
    "es = EarlyStopping(monitor='val_loss', patience=2)   #  検証用データのロスが改善されなくなったら2エポック後に停止\n",
    "tb_cb = keras.callbacks.TensorBoard(log_dir='tblog', histogram_freq=1, write_graph=True)\n",
    "csv_logger = CSVLogger('training.log')\n",
    "\n",
    "hist = model.fit(images, labels,\n",
    "                 batch_size=batch_size,\n",
    "                 epochs=epochs,\n",
    "                 verbose=1,\n",
    "                 validation_split=0.1, # 1 % は検証用に利用する\n",
    "                 callbacks=[es, csv_logger,tb_cb])\n",
    "                 # callbacks=[es, csv_logger])"
   ]
  },
  {
   "cell_type": "markdown",
   "metadata": {},
   "source": [
    "Optimizerについては\n",
    "https://keras.io/ja/optimizers/"
   ]
  },
  {
   "cell_type": "code",
   "execution_count": 13,
   "metadata": {},
   "outputs": [
    {
     "name": "stdout",
     "output_type": "stream",
     "text": [
      "test loss: 0.0303344766102\n",
      "test acc: 0.9903\n"
     ]
    },
    {
     "data": {
      "image/png": "[encoded data removed]",
      "text/plain": [
       "<matplotlib.figure.Figure at 0x1939a03e5f8>"
      ]
     },
     "metadata": {},
     "output_type": "display_data"
    }
   ],
   "source": [
    "score = model.evaluate(timages, tlabels, verbose=0)\n",
    "print('test loss:', score[0])\n",
    "print('test acc:', score[1])\n",
    "\n",
    "# plot results\n",
    "loss = hist.history['loss']\n",
    "val_loss = hist.history['val_loss']\n",
    "acc = hist.history['acc']\n",
    "val_acc = hist.history['val_acc']\n",
    "\n",
    "epochs = len(loss)\n",
    "plt.plot(range(epochs), loss, marker='.', label='loss')\n",
    "plt.plot(range(epochs), val_loss, marker='.', label='val_loss')\n",
    "plt.plot(range(epochs), acc, marker='.', label='acc')\n",
    "plt.plot(range(epochs), val_acc, marker='.', label='val_acc')\n",
    "plt.legend(loc='best')\n",
    "plt.grid()\n",
    "plt.xlabel('epoch')\n",
    "plt.ylabel('acc')\n",
    "plt.show()"
   ]
  },
  {
   "cell_type": "code",
   "execution_count": 14,
   "metadata": {
    "collapsed": true
   },
   "outputs": [],
   "source": [
    "KTF.set_session(old_session)"
   ]
  },
  {
   "cell_type": "code",
   "execution_count": 15,
   "metadata": {
    "collapsed": true
   },
   "outputs": [],
   "source": [
    "old_session = KTF.get_session ()   # tensorboardを使うのに必要な設定"
   ]
  },
  {
   "cell_type": "code",
   "execution_count": 6,
   "metadata": {
    "collapsed": true
   },
   "outputs": [],
   "source": [
    "sess = tf.InteractiveSession ()     # tensorboardを使うのに必要な設定\n",
    "KTF.set_session (sess)              # tensorboardをわないなら不要\n",
    "KTF.set_learning_phase (1)          # \n",
    "\n",
    "model2 = Sequential()\n",
    "model2.add(Conv2D(32,kernel_size=(3, 3),padding='same',\n",
    "                 activation='relu', input_shape=(28,28,1)))\n",
    "model2.add(Conv2D(32,kernel_size=(3, 3),padding='same',\n",
    "                 activation='relu'))\n",
    "model2.add(MaxPooling2D(pool_size=(2, 2)))\n",
    "model2.add(Flatten())\n",
    "model2.add(Dense(512, activation='relu'))\n",
    "model2.add(Dropout(0.5))\n",
    "model2.add(Dense(num_classes, activation='softmax'))"
   ]
  },
  {
   "cell_type": "code",
   "execution_count": 7,
   "metadata": {},
   "outputs": [
    {
     "name": "stdout",
     "output_type": "stream",
     "text": [
      "_________________________________________________________________\n",
      "Layer (type)                 Output Shape              Param #   \n",
      "=================================================================\n",
      "conv2d_1 (Conv2D)            (None, 28, 28, 32)        320       \n",
      "_________________________________________________________________\n",
      "conv2d_2 (Conv2D)            (None, 28, 28, 32)        9248      \n",
      "_________________________________________________________________\n",
      "max_pooling2d_1 (MaxPooling2 (None, 14, 14, 32)        0         \n",
      "_________________________________________________________________\n",
      "flatten_1 (Flatten)          (None, 6272)              0         \n",
      "_________________________________________________________________\n",
      "dense_1 (Dense)              (None, 512)               3211776   \n",
      "_________________________________________________________________\n",
      "dropout_1 (Dropout)          (None, 512)               0         \n",
      "_________________________________________________________________\n",
      "dense_2 (Dense)              (None, 10)                5130      \n",
      "=================================================================\n",
      "Total params: 3,226,474\n",
      "Trainable params: 3,226,474\n",
      "Non-trainable params: 0\n",
      "_________________________________________________________________\n"
     ]
    }
   ],
   "source": [
    "model2.summary()"
   ]
  },
  {
   "cell_type": "code",
   "execution_count": 8,
   "metadata": {},
   "outputs": [
    {
     "name": "stdout",
     "output_type": "stream",
     "text": [
      "Train on 49500 samples, validate on 5500 samples\n",
      "Epoch 1/5\n",
      "49500/49500 [==============================] - 330s - loss: 0.1601 - acc: 0.9505 - val_loss: 0.0619 - val_acc: 0.9822\n",
      "Epoch 2/5\n",
      "49500/49500 [==============================] - 332s - loss: 0.0546 - acc: 0.9827 - val_loss: 0.0488 - val_acc: 0.9862\n",
      "Epoch 3/5\n",
      "49500/49500 [==============================] - 333s - loss: 0.0380 - acc: 0.9880 - val_loss: 0.0502 - val_acc: 0.9865\n",
      "Epoch 4/5\n",
      "49500/49500 [==============================] - 338s - loss: 0.0294 - acc: 0.9909 - val_loss: 0.0434 - val_acc: 0.9876\n",
      "Epoch 5/5\n",
      "49500/49500 [==============================] - 338s - loss: 0.0221 - acc: 0.9926 - val_loss: 0.0549 - val_acc: 0.9849\n"
     ]
    }
   ],
   "source": [
    "model2.compile(loss='categorical_crossentropy',\n",
    "              optimizer=Adam(lr=0.001, beta_1=0.9, beta_2=0.999, epsilon=1e-08, decay=0.0),\n",
    "              metrics=['accuracy'])\n",
    "\n",
    "es = EarlyStopping(monitor='val_loss', patience=2)   #  検証用データのロスが改善されなくなったら2エポック後に停止\n",
    "tb_cb = keras.callbacks.TensorBoard(log_dir='tblog', histogram_freq=1, write_graph=True)\n",
    "csv_logger = CSVLogger('training2.log')\n",
    "\n",
    "hist = model2.fit(images, labels,\n",
    "                 batch_size=batch_size,\n",
    "                 epochs=epochs,\n",
    "                 verbose=1,\n",
    "                 validation_split=0.1, # 1 % は検証用に利用する\n",
    "                 callbacks=[es, csv_logger,tb_cb])\n",
    "                 # callbacks=[es, csv_logger])"
   ]
  },
  {
   "cell_type": "markdown",
   "metadata": {
    "collapsed": true
   },
   "source": [
    "# 99.2%"
   ]
  },
  {
   "cell_type": "code",
   "execution_count": 9,
   "metadata": {},
   "outputs": [
    {
     "name": "stdout",
     "output_type": "stream",
     "text": [
      "test loss: 0.0438269817607\n",
      "test acc: 0.9868\n"
     ]
    },
    {
     "data": {
      "image/png": "[encoded data removed]",
      "text/plain": [
       "<matplotlib.figure.Figure at 0x1fbd813def0>"
      ]
     },
     "metadata": {},
     "output_type": "display_data"
    }
   ],
   "source": [
    "score = model2.evaluate(timages, tlabels, verbose=0)\n",
    "print('test loss:', score[0])\n",
    "print('test acc:', score[1])\n",
    "\n",
    "# plot results\n",
    "loss = hist.history['loss']\n",
    "val_loss = hist.history['val_loss']\n",
    "acc = hist.history['acc']\n",
    "val_acc = hist.history['val_acc']\n",
    "\n",
    "epochs = len(loss)\n",
    "plt.plot(range(epochs), loss, marker='.', label='loss')\n",
    "plt.plot(range(epochs), val_loss, marker='.', label='val_loss')\n",
    "plt.plot(range(epochs), acc, marker='.', label='acc')\n",
    "plt.plot(range(epochs), val_acc, marker='.', label='val_acc')\n",
    "plt.legend(loc='best')\n",
    "plt.grid()\n",
    "plt.xlabel('epoch')\n",
    "plt.ylabel('acc')\n",
    "plt.show()"
   ]
  },
  {
   "cell_type": "code",
   "execution_count": 18,
   "metadata": {
    "collapsed": true
   },
   "outputs": [],
   "source": [
    "KTF.set_session(old_session)"
   ]
  },
  {
   "cell_type": "code",
   "execution_count": 19,
   "metadata": {
    "collapsed": true
   },
   "outputs": [],
   "source": [
    "old_session = KTF.get_session ()   # tensorboardを使うのに必要な設定"
   ]
  },
  {
   "cell_type": "code",
   "execution_count": 20,
   "metadata": {
    "collapsed": true
   },
   "outputs": [],
   "source": [
    "sess = tf.InteractiveSession ()     # tensorboardを使うのに必要な設定\n",
    "KTF.set_session (sess)              # tensorboardをわないなら不要\n",
    "KTF.set_learning_phase (1)          # \n",
    "\n",
    "model3 = Sequential()\n",
    "model3.add(Conv2D(32,kernel_size=(5, 5),padding='same',\n",
    "                 activation='relu', input_shape=(28,28,1)))\n",
    "model3.add(MaxPooling2D(pool_size=(4, 4)))\n",
    "model3.add(Flatten())\n",
    "model3.add(Dense(196, activation='relu'))\n",
    "model3.add(Dropout(0.5))\n",
    "model3.add(Dense(num_classes, activation='softmax'))"
   ]
  },
  {
   "cell_type": "code",
   "execution_count": 21,
   "metadata": {},
   "outputs": [
    {
     "name": "stdout",
     "output_type": "stream",
     "text": [
      "_________________________________________________________________\n",
      "Layer (type)                 Output Shape              Param #   \n",
      "=================================================================\n",
      "conv2d_5 (Conv2D)            (None, 28, 28, 32)        832       \n",
      "_________________________________________________________________\n",
      "max_pooling2d_4 (MaxPooling2 (None, 7, 7, 32)          0         \n",
      "_________________________________________________________________\n",
      "flatten_4 (Flatten)          (None, 1568)              0         \n",
      "_________________________________________________________________\n",
      "dense_7 (Dense)              (None, 196)               307524    \n",
      "_________________________________________________________________\n",
      "dropout_4 (Dropout)          (None, 196)               0         \n",
      "_________________________________________________________________\n",
      "dense_8 (Dense)              (None, 10)                1970      \n",
      "=================================================================\n",
      "Total params: 310,326\n",
      "Trainable params: 310,326\n",
      "Non-trainable params: 0\n",
      "_________________________________________________________________\n"
     ]
    }
   ],
   "source": [
    "model3.summary()"
   ]
  },
  {
   "cell_type": "code",
   "execution_count": 23,
   "metadata": {},
   "outputs": [
    {
     "name": "stdout",
     "output_type": "stream",
     "text": [
      "Train on 44000 samples, validate on 11000 samples\n",
      "Epoch 1/5\n",
      "44000/44000 [==============================] - 45s - loss: 0.3197 - acc: 0.9024 - val_loss: 0.1409 - val_acc: 0.9592\n",
      "Epoch 2/5\n",
      "44000/44000 [==============================] - 39s - loss: 0.1134 - acc: 0.9655 - val_loss: 0.0947 - val_acc: 0.9725\n",
      "Epoch 3/5\n",
      "44000/44000 [==============================] - 39s - loss: 0.0798 - acc: 0.9753 - val_loss: 0.0826 - val_acc: 0.9747\n",
      "Epoch 4/5\n",
      "44000/44000 [==============================] - 39s - loss: 0.0687 - acc: 0.9790 - val_loss: 0.0673 - val_acc: 0.9802\n",
      "Epoch 5/5\n",
      "44000/44000 [==============================] - 39s - loss: 0.0566 - acc: 0.9820 - val_loss: 0.0747 - val_acc: 0.9785\n"
     ]
    }
   ],
   "source": [
    "model3.compile(loss='categorical_crossentropy',\n",
    "              optimizer=Adam(lr=0.001, beta_1=0.9, beta_2=0.999, epsilon=1e-08, decay=0.0),\n",
    "              metrics=['accuracy'])\n",
    "es = EarlyStopping(monitor='val_loss', patience=2)   #  検証用データのロスが改善されなくなったら2エポック後に停止\n",
    "# tb_cb = keras.callbacks.TensorBoard(log_dir='tblog', histogram_freq=1, write_graph=True)\n",
    "csv_logger = CSVLogger('training2.log')\n",
    "\n",
    "hist = model3.fit(images, labels,\n",
    "                 batch_size=batch_size,\n",
    "                 epochs=epochs,\n",
    "                 verbose=1,\n",
    "                 validation_split=0.2, # 1 % は検証用に利用する\n",
    "                 #                 callbacks=[es, csv_logger,tb_cb])\n",
    "                 callbacks=[es, csv_logger])"
   ]
  },
  {
   "cell_type": "code",
   "execution_count": 24,
   "metadata": {},
   "outputs": [
    {
     "name": "stdout",
     "output_type": "stream",
     "text": [
      "Train on 44000 samples, validate on 11000 samples\n",
      "Epoch 1/5\n",
      "44000/44000 [==============================] - 42s - loss: 0.0533 - acc: 0.9832 - val_loss: 0.0640 - val_acc: 0.9808\n",
      "Epoch 2/5\n",
      "44000/44000 [==============================] - 40s - loss: 0.0427 - acc: 0.9865 - val_loss: 0.0673 - val_acc: 0.9815\n",
      "Epoch 3/5\n",
      "44000/44000 [==============================] - 40s - loss: 0.0401 - acc: 0.9871 - val_loss: 0.0807 - val_acc: 0.9796\n",
      "Epoch 4/5\n",
      "44000/44000 [==============================] - 40s - loss: 0.0361 - acc: 0.9885 - val_loss: 0.0620 - val_acc: 0.9817\n",
      "Epoch 5/5\n",
      "44000/44000 [==============================] - 41s - loss: 0.0336 - acc: 0.9884 - val_loss: 0.0649 - val_acc: 0.9832\n"
     ]
    }
   ],
   "source": [
    "hist = model3.fit(images, labels,\n",
    "                 batch_size=batch_size,\n",
    "                 epochs=epochs,\n",
    "                 verbose=1,\n",
    "                 validation_split=0.2, # 1 % は検証用に利用する\n",
    "                 #                 callbacks=[es, csv_logger,tb_cb])\n",
    "                 callbacks=[es, csv_logger])"
   ]
  },
  {
   "cell_type": "code",
   "execution_count": null,
   "metadata": {
    "collapsed": true
   },
   "outputs": [],
   "source": []
  }
 ],
 "metadata": {
  "kernelspec": {
   "display_name": "Python 3",
   "language": "python",
   "name": "python3"
  },
  "language_info": {
   "codemirror_mode": {
    "name": "ipython",
    "version": 3
   },
   "file_extension": ".py",
   "mimetype": "text/x-python",
   "name": "python",
   "nbconvert_exporter": "python",
   "pygments_lexer": "ipython3",
   "version": "3.6.2"
  }
 },
 "nbformat": 4,
 "nbformat_minor": 2
}
