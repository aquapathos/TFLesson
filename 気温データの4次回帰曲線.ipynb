{
 "cells": [
  {
   "cell_type": "code",
   "execution_count": 101,
   "metadata": {
    "collapsed": true
   },
   "outputs": [],
   "source": [
    "import pandas as pd\n",
    "import numpy as np\n",
    "import matplotlib.pyplot as plt\n",
    "import tensorflow as tf\n",
    "%matplotlib inline"
   ]
  },
  {
   "cell_type": "markdown",
   "metadata": {},
   "source": [
    "# データの取り込み"
   ]
  },
  {
   "cell_type": "code",
   "execution_count": 102,
   "metadata": {
    "collapsed": true
   },
   "outputs": [],
   "source": [
    "url = \"http://www.data.jma.go.jp/obd/stats/etrn/view/monthly_a1.php?prec_no=62&block_no=1062&year=2016&month=&day=&view=a2\"\n",
    "df = pd.io.html.read_html(url) # urlで指定しtページのテーブルデータを読み込む\n",
    "dataAll = df[0] # 最初の表が気温データ\n",
    "data = dataAll[3:].loc[3:15,1:3].astype(float)\n",
    "data.reset_index(drop=True,inplace=True)\n",
    "data.columns=['平均','最高','最低']\n",
    "data.index=['1','2','3','4','5','6','7','8','9','10','11','12']"
   ]
  },
  {
   "cell_type": "code",
   "execution_count": 103,
   "metadata": {},
   "outputs": [
    {
     "data": {
      "text/html": [
       "<div>\n",
       "<style>\n",
       "    .dataframe thead tr:only-child th {\n",
       "        text-align: right;\n",
       "    }\n",
       "\n",
       "    .dataframe thead th {\n",
       "        text-align: left;\n",
       "    }\n",
       "\n",
       "    .dataframe tbody tr th {\n",
       "        vertical-align: top;\n",
       "    }\n",
       "</style>\n",
       "<table border=\"1\" class=\"dataframe\">\n",
       "  <thead>\n",
       "    <tr style=\"text-align: right;\">\n",
       "      <th></th>\n",
       "      <th>平均</th>\n",
       "      <th>最高</th>\n",
       "      <th>最低</th>\n",
       "    </tr>\n",
       "  </thead>\n",
       "  <tbody>\n",
       "    <tr>\n",
       "      <th>1</th>\n",
       "      <td>6.6</td>\n",
       "      <td>10.5</td>\n",
       "      <td>2.3</td>\n",
       "    </tr>\n",
       "    <tr>\n",
       "      <th>2</th>\n",
       "      <td>7.1</td>\n",
       "      <td>11.6</td>\n",
       "      <td>2.6</td>\n",
       "    </tr>\n",
       "    <tr>\n",
       "      <th>3</th>\n",
       "      <td>10.4</td>\n",
       "      <td>15.7</td>\n",
       "      <td>5.3</td>\n",
       "    </tr>\n",
       "    <tr>\n",
       "      <th>4</th>\n",
       "      <td>16.1</td>\n",
       "      <td>21.0</td>\n",
       "      <td>11.5</td>\n",
       "    </tr>\n",
       "    <tr>\n",
       "      <th>5</th>\n",
       "      <td>20.5</td>\n",
       "      <td>25.9</td>\n",
       "      <td>15.4</td>\n",
       "    </tr>\n",
       "    <tr>\n",
       "      <th>6</th>\n",
       "      <td>23.0</td>\n",
       "      <td>27.5</td>\n",
       "      <td>19.1</td>\n",
       "    </tr>\n",
       "    <tr>\n",
       "      <th>7</th>\n",
       "      <td>27.8</td>\n",
       "      <td>32.4</td>\n",
       "      <td>24.2</td>\n",
       "    </tr>\n",
       "    <tr>\n",
       "      <th>8</th>\n",
       "      <td>29.3</td>\n",
       "      <td>34.9</td>\n",
       "      <td>25.3</td>\n",
       "    </tr>\n",
       "    <tr>\n",
       "      <th>9</th>\n",
       "      <td>25.4</td>\n",
       "      <td>29.8</td>\n",
       "      <td>22.0</td>\n",
       "    </tr>\n",
       "    <tr>\n",
       "      <th>10</th>\n",
       "      <td>20.2</td>\n",
       "      <td>24.9</td>\n",
       "      <td>16.0</td>\n",
       "    </tr>\n",
       "    <tr>\n",
       "      <th>11</th>\n",
       "      <td>13.0</td>\n",
       "      <td>17.4</td>\n",
       "      <td>9.0</td>\n",
       "    </tr>\n",
       "    <tr>\n",
       "      <th>12</th>\n",
       "      <td>9.1</td>\n",
       "      <td>13.4</td>\n",
       "      <td>4.3</td>\n",
       "    </tr>\n",
       "  </tbody>\n",
       "</table>\n",
       "</div>"
      ],
      "text/plain": [
       "      平均    最高    最低\n",
       "1    6.6  10.5   2.3\n",
       "2    7.1  11.6   2.6\n",
       "3   10.4  15.7   5.3\n",
       "4   16.1  21.0  11.5\n",
       "5   20.5  25.9  15.4\n",
       "6   23.0  27.5  19.1\n",
       "7   27.8  32.4  24.2\n",
       "8   29.3  34.9  25.3\n",
       "9   25.4  29.8  22.0\n",
       "10  20.2  24.9  16.0\n",
       "11  13.0  17.4   9.0\n",
       "12   9.1  13.4   4.3"
      ]
     },
     "execution_count": 103,
     "metadata": {},
     "output_type": "execute_result"
    }
   ],
   "source": [
    "data"
   ]
  },
  {
   "cell_type": "markdown",
   "metadata": {},
   "source": [
    "# Placefolder"
   ]
  },
  {
   "cell_type": "code",
   "execution_count": 104,
   "metadata": {
    "collapsed": true
   },
   "outputs": [],
   "source": [
    "m = tf.placeholder(tf.float32,[None,5]) # 月の数値格納用　便宜的に０乗から４乗まで独立データ扱い\n",
    "t = tf.placeholder(tf.float32,[None,1]) # 気温の実データ格納用 "
   ]
  },
  {
   "cell_type": "markdown",
   "metadata": {},
   "source": [
    "# Variables"
   ]
  },
  {
   "cell_type": "code",
   "execution_count": 105,
   "metadata": {
    "collapsed": true
   },
   "outputs": [],
   "source": [
    "w = tf.Variable(tf.zeros([5,1])) # 求めるべき回帰曲線の係数"
   ]
  },
  {
   "cell_type": "markdown",
   "metadata": {},
   "source": [
    "# 出力の計算"
   ]
  },
  {
   "cell_type": "code",
   "execution_count": 106,
   "metadata": {
    "collapsed": true
   },
   "outputs": [],
   "source": [
    "y = tf.matmul(m,w)"
   ]
  },
  {
   "cell_type": "markdown",
   "metadata": {},
   "source": [
    "# 目的関数の定義"
   ]
  },
  {
   "cell_type": "code",
   "execution_count": 107,
   "metadata": {
    "collapsed": true
   },
   "outputs": [],
   "source": [
    "loss = tf.reduce_sum(tf.square(y-t))"
   ]
  },
  {
   "cell_type": "markdown",
   "metadata": {},
   "source": [
    "# 学習ステップの定義"
   ]
  },
  {
   "cell_type": "code",
   "execution_count": 108,
   "metadata": {
    "collapsed": true
   },
   "outputs": [],
   "source": [
    "train_step = tf.train.AdamOptimizer().minimize(loss)"
   ]
  },
  {
   "cell_type": "markdown",
   "metadata": {},
   "source": [
    "# 学習セッションの初期化"
   ]
  },
  {
   "cell_type": "code",
   "execution_count": 109,
   "metadata": {
    "collapsed": true
   },
   "outputs": [],
   "source": [
    "sess = tf.Session()\n",
    "#sess.run(tf.initialize_all_variables())   # 古い書き方\n",
    "sess.run(tf.global_variables_initializer()) # 変数の初期化"
   ]
  },
  {
   "cell_type": "code",
   "execution_count": 110,
   "metadata": {},
   "outputs": [
    {
     "data": {
      "text/plain": [
       "array([[ 0.],\n",
       "       [ 0.],\n",
       "       [ 0.],\n",
       "       [ 0.],\n",
       "       [ 0.]], dtype=float32)"
      ]
     },
     "execution_count": 110,
     "metadata": {},
     "output_type": "execute_result"
    }
   ],
   "source": [
    "sess.run(w)"
   ]
  },
  {
   "cell_type": "code",
   "execution_count": 112,
   "metadata": {},
   "outputs": [
    {
     "data": {
      "text/plain": [
       "array([[  6.6],\n",
       "       [  7.1],\n",
       "       [ 10.4],\n",
       "       [ 16.1],\n",
       "       [ 20.5],\n",
       "       [ 23. ],\n",
       "       [ 27.8],\n",
       "       [ 29.3],\n",
       "       [ 25.4],\n",
       "       [ 20.2],\n",
       "       [ 13. ],\n",
       "       [  9.1]])"
      ]
     },
     "execution_count": 112,
     "metadata": {},
     "output_type": "execute_result"
    }
   ],
   "source": [
    "train_t = data['平均'].values.reshape([12,1])\n",
    "train_t"
   ]
  },
  {
   "cell_type": "code",
   "execution_count": 115,
   "metadata": {
    "collapsed": true
   },
   "outputs": [],
   "source": [
    "train_m = np.zeros([12,5])\n",
    "for i in range(1,13):\n",
    "    for j in range(0,5):\n",
    "        train_m[i-1][j] = i ** j"
   ]
  },
  {
   "cell_type": "markdown",
   "metadata": {},
   "source": [
    "# 学習の実行"
   ]
  },
  {
   "cell_type": "code",
   "execution_count": 116,
   "metadata": {},
   "outputs": [
    {
     "name": "stdout",
     "output_type": "stream",
     "text": [
      "Steps: 10000, Loss: 35.234711\n",
      "Steps: 20000, Loss: 33.012032\n",
      "Steps: 30000, Loss: 31.461893\n",
      "Steps: 40000, Loss: 31.469543\n",
      "Steps: 50000, Loss: 28.697620\n",
      "Steps: 60000, Loss: 27.463562\n",
      "Steps: 70000, Loss: 26.330143\n",
      "Steps: 80000, Loss: 25.262829\n",
      "Steps: 90000, Loss: 24.563015\n",
      "Steps: 100000, Loss: 23.373585\n"
     ]
    }
   ],
   "source": [
    "times = 0\n",
    "for _ in range(100000):\n",
    "    times += 1\n",
    "    sess.run(train_step, feed_dict={m:train_m,t:train_t})\n",
    "    if times % 10000 == 0:\n",
    "        loss_val = sess.run(loss, feed_dict={m:train_m,t:train_t})\n",
    "        print('Steps: {0:d}, Loss: {1:f}'.format(times,loss_val))"
   ]
  },
  {
   "cell_type": "code",
   "execution_count": 117,
   "metadata": {},
   "outputs": [
    {
     "name": "stdout",
     "output_type": "stream",
     "text": [
      "Steps: 110000, Loss: 22.532936\n",
      "Steps: 120000, Loss: 21.753988\n",
      "Steps: 130000, Loss: 21.032263\n",
      "Steps: 140000, Loss: 20.363102\n",
      "Steps: 150000, Loss: 19.940952\n",
      "Steps: 160000, Loss: 19.246567\n",
      "Steps: 170000, Loss: 18.688578\n",
      "Steps: 180000, Loss: 18.147900\n",
      "Steps: 190000, Loss: 17.691557\n",
      "Steps: 200000, Loss: 17.269127\n"
     ]
    }
   ],
   "source": [
    "for _ in range(100000):\n",
    "    times += 1\n",
    "    sess.run(train_step, feed_dict={m:train_m,t:train_t})\n",
    "    if times % 10000 == 0:\n",
    "        loss_val = sess.run(loss, feed_dict={m:train_m,t:train_t})\n",
    "        print('Steps: {0:d}, Loss: {1:f}'.format(times,loss_val))"
   ]
  },
  {
   "cell_type": "markdown",
   "metadata": {},
   "source": [
    "# 得られた係数の確認"
   ]
  },
  {
   "cell_type": "code",
   "execution_count": 118,
   "metadata": {},
   "outputs": [
    {
     "name": "stdout",
     "output_type": "stream",
     "text": [
      "[[ 7.78371477]\n",
      " [-4.5488658 ]\n",
      " [ 2.73118854]\n",
      " [-0.30605912]\n",
      " [ 0.00916939]]\n"
     ]
    }
   ],
   "source": [
    "w_result = sess.run(w)\n",
    "print(w_result)"
   ]
  },
  {
   "cell_type": "markdown",
   "metadata": {},
   "source": [
    "## 気温曲線の計算式"
   ]
  },
  {
   "cell_type": "code",
   "execution_count": 147,
   "metadata": {
    "collapsed": true
   },
   "outputs": [],
   "source": [
    "def temparature(m):\n",
    "    result = 0.0\n",
    "    for n in range(0, 5):\n",
    "        result += w_result[n][0] * m**n\n",
    "    return result"
   ]
  },
  {
   "cell_type": "code",
   "execution_count": 148,
   "metadata": {},
   "outputs": [
    {
     "data": {
      "text/plain": [
       "[<matplotlib.lines.Line2D at 0x17fb64c4828>]"
      ]
     },
     "execution_count": 148,
     "metadata": {},
     "output_type": "execute_result"
    },
    {
     "data": {
      "image/png": "[encoded data removed]",
      "text/plain": [
       "<matplotlib.figure.Figure at 0x17fb66d7978>"
      ]
     },
     "metadata": {},
     "output_type": "display_data"
    }
   ],
   "source": [
    "fig = plt.figure()\n",
    "subplot = fig.add_subplot(1,1,1)\n",
    "subplot.set_xlim(1,12)\n",
    "subplot.scatter(range(1,13), train_t)\n",
    "linex = np.linspace(1,12,100)\n",
    "liney = temparature(linex)\n",
    "subplot.plot(linex, liney)"
   ]
  },
  {
   "cell_type": "code",
   "execution_count": 146,
   "metadata": {},
   "outputs": [
    {
     "data": {
      "text/plain": [
       "<tf.Tensor 'add_15:0' shape=(?, 5) dtype=float32>"
      ]
     },
     "execution_count": 146,
     "metadata": {},
     "output_type": "execute_result"
    }
   ],
   "source": [
    "temparature(3)"
   ]
  },
  {
   "cell_type": "code",
   "execution_count": null,
   "metadata": {
    "collapsed": true
   },
   "outputs": [],
   "source": []
  }
 ],
 "metadata": {
  "kernelspec": {
   "display_name": "Python 3",
   "language": "python",
   "name": "python3"
  },
  "language_info": {
   "codemirror_mode": {
    "name": "ipython",
    "version": 3
   },
   "file_extension": ".py",
   "mimetype": "text/x-python",
   "name": "python",
   "nbconvert_exporter": "python",
   "pygments_lexer": "ipython3",
   "version": "3.6.2"
  }
 },
 "nbformat": 4,
 "nbformat_minor": 2
}
