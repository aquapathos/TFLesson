{
 "cells": [
  {
   "cell_type": "code",
   "execution_count": 1,
   "metadata": {
    "collapsed": true
   },
   "outputs": [],
   "source": [
    "import numpy as np\n",
    "from numpy.random import multivariate_normal, permutation\n",
    "import pandas as pd\n",
    "from pandas import DataFrame, Series\n",
    "import matplotlib.pyplot as plt\n",
    "from tensorflow.examples.tutorials.mnist import input_data\n",
    "import seaborn as sns\n",
    "import tensorflow as tf\n",
    "%matplotlib inline\n"
   ]
  },
  {
   "cell_type": "code",
   "execution_count": 2,
   "metadata": {
    "collapsed": true
   },
   "outputs": [],
   "source": [
    "def plotchr(image,label,i):\n",
    "    sns.set_context(\"talk\")\n",
    "    plt.subplot(1,6,i+1)\n",
    "    plt.xticks([])\n",
    "    plt.yticks([])\n",
    "    plt.title(\"%d\" % np.argmax(label))\n",
    "    plt.imshow(image,cmap=plt.cm.gray_r)"
   ]
  },
  {
   "cell_type": "code",
   "execution_count": 7,
   "metadata": {
    "collapsed": true
   },
   "outputs": [],
   "source": [
    "np.random.seed(20170731)\n",
    "tf.set_random_seed(20170731)"
   ]
  },
  {
   "cell_type": "markdown",
   "metadata": {},
   "source": [
    "# 実験データの生成関数"
   ]
  },
  {
   "cell_type": "code",
   "execution_count": 8,
   "metadata": {},
   "outputs": [
    {
     "data": {
      "image/png": "[encoded data removed]",
      "text/plain": [
       "<matplotlib.figure.Figure at 0x1d8bcd433c8>"
      ]
     },
     "metadata": {},
     "output_type": "display_data"
    }
   ],
   "source": [
    "def generate_datablock(n, mu, var, label):\n",
    "    data = multivariate_normal(mu, np.eye(2)*var, n)\n",
    "    df = DataFrame(data, columns =['x','y'])\n",
    "    df['l' ] = label\n",
    "    return df\n",
    "\n",
    "df0 = generate_datablock(15, [7,7], 20, 0)\n",
    "df1 = generate_datablock(15, [22,7], 20, 0)\n",
    "df2 = generate_datablock(10, [7,22], 20, 0)\n",
    "df3 = generate_datablock(25, [22,22], 20, 1)\n",
    "\n",
    "df = pd.concat([df0,df1,df2,df3], ignore_index=True)\n",
    "train_set = df.reindex(permutation(df.index)).reset_index(drop=True)\n",
    "\n",
    "sns.regplot(x=\"x\", y=\"y\", data=df[df['l']==1],fit_reg=False)\n",
    "sns.regplot(x=\"x\", y=\"y\", data=df[df['l']==0],fit_reg=False)\n",
    "\n",
    "plt.show()"
   ]
  },
  {
   "cell_type": "markdown",
   "metadata": {},
   "source": [
    "# データの取り出し"
   ]
  },
  {
   "cell_type": "code",
   "execution_count": 15,
   "metadata": {
    "collapsed": true
   },
   "outputs": [],
   "source": [
    "train_x = train_set[['x','y']].as_matrix()\n",
    "train_t = train_set[['l']].as_matrix()"
   ]
  },
  {
   "cell_type": "markdown",
   "metadata": {},
   "source": [
    "# モデル定義"
   ]
  },
  {
   "cell_type": "code",
   "execution_count": 16,
   "metadata": {
    "collapsed": true
   },
   "outputs": [],
   "source": [
    "num_units = 2\n",
    "mult = train_x.flatten().mean()   # x,yを区別しない平均値"
   ]
  },
  {
   "cell_type": "code",
   "execution_count": 17,
   "metadata": {
    "collapsed": true
   },
   "outputs": [],
   "source": [
    "x = tf.placeholder(tf.float32,[None,2])\n",
    "\n",
    "w1 = tf.Variable(tf.truncated_normal([2, num_units]))   # 0 を平均として分散1の正規分布乱数で初期化\n",
    "b1 = tf.Variable(tf.zeros([num_units]))\n",
    "hidden1 = tf.nn.tanh(tf.matmul(x,w1) + b1*mult)\n",
    "\n",
    "w0 = tf.Variable(tf.zeros([num_units,1]))\n",
    "b0 = tf.Variable(tf.zeros([1]))\n",
    "p = tf.nn.sigmoid(tf.matmul(hidden1,w0) + b0*mult)"
   ]
  },
  {
   "cell_type": "markdown",
   "metadata": {},
   "source": [
    "# 誤差関数の定義"
   ]
  },
  {
   "cell_type": "code",
   "execution_count": 28,
   "metadata": {
    "collapsed": true
   },
   "outputs": [],
   "source": [
    "t = tf.placeholder(tf.float32, [None,1])\n",
    "loss = -tf.reduce_sum(t*tf.log(p) + (1-t)*tf.log(1-p))\n",
    "#train_step = tf.train.AdamOptimizer().minimize(loss)\n",
    "train_step = tf.train.GradientDescentOptimizer(0.002).minimize(loss)\n",
    "correct_prediction = tf.equal(tf.sign(p-0.5), tf.sign(t-0.5))\n",
    "accuracy = tf.reduce_mean(tf.cast(correct_prediction, tf.float32))"
   ]
  },
  {
   "cell_type": "markdown",
   "metadata": {},
   "source": [
    "# 学習セッション"
   ]
  },
  {
   "cell_type": "code",
   "execution_count": 29,
   "metadata": {
    "collapsed": true
   },
   "outputs": [],
   "source": [
    "sess = tf.InteractiveSession()\n",
    "sess.run(tf.global_variables_initializer())"
   ]
  },
  {
   "cell_type": "code",
   "execution_count": 30,
   "metadata": {},
   "outputs": [
    {
     "name": "stdout",
     "output_type": "stream",
     "text": [
      "Step: 100, Loss: 331.986908, Accuracy: 0.615385\n",
      "Step: 200, Loss: 87.598572, Accuracy: 0.615385\n",
      "Step: 300, Loss: 68.744202, Accuracy: 0.615385\n",
      "Step: 400, Loss: 40.323616, Accuracy: 0.615385\n",
      "Step: 500, Loss: 16.143335, Accuracy: 0.938462\n",
      "Step: 600, Loss: 15.857124, Accuracy: 0.953846\n",
      "Step: 700, Loss: 10.007274, Accuracy: 0.953846\n",
      "Step: 800, Loss: 17.189583, Accuracy: 0.907692\n",
      "Step: 900, Loss: 17.104786, Accuracy: 0.907692\n",
      "Step: 1000, Loss: 19.775637, Accuracy: 0.907692\n"
     ]
    }
   ],
   "source": [
    "times = 0\n",
    "for _ in range(1000):\n",
    "    times += 1\n",
    "    sess.run(train_step, feed_dict = {x:train_x, t:train_t})\n",
    "    if times  % 100 == 0:\n",
    "        loss_val, acc_val = sess.run(\n",
    "            [loss, accuracy], feed_dict = {x:train_x, t:train_t})\n",
    "        print(\"Step: {0:d}, Loss: {1:f}, Accuracy: {2:f}\".format(times, loss_val, acc_val))"
   ]
  },
  {
   "cell_type": "markdown",
   "metadata": {},
   "source": [
    "# 検証"
   ]
  },
  {
   "cell_type": "code",
   "execution_count": 31,
   "metadata": {
    "scrolled": true
   },
   "outputs": [
    {
     "data": {
      "text/plain": [
       "<matplotlib.image.AxesImage at 0x1d8bd7e1828>"
      ]
     },
     "execution_count": 31,
     "metadata": {},
     "output_type": "execute_result"
    },
    {
     "data": {
      "image/png": "[encoded data removed]",
      "text/plain": [
       "<matplotlib.figure.Figure at 0x1d8bd4bc898>"
      ]
     },
     "metadata": {},
     "output_type": "display_data"
    }
   ],
   "source": [
    "#train_set1 = train_set[train_set['l']==1]\n",
    "#train_set1 = train_set[train_set['l']==0]\n",
    "\n",
    "sns.regplot(x=\"x\", y=\"y\", data=df[df['l']==1],fit_reg=False, marker=\"o\")\n",
    "sns.regplot(x=\"x\", y=\"y\", data=df[df['l']==0],fit_reg=False,marker=\"x\")\n",
    "\n",
    "locations = []\n",
    "for y1 in np.linspace(0,30,100):\n",
    "    for x1 in np.linspace(0,30,100):\n",
    "        locations.append([x1,y1])\n",
    "p_vals = sess.run(p, feed_dict={x:locations})\n",
    "p_vals = p_vals.reshape((100,100))\n",
    "plt.imshow(p_vals, origin='lower', extent=(0,30,0,30), cmap=plt.cm.gray_r, alpha = 0.5)"
   ]
  },
  {
   "cell_type": "markdown",
   "metadata": {
    "collapsed": true
   },
   "source": [
    "# 隠れ層のノードを増やしてみる"
   ]
  },
  {
   "cell_type": "code",
   "execution_count": 65,
   "metadata": {
    "collapsed": true
   },
   "outputs": [],
   "source": [
    "num_units = 4\n",
    "mult = train_x.flatten().mean()   # x,yを区別しない平均値\n",
    "x = tf.placeholder(tf.float32,[None,2])\n",
    "\n",
    "w1 = tf.Variable(tf.truncated_normal([2, num_units]))   # 0 を平均として分散1の正規分布乱数で初期化\n",
    "b1 = tf.Variable(tf.zeros([num_units]))\n",
    "hidden1 = tf.nn.tanh(tf.matmul(x,w1) + b1*mult)\n",
    "\n",
    "w0 = tf.Variable(tf.zeros([num_units,1]))\n",
    "b0 = tf.Variable(tf.zeros([1]))\n",
    "p = tf.nn.sigmoid(tf.matmul(hidden1,w0) + b0*mult)\n",
    "\n",
    "t = tf.placeholder(tf.float32, [None,1])\n",
    "loss = -tf.reduce_sum(t*tf.log(p) + (1-t)*tf.log(1-p))\n",
    "#train_step = tf.train.AdamOptimizer().minimize(loss)\n",
    "train_step = tf.train.GradientDescentOptimizer(0.001).minimize(loss)\n",
    "correct_prediction = tf.equal(tf.sign(p-0.5), tf.sign(t-0.5))\n",
    "accuracy = tf.reduce_mean(tf.cast(correct_prediction, tf.float32))"
   ]
  },
  {
   "cell_type": "code",
   "execution_count": 66,
   "metadata": {},
   "outputs": [
    {
     "name": "stdout",
     "output_type": "stream",
     "text": [
      "Step: 50, Loss: 94.617599, Accuracy: 0.384615\n",
      "Step: 100, Loss: 41.652534, Accuracy: 0.615385\n",
      "Step: 150, Loss: 64.242378, Accuracy: 0.615385\n",
      "Step: 200, Loss: 61.796593, Accuracy: 0.661538\n",
      "Step: 250, Loss: 56.332413, Accuracy: 0.707692\n",
      "Step: 300, Loss: 47.351776, Accuracy: 0.723077\n",
      "Step: 350, Loss: 25.185022, Accuracy: 0.815385\n",
      "Step: 400, Loss: 15.773760, Accuracy: 0.892308\n",
      "Step: 450, Loss: 12.859571, Accuracy: 0.969231\n",
      "Step: 500, Loss: 11.404154, Accuracy: 0.969231\n"
     ]
    }
   ],
   "source": [
    "sess = tf.InteractiveSession()\n",
    "sess.run(tf.global_variables_initializer())\n",
    "times = 0\n",
    "for _ in range(500):\n",
    "    times += 1\n",
    "    sess.run(train_step, feed_dict = {x:train_x, t:train_t})\n",
    "    if times  % 50 == 0:\n",
    "        loss_val, acc_val = sess.run(\n",
    "            [loss, accuracy], feed_dict = {x:train_x, t:train_t})\n",
    "        print(\"Step: {0:d}, Loss: {1:f}, Accuracy: {2:f}\".format(times, loss_val, acc_val))"
   ]
  },
  {
   "cell_type": "code",
   "execution_count": 67,
   "metadata": {},
   "outputs": [
    {
     "data": {
      "text/plain": [
       "<matplotlib.image.AxesImage at 0x1d8c1b68550>"
      ]
     },
     "execution_count": 67,
     "metadata": {},
     "output_type": "execute_result"
    },
    {
     "data": {
      "image/png": "[encoded data removed]",
      "text/plain": [
       "<matplotlib.figure.Figure at 0x1d8c1b30ba8>"
      ]
     },
     "metadata": {},
     "output_type": "display_data"
    }
   ],
   "source": [
    "#train_set1 = train_set[train_set['l']==1]\n",
    "#train_set1 = train_set[train_set['l']==0]\n",
    "\n",
    "sns.regplot(x=\"x\", y=\"y\", data=df[df['l']==1],fit_reg=False, marker=\"o\")\n",
    "sns.regplot(x=\"x\", y=\"y\", data=df[df['l']==0],fit_reg=False,marker=\"x\")\n",
    "\n",
    "locations = []\n",
    "for y1 in np.linspace(0,30,100):\n",
    "    for x1 in np.linspace(0,30,100):\n",
    "        locations.append([x1,y1])\n",
    "p_vals = sess.run(p, feed_dict={x:locations})\n",
    "p_vals = p_vals.reshape((100,100))\n",
    "plt.imshow(p_vals, origin='lower', extent=(0,30,0,30), cmap=plt.cm.gray_r, alpha = 0.5)"
   ]
  },
  {
   "cell_type": "markdown",
   "metadata": {},
   "source": [
    "# ReLU関数の利用\n",
    "中間層をtanhからReLU関数に変更してみる"
   ]
  },
  {
   "cell_type": "code",
   "execution_count": 109,
   "metadata": {
    "collapsed": true
   },
   "outputs": [],
   "source": [
    "num_units = 2\n",
    "mult = train_x.flatten().mean()   # x,yを区別しない平均値\n",
    "x = tf.placeholder(tf.float32,[None,2])\n",
    "\n",
    "w1 = tf.Variable(tf.truncated_normal([2, num_units]))   # 0 を平均として分散1の正規分布乱数で初期化\n",
    "b1 = tf.Variable(tf.zeros([num_units]))\n",
    "hidden1 = tf.nn.relu(tf.matmul(x,w1) + b1*mult)\n",
    "\n",
    "w0 = tf.Variable(tf.zeros([num_units,1]))\n",
    "b0 = tf.Variable(tf.zeros([1]))\n",
    "p = tf.nn.sigmoid(tf.matmul(hidden1,w0) + b0*mult)\n",
    "\n",
    "t = tf.placeholder(tf.float32, [None,1])\n",
    "loss = -tf.reduce_sum(t*tf.log(p) + (1-t)*tf.log(1-p))\n",
    "#train_step = tf.train.AdamOptimizer().minimize(loss)\n",
    "train_step = tf.train.GradientDescentOptimizer(0.0003).minimize(loss)\n",
    "correct_prediction = tf.equal(tf.sign(p-0.5), tf.sign(t-0.5))\n",
    "accuracy = tf.reduce_mean(tf.cast(correct_prediction, tf.float32))"
   ]
  },
  {
   "cell_type": "code",
   "execution_count": 110,
   "metadata": {},
   "outputs": [
    {
     "name": "stdout",
     "output_type": "stream",
     "text": [
      "Step: 100, Loss: 17.723284, Accuracy: 0.907692\n",
      "Step: 200, Loss: 14.329088, Accuracy: 0.907692\n",
      "Step: 300, Loss: 12.292270, Accuracy: 0.938462\n",
      "Step: 400, Loss: 11.046237, Accuracy: 0.938462\n",
      "Step: 500, Loss: 10.307178, Accuracy: 0.938462\n",
      "Step: 600, Loss: 9.858884, Accuracy: 0.938462\n",
      "Step: 700, Loss: 9.573954, Accuracy: 0.938462\n",
      "Step: 800, Loss: 9.384015, Accuracy: 0.938462\n",
      "Step: 900, Loss: 9.250329, Accuracy: 0.953846\n",
      "Step: 1000, Loss: 9.150891, Accuracy: 0.953846\n"
     ]
    }
   ],
   "source": [
    "sess = tf.InteractiveSession()\n",
    "sess.run(tf.global_variables_initializer())\n",
    "times = 0\n",
    "for _ in range(1000):\n",
    "    times += 1\n",
    "    sess.run(train_step, feed_dict = {x:train_x, t:train_t})\n",
    "    if times  % 100 == 0:\n",
    "        loss_val, acc_val = sess.run(\n",
    "            [loss, accuracy], feed_dict = {x:train_x, t:train_t})\n",
    "        print(\"Step: {0:d}, Loss: {1:f}, Accuracy: {2:f}\".format(times, loss_val, acc_val))"
   ]
  },
  {
   "cell_type": "code",
   "execution_count": 111,
   "metadata": {},
   "outputs": [
    {
     "data": {
      "text/plain": [
       "<matplotlib.image.AxesImage at 0x1d8c6c75eb8>"
      ]
     },
     "execution_count": 111,
     "metadata": {},
     "output_type": "execute_result"
    },
    {
     "data": {
      "image/png": "[encoded data removed]",
      "text/plain": [
       "<matplotlib.figure.Figure at 0x1d8ca715780>"
      ]
     },
     "metadata": {},
     "output_type": "display_data"
    }
   ],
   "source": [
    "sns.regplot(x=\"x\", y=\"y\", data=df[df['l']==1],fit_reg=False, marker=\"o\")\n",
    "sns.regplot(x=\"x\", y=\"y\", data=df[df['l']==0],fit_reg=False,marker=\"x\")\n",
    "\n",
    "locations = []\n",
    "for y1 in np.linspace(0,30,100):\n",
    "    for x1 in np.linspace(0,30,100):\n",
    "        locations.append([x1,y1])\n",
    "p_vals = sess.run(p, feed_dict={x:locations})\n",
    "p_vals = p_vals.reshape((100,100))\n",
    "plt.imshow(p_vals, origin='lower', extent=(0,30,0,30), cmap=plt.cm.gray_r, alpha = 0.5)"
   ]
  },
  {
   "cell_type": "markdown",
   "metadata": {},
   "source": [
    "# ReLUで中間層４ノード"
   ]
  },
  {
   "cell_type": "code",
   "execution_count": 99,
   "metadata": {
    "collapsed": true
   },
   "outputs": [],
   "source": [
    "num_units = 4\n",
    "mult = train_x.flatten().mean()   # x,yを区別しない平均値\n",
    "x = tf.placeholder(tf.float32,[None,2])\n",
    "\n",
    "w1 = tf.Variable(tf.truncated_normal([2, num_units]))   # 0 を平均として分散1の正規分布乱数で初期化\n",
    "b1 = tf.Variable(tf.zeros([num_units]))\n",
    "hidden1 = tf.nn.relu(tf.matmul(x,w1) + b1*mult)\n",
    "\n",
    "w0 = tf.Variable(tf.zeros([num_units,1]))\n",
    "b0 = tf.Variable(tf.zeros([1]))\n",
    "p = tf.nn.sigmoid(tf.matmul(hidden1,w0) + b0*mult)\n",
    "\n",
    "t = tf.placeholder(tf.float32, [None,1])\n",
    "loss = -tf.reduce_sum(t*tf.log(p) + (1-t)*tf.log(1-p))\n",
    "#train_step = tf.train.AdamOptimizer().minimize(loss)\n",
    "train_step = tf.train.GradientDescentOptimizer(0.0002).minimize(loss)\n",
    "correct_prediction = tf.equal(tf.sign(p-0.5), tf.sign(t-0.5))\n",
    "accuracy = tf.reduce_mean(tf.cast(correct_prediction, tf.float32))"
   ]
  },
  {
   "cell_type": "code",
   "execution_count": 100,
   "metadata": {},
   "outputs": [
    {
     "name": "stdout",
     "output_type": "stream",
     "text": [
      "Step: 100, Loss: 10.934098, Accuracy: 0.953846\n",
      "Step: 200, Loss: 9.997197, Accuracy: 0.953846\n",
      "Step: 300, Loss: 9.590558, Accuracy: 0.938462\n",
      "Step: 400, Loss: 9.367643, Accuracy: 0.953846\n",
      "Step: 500, Loss: 9.229709, Accuracy: 0.953846\n",
      "Step: 600, Loss: 9.136926, Accuracy: 0.953846\n",
      "Step: 700, Loss: 9.070471, Accuracy: 0.953846\n",
      "Step: 800, Loss: 9.020800, Accuracy: 0.953846\n",
      "Step: 900, Loss: 8.981726, Accuracy: 0.953846\n",
      "Step: 1000, Loss: 8.949856, Accuracy: 0.953846\n"
     ]
    }
   ],
   "source": [
    "sess = tf.InteractiveSession()\n",
    "sess.run(tf.global_variables_initializer())\n",
    "times = 0\n",
    "for _ in range(1000):\n",
    "    times += 1\n",
    "    sess.run(train_step, feed_dict = {x:train_x, t:train_t})\n",
    "    if times  % 100 == 0:\n",
    "        loss_val, acc_val = sess.run(\n",
    "            [loss, accuracy], feed_dict = {x:train_x, t:train_t})\n",
    "        print(\"Step: {0:d}, Loss: {1:f}, Accuracy: {2:f}\".format(times, loss_val, acc_val))"
   ]
  },
  {
   "cell_type": "code",
   "execution_count": 102,
   "metadata": {},
   "outputs": [
    {
     "data": {
      "text/plain": [
       "<matplotlib.image.AxesImage at 0x1d8c2ddd630>"
      ]
     },
     "execution_count": 102,
     "metadata": {},
     "output_type": "execute_result"
    },
    {
     "data": {
      "image/png": "[encoded data removed]",
      "text/plain": [
       "<matplotlib.figure.Figure at 0x1d8c2ddd198>"
      ]
     },
     "metadata": {},
     "output_type": "display_data"
    }
   ],
   "source": [
    "sns.regplot(x=\"x\", y=\"y\", data=df[df['l']==1],fit_reg=False, marker=\"o\")\n",
    "sns.regplot(x=\"x\", y=\"y\", data=df[df['l']==0],fit_reg=False,marker=\"x\")\n",
    "\n",
    "locations = []\n",
    "for y1 in np.linspace(0,30,100):\n",
    "    for x1 in np.linspace(0,30,100):\n",
    "        locations.append([x1,y1])\n",
    "p_vals = sess.run(p, feed_dict={x:locations})\n",
    "p_vals = p_vals.reshape((100,100))\n",
    "plt.imshow(p_vals, origin='lower', extent=(0,30,0,30), cmap=plt.cm.gray_r, alpha = 0.5)"
   ]
  },
  {
   "cell_type": "code",
   "execution_count": null,
   "metadata": {
    "collapsed": true
   },
   "outputs": [],
   "source": []
  }
 ],
 "metadata": {
  "kernelspec": {
   "display_name": "Python 3",
   "language": "python",
   "name": "python3"
  },
  "language_info": {
   "codemirror_mode": {
    "name": "ipython",
    "version": 3
   },
   "file_extension": ".py",
   "mimetype": "text/x-python",
   "name": "python",
   "nbconvert_exporter": "python",
   "pygments_lexer": "ipython3",
   "version": "3.6.2"
  }
 },
 "nbformat": 4,
 "nbformat_minor": 2
}
