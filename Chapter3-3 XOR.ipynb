{
 "cells": [
  {
   "cell_type": "markdown",
   "metadata": {},
   "source": [
    "# XOR"
   ]
  },
  {
   "cell_type": "code",
   "execution_count": 1,
   "metadata": {
    "collapsed": true
   },
   "outputs": [],
   "source": [
    "import numpy as np\n",
    "from numpy.random import multivariate_normal, permutation\n",
    "import matplotlib.pyplot as plt\n",
    "import pandas as pd\n",
    "from pandas import DataFrame, Series\n",
    "import seaborn as sns\n",
    "import tensorflow as tf\n",
    "%matplotlib inline\n",
    "np.random.seed(20170802)\n",
    "tf.set_random_seed(20170802)"
   ]
  },
  {
   "cell_type": "markdown",
   "metadata": {
    "collapsed": true
   },
   "source": [
    "# ネットワーク構成のクラスを定義"
   ]
  },
  {
   "cell_type": "code",
   "execution_count": 2,
   "metadata": {},
   "outputs": [],
   "source": [
    "class Network:\n",
    "    def __init__(self, numUnit1,numUnit2,para):\n",
    "        with tf.Graph().as_default():\n",
    "            self.prepare_model(numUnit1,numUnit2,para)\n",
    "            self.prepare_session()\n",
    "            \n",
    "    def prepare_model(self, numUnit1,numUnit2,para):\n",
    "        with tf.name_scope(\"input\") as scope:\n",
    "            x = tf.placeholder(tf.float32, [None, 2], name=\"input\")\n",
    "            \n",
    "        with tf.name_scope(\"h1\") as scope:\n",
    "            w1 = tf.Variable(tf.truncated_normal([2,numUnit1]),name=\"w1\")\n",
    "            b1 = tf.Variable(tf.truncated_normal([numUnit1]),name=\"b1\")\n",
    "            h1 = tf.nn.tanh(tf.matmul(x, w1)+b1,name=\"h1\")\n",
    "            \n",
    "        with tf.name_scope(\"h2\") as scope:\n",
    "            w2 = tf.Variable(tf.truncated_normal([numUnit1,numUnit2]),name=\"w2\")\n",
    "            b2 = tf.Variable(tf.truncated_normal([numUnit2]),name=\"b2\")\n",
    "            h2 = tf.nn.relu(tf.matmul(h1, w2)+b2,name=\"h2\")\n",
    "            \n",
    "        with tf.name_scope(\"out\") as scope:\n",
    "            w3 = tf.Variable(tf.truncated_normal([numUnit2,1]),name=\"w3\")\n",
    "            b3 = tf.Variable(tf.truncated_normal([1]),name=\"b3\")\n",
    "            out = tf.nn.sigmoid(tf.matmul(h2,w3)+b3,name=\"out\")\n",
    "            \n",
    "        with tf.name_scope(\"Optimizer\") as scope:\n",
    "            ideal = tf.placeholder(tf.float32, [None, 1],name=\"ideal\")\n",
    "            loss = -tf.reduce_sum(ideal*tf.log(out) + (1-ideal)*tf.log(1-out),name=\"loss\")\n",
    "            tf.summary.scalar(\"cross_entropy\", loss)\n",
    "            #train_step = tf.train.AdamOptimizer().minimize(loss)\n",
    "            train_step = tf.train.GradientDescentOptimizer(para).minimize(loss)\n",
    "                               \n",
    "        with tf.name_scope(\"Evaluator\") as scope:\n",
    "            correct_prediction = tf.equal(tf.sign(out-0.5),tf.sign(ideal-0.5))\n",
    "            accuracy = tf.reduce_mean(tf.cast(correct_prediction, tf.float32))\n",
    "            tf.summary.scalar(\"accuracy\", accuracy)\n",
    "            \n",
    "        tf.summary.histogram(\"w1\",w1)\n",
    "        tf.summary.histogram(\"b1\",b1)\n",
    "        tf.summary.histogram(\"w2\",w2)\n",
    "        tf.summary.histogram(\"b2\",b2)\n",
    "        tf.summary.histogram(\"w3\",w3)\n",
    "        tf.summary.histogram(\"b3\",b3)\n",
    "        tf.summary.histogram(\"h1\",h1)\n",
    "        tf.summary.histogram(\"h2\",h2)\n",
    "        tf.summary.histogram(\"out\",out)\n",
    "            \n",
    "        self.x, self.ideal, self.out = x, ideal, out\n",
    "        self.train_step = train_step\n",
    "        self.loss, self.accuracy = loss, accuracy\n",
    "        \n",
    "    def prepare_session(self):\n",
    "        sess = tf.InteractiveSession()\n",
    "        sess.run(tf.global_variables_initializer())\n",
    "        \n",
    "        summary = tf.summary.merge_all()\n",
    "        writer = tf.summary.FileWriter(\"log2\", sess.graph)\n",
    "        self.sess = sess\n",
    "        self.summary = summary\n",
    "        self.writer = writer"
   ]
  },
  {
   "cell_type": "code",
   "execution_count": 3,
   "metadata": {},
   "outputs": [
    {
     "data": {
      "image/png": "[encoded data removed]",
      "text/plain": [
       "<matplotlib.figure.Figure at 0x1b46f69c780>"
      ]
     },
     "metadata": {},
     "output_type": "display_data"
    }
   ],
   "source": [
    "def generate_datablock(n, center, eyesize, label):\n",
    "    data = multivariate_normal(center, np.eye(2)*eyesize, n)\n",
    "    df = DataFrame(data, columns =['x','y'])\n",
    "    df['l' ] = label\n",
    "    return df\n",
    "\n",
    "df0 = generate_datablock(50, [-7,-7], 15, 1)\n",
    "df1 = generate_datablock(50, [7,-7], 15, 0)\n",
    "df2 = generate_datablock(50, [-7,7], 15, 0)\n",
    "df3 = generate_datablock(50, [7,7], 15, 1)\n",
    "\n",
    "df = pd.concat([df0,df1,df2,df3], ignore_index=True)\n",
    "train_set = df.reindex(permutation(df.index)).reset_index(drop=True)\n",
    "\n",
    "sns.regplot(x=\"x\", y=\"y\", data=df[df['l']==1],fit_reg=False)\n",
    "sns.regplot(x=\"x\", y=\"y\", data=df[df['l']==0],fit_reg=False)\n",
    "\n",
    "plt.show()\n",
    "\n",
    "train_x = train_set[['x','y']].as_matrix()\n",
    "train_t = train_set[['l']].as_matrix()"
   ]
  },
  {
   "cell_type": "markdown",
   "metadata": {},
   "source": [
    "# 学習セッション"
   ]
  },
  {
   "cell_type": "code",
   "execution_count": 4,
   "metadata": {},
   "outputs": [],
   "source": [
    "nn = Network(2,2,0.001)"
   ]
  },
  {
   "cell_type": "code",
   "execution_count": 5,
   "metadata": {},
   "outputs": [
    {
     "name": "stdout",
     "output_type": "stream",
     "text": [
      "Step: 100, Loss: 56.187576, Accuracy: 0.915000\n",
      "Step: 200, Loss: 48.475151, Accuracy: 0.925000\n",
      "Step: 300, Loss: 41.385590, Accuracy: 0.935000\n",
      "Step: 400, Loss: 34.583122, Accuracy: 0.955000\n",
      "Step: 500, Loss: 32.252556, Accuracy: 0.955000\n",
      "Step: 600, Loss: 31.579517, Accuracy: 0.955000\n",
      "Step: 700, Loss: 31.348816, Accuracy: 0.955000\n",
      "Step: 800, Loss: 31.286583, Accuracy: 0.955000\n",
      "Step: 900, Loss: 31.230080, Accuracy: 0.955000\n",
      "Step: 1000, Loss: 30.966164, Accuracy: 0.955000\n",
      "Step: 1100, Loss: 30.853775, Accuracy: 0.960000\n",
      "Step: 1200, Loss: 36.368366, Accuracy: 0.945000\n",
      "Step: 1300, Loss: 31.189320, Accuracy: 0.955000\n",
      "Step: 1400, Loss: 30.775749, Accuracy: 0.960000\n",
      "Step: 1500, Loss: 30.748695, Accuracy: 0.960000\n",
      "Step: 1600, Loss: 30.773275, Accuracy: 0.960000\n",
      "Step: 1700, Loss: 31.613804, Accuracy: 0.955000\n",
      "Step: 1800, Loss: 30.684559, Accuracy: 0.960000\n",
      "Step: 1900, Loss: 32.635246, Accuracy: 0.955000\n",
      "Step: 2000, Loss: 30.706905, Accuracy: 0.955000\n"
     ]
    }
   ],
   "source": [
    "times = 0\n",
    "for _ in range(2000):\n",
    "    times += 1\n",
    "    nn.sess.run(nn.train_step, feed_dict = {nn.x:train_x, nn.ideal:train_t})\n",
    "    if times  % 100 == 0:\n",
    "        summary,loss_val, acc_val = nn.sess.run(\n",
    "            [nn.summary,nn.loss, nn.accuracy], feed_dict = {nn.x:train_x, nn.ideal:train_t})\n",
    "        nn.writer.add_summary(summary,times)\n",
    "        print(\"Step: {0:d}, Loss: {1:f}, Accuracy: {2:f}\".format(times, loss_val, acc_val))"
   ]
  },
  {
   "cell_type": "code",
   "execution_count": 6,
   "metadata": {},
   "outputs": [
    {
     "data": {
      "text/plain": [
       "<matplotlib.image.AxesImage at 0x1b46fa2b7f0>"
      ]
     },
     "execution_count": 6,
     "metadata": {},
     "output_type": "execute_result"
    },
    {
     "data": {
      "image/png": "[encoded data removed]",
      "text/plain": [
       "<matplotlib.figure.Figure at 0x1b46fa7a0f0>"
      ]
     },
     "metadata": {},
     "output_type": "display_data"
    }
   ],
   "source": [
    "#train_set1 = train_set[train_set['l']==1]\n",
    "#train_set1 = train_set[train_set['l']==0]\n",
    "\n",
    "sns.regplot(x=\"x\", y=\"y\", data=df[df['l']==1],fit_reg=False, marker=\"o\")\n",
    "sns.regplot(x=\"x\", y=\"y\", data=df[df['l']==0],fit_reg=False,marker=\"x\")\n",
    "\n",
    "locations = []\n",
    "for y1 in np.linspace(-15,15,100):\n",
    "    for x1 in np.linspace(-15,15,100):\n",
    "        locations.append([x1,y1])\n",
    "p_vals = nn.sess.run(nn.out, feed_dict={nn.x:locations})\n",
    "p_vals = p_vals.reshape((100,100))\n",
    "plt.imshow(p_vals, origin='lower', extent=(-15,15,-15,15), cmap=plt.cm.gray_r, alpha = 0.5)"
   ]
  },
  {
   "cell_type": "code",
   "execution_count": null,
   "metadata": {
    "collapsed": true
   },
   "outputs": [],
   "source": []
  }
 ],
 "metadata": {
  "kernelspec": {
   "display_name": "Python 3",
   "language": "python",
   "name": "python3"
  },
  "language_info": {
   "codemirror_mode": {
    "name": "ipython",
    "version": 3
   },
   "file_extension": ".py",
   "mimetype": "text/x-python",
   "name": "python",
   "nbconvert_exporter": "python",
   "pygments_lexer": "ipython3",
   "version": "3.6.2"
  }
 },
 "nbformat": 4,
 "nbformat_minor": 2
}
