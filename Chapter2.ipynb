{
 "cells": [
  {
   "cell_type": "code",
   "execution_count": null,
   "metadata": {
    "collapsed": true
   },
   "outputs": [],
   "source": [
    "import tensorflow as tf\n",
    "import numpy as np\n",
    "import matplotlib.pyplot as plt\n",
    "%matplotlib inline\n",
    "from numpy.random import multivariate_normal, permutation\n",
    "import pandas as pd\n",
    "from pandas import DataFrame, Series"
   ]
  },
  {
   "cell_type": "code",
   "execution_count": 23,
   "metadata": {
    "collapsed": true
   },
   "outputs": [],
   "source": [
    "np.random.seed(201707282)\n",
    "\n",
    "n0,mu0,variance0 = 50,[10,11],20\n",
    "data0 = multivariate_normal(mu0,np.eye(2)*variance0,n0)\n",
    "df0 = DataFrame(data0, columns=['x1','x2'])\n",
    "df0['t'] = 0"
   ]
  },
  {
   "cell_type": "code",
   "execution_count": 24,
   "metadata": {},
   "outputs": [
    {
     "data": {
      "text/plain": [
       "array([[ 20.,   0.],\n",
       "       [  0.,  20.]])"
      ]
     },
     "execution_count": 24,
     "metadata": {},
     "output_type": "execute_result"
    }
   ],
   "source": [
    "np.eye(2)*variance0 # 共分散行列をこうセットしているということは、２変数は独立としているということ"
   ]
  },
  {
   "cell_type": "code",
   "execution_count": 25,
   "metadata": {},
   "outputs": [
    {
     "data": {
      "text/plain": [
       "<matplotlib.collections.PathCollection at 0x27289389278>"
      ]
     },
     "execution_count": 25,
     "metadata": {},
     "output_type": "execute_result"
    },
    {
     "data": {
      "image/png": "[encoded data removed]",
      "text/plain": [
       "<matplotlib.figure.Figure at 0x27289281fd0>"
      ]
     },
     "metadata": {},
     "output_type": "display_data"
    }
   ],
   "source": [
    "fig = plt.figure(figsize=(6,6))\n",
    "subplot = fig.add_subplot(1,1,1)\n",
    "subplot.set_xlim([0,30])\n",
    "subplot.set_ylim([0,30])\n",
    "subplot.scatter(data0[:,0],data0[:,1],marker='x')"
   ]
  },
  {
   "cell_type": "code",
   "execution_count": 26,
   "metadata": {},
   "outputs": [
    {
     "data": {
      "text/plain": [
       "<matplotlib.collections.PathCollection at 0x27289417668>"
      ]
     },
     "execution_count": 26,
     "metadata": {},
     "output_type": "execute_result"
    },
    {
     "data": {
      "image/png": "[encoded data removed]",
      "text/plain": [
       "<matplotlib.figure.Figure at 0x27288e8c0f0>"
      ]
     },
     "metadata": {},
     "output_type": "display_data"
    }
   ],
   "source": [
    "np.random.seed(20170728)\n",
    "\n",
    "n0,mu0,variance0 = 50,[18,20],20\n",
    "data1 = multivariate_normal(mu0,np.eye(2)*variance0,n0)\n",
    "df1 = DataFrame(data1, columns=['x1','x2'])\n",
    "df1['t'] = 1\n",
    "fig = plt.figure(figsize=(6,6))\n",
    "subplot = fig.add_subplot(1,1,1)\n",
    "subplot.set_xlim([0,30])\n",
    "subplot.set_ylim([0,30])\n",
    "subplot.scatter(data1[:,0],data1[:,1],marker='o')\n",
    "subplot.scatter(data0[:,0],data0[:,1],marker='x')"
   ]
  },
  {
   "cell_type": "code",
   "execution_count": 27,
   "metadata": {
    "collapsed": true
   },
   "outputs": [],
   "source": [
    "df = pd.concat([df0, df1], ignore_index=True)\n",
    "df = df.reindex(permutation(df.index)).reset_index(drop=True) # ランダムに並べ替えして再番号付け"
   ]
  },
  {
   "cell_type": "code",
   "execution_count": 28,
   "metadata": {},
   "outputs": [
    {
     "data": {
      "text/html": [
       "<div>\n",
       "<style>\n",
       "    .dataframe thead tr:only-child th {\n",
       "        text-align: right;\n",
       "    }\n",
       "\n",
       "    .dataframe thead th {\n",
       "        text-align: left;\n",
       "    }\n",
       "\n",
       "    .dataframe tbody tr th {\n",
       "        vertical-align: top;\n",
       "    }\n",
       "</style>\n",
       "<table border=\"1\" class=\"dataframe\">\n",
       "  <thead>\n",
       "    <tr style=\"text-align: right;\">\n",
       "      <th></th>\n",
       "      <th>x1</th>\n",
       "      <th>x2</th>\n",
       "      <th>t</th>\n",
       "    </tr>\n",
       "  </thead>\n",
       "  <tbody>\n",
       "    <tr>\n",
       "      <th>0</th>\n",
       "      <td>16.824001</td>\n",
       "      <td>18.017389</td>\n",
       "      <td>1</td>\n",
       "    </tr>\n",
       "    <tr>\n",
       "      <th>1</th>\n",
       "      <td>22.066128</td>\n",
       "      <td>18.558780</td>\n",
       "      <td>1</td>\n",
       "    </tr>\n",
       "    <tr>\n",
       "      <th>2</th>\n",
       "      <td>8.581849</td>\n",
       "      <td>14.987916</td>\n",
       "      <td>0</td>\n",
       "    </tr>\n",
       "    <tr>\n",
       "      <th>3</th>\n",
       "      <td>14.976023</td>\n",
       "      <td>19.448439</td>\n",
       "      <td>1</td>\n",
       "    </tr>\n",
       "    <tr>\n",
       "      <th>4</th>\n",
       "      <td>7.228456</td>\n",
       "      <td>11.182759</td>\n",
       "      <td>0</td>\n",
       "    </tr>\n",
       "    <tr>\n",
       "      <th>5</th>\n",
       "      <td>23.010588</td>\n",
       "      <td>16.092417</td>\n",
       "      <td>1</td>\n",
       "    </tr>\n",
       "    <tr>\n",
       "      <th>6</th>\n",
       "      <td>8.074492</td>\n",
       "      <td>2.918351</td>\n",
       "      <td>0</td>\n",
       "    </tr>\n",
       "    <tr>\n",
       "      <th>7</th>\n",
       "      <td>6.027858</td>\n",
       "      <td>12.533804</td>\n",
       "      <td>0</td>\n",
       "    </tr>\n",
       "    <tr>\n",
       "      <th>8</th>\n",
       "      <td>18.254037</td>\n",
       "      <td>8.250108</td>\n",
       "      <td>0</td>\n",
       "    </tr>\n",
       "    <tr>\n",
       "      <th>9</th>\n",
       "      <td>20.282705</td>\n",
       "      <td>13.478920</td>\n",
       "      <td>1</td>\n",
       "    </tr>\n",
       "    <tr>\n",
       "      <th>10</th>\n",
       "      <td>15.231140</td>\n",
       "      <td>12.229700</td>\n",
       "      <td>1</td>\n",
       "    </tr>\n",
       "    <tr>\n",
       "      <th>11</th>\n",
       "      <td>8.109825</td>\n",
       "      <td>5.283829</td>\n",
       "      <td>0</td>\n",
       "    </tr>\n",
       "    <tr>\n",
       "      <th>12</th>\n",
       "      <td>6.513124</td>\n",
       "      <td>3.727517</td>\n",
       "      <td>0</td>\n",
       "    </tr>\n",
       "    <tr>\n",
       "      <th>13</th>\n",
       "      <td>22.027652</td>\n",
       "      <td>15.732609</td>\n",
       "      <td>1</td>\n",
       "    </tr>\n",
       "    <tr>\n",
       "      <th>14</th>\n",
       "      <td>14.981899</td>\n",
       "      <td>10.464330</td>\n",
       "      <td>0</td>\n",
       "    </tr>\n",
       "    <tr>\n",
       "      <th>15</th>\n",
       "      <td>10.262246</td>\n",
       "      <td>-1.062249</td>\n",
       "      <td>0</td>\n",
       "    </tr>\n",
       "    <tr>\n",
       "      <th>16</th>\n",
       "      <td>18.420653</td>\n",
       "      <td>22.685694</td>\n",
       "      <td>1</td>\n",
       "    </tr>\n",
       "    <tr>\n",
       "      <th>17</th>\n",
       "      <td>20.419642</td>\n",
       "      <td>13.374475</td>\n",
       "      <td>1</td>\n",
       "    </tr>\n",
       "    <tr>\n",
       "      <th>18</th>\n",
       "      <td>19.585672</td>\n",
       "      <td>16.811154</td>\n",
       "      <td>1</td>\n",
       "    </tr>\n",
       "    <tr>\n",
       "      <th>19</th>\n",
       "      <td>14.416388</td>\n",
       "      <td>16.885593</td>\n",
       "      <td>1</td>\n",
       "    </tr>\n",
       "    <tr>\n",
       "      <th>20</th>\n",
       "      <td>4.743353</td>\n",
       "      <td>7.977238</td>\n",
       "      <td>0</td>\n",
       "    </tr>\n",
       "    <tr>\n",
       "      <th>21</th>\n",
       "      <td>6.859614</td>\n",
       "      <td>7.286233</td>\n",
       "      <td>0</td>\n",
       "    </tr>\n",
       "    <tr>\n",
       "      <th>22</th>\n",
       "      <td>5.555385</td>\n",
       "      <td>12.317163</td>\n",
       "      <td>0</td>\n",
       "    </tr>\n",
       "    <tr>\n",
       "      <th>23</th>\n",
       "      <td>16.042544</td>\n",
       "      <td>26.194665</td>\n",
       "      <td>1</td>\n",
       "    </tr>\n",
       "    <tr>\n",
       "      <th>24</th>\n",
       "      <td>10.667040</td>\n",
       "      <td>10.002750</td>\n",
       "      <td>0</td>\n",
       "    </tr>\n",
       "    <tr>\n",
       "      <th>25</th>\n",
       "      <td>3.925783</td>\n",
       "      <td>7.528032</td>\n",
       "      <td>0</td>\n",
       "    </tr>\n",
       "    <tr>\n",
       "      <th>26</th>\n",
       "      <td>11.760304</td>\n",
       "      <td>7.918452</td>\n",
       "      <td>0</td>\n",
       "    </tr>\n",
       "    <tr>\n",
       "      <th>27</th>\n",
       "      <td>12.801703</td>\n",
       "      <td>8.930220</td>\n",
       "      <td>1</td>\n",
       "    </tr>\n",
       "    <tr>\n",
       "      <th>28</th>\n",
       "      <td>-0.010030</td>\n",
       "      <td>11.574807</td>\n",
       "      <td>0</td>\n",
       "    </tr>\n",
       "    <tr>\n",
       "      <th>29</th>\n",
       "      <td>7.318062</td>\n",
       "      <td>6.249968</td>\n",
       "      <td>0</td>\n",
       "    </tr>\n",
       "    <tr>\n",
       "      <th>...</th>\n",
       "      <td>...</td>\n",
       "      <td>...</td>\n",
       "      <td>...</td>\n",
       "    </tr>\n",
       "    <tr>\n",
       "      <th>70</th>\n",
       "      <td>7.840649</td>\n",
       "      <td>6.813963</td>\n",
       "      <td>0</td>\n",
       "    </tr>\n",
       "    <tr>\n",
       "      <th>71</th>\n",
       "      <td>3.067784</td>\n",
       "      <td>15.829798</td>\n",
       "      <td>0</td>\n",
       "    </tr>\n",
       "    <tr>\n",
       "      <th>72</th>\n",
       "      <td>18.405286</td>\n",
       "      <td>15.551997</td>\n",
       "      <td>1</td>\n",
       "    </tr>\n",
       "    <tr>\n",
       "      <th>73</th>\n",
       "      <td>12.455815</td>\n",
       "      <td>9.987858</td>\n",
       "      <td>0</td>\n",
       "    </tr>\n",
       "    <tr>\n",
       "      <th>74</th>\n",
       "      <td>11.560608</td>\n",
       "      <td>33.673987</td>\n",
       "      <td>1</td>\n",
       "    </tr>\n",
       "    <tr>\n",
       "      <th>75</th>\n",
       "      <td>22.144208</td>\n",
       "      <td>20.418706</td>\n",
       "      <td>1</td>\n",
       "    </tr>\n",
       "    <tr>\n",
       "      <th>76</th>\n",
       "      <td>12.782017</td>\n",
       "      <td>21.766210</td>\n",
       "      <td>1</td>\n",
       "    </tr>\n",
       "    <tr>\n",
       "      <th>77</th>\n",
       "      <td>21.450005</td>\n",
       "      <td>21.830694</td>\n",
       "      <td>1</td>\n",
       "    </tr>\n",
       "    <tr>\n",
       "      <th>78</th>\n",
       "      <td>15.195910</td>\n",
       "      <td>16.820344</td>\n",
       "      <td>1</td>\n",
       "    </tr>\n",
       "    <tr>\n",
       "      <th>79</th>\n",
       "      <td>1.524550</td>\n",
       "      <td>16.963832</td>\n",
       "      <td>0</td>\n",
       "    </tr>\n",
       "    <tr>\n",
       "      <th>80</th>\n",
       "      <td>13.808909</td>\n",
       "      <td>20.111592</td>\n",
       "      <td>1</td>\n",
       "    </tr>\n",
       "    <tr>\n",
       "      <th>81</th>\n",
       "      <td>12.547692</td>\n",
       "      <td>13.513324</td>\n",
       "      <td>0</td>\n",
       "    </tr>\n",
       "    <tr>\n",
       "      <th>82</th>\n",
       "      <td>10.966797</td>\n",
       "      <td>13.321701</td>\n",
       "      <td>0</td>\n",
       "    </tr>\n",
       "    <tr>\n",
       "      <th>83</th>\n",
       "      <td>9.894926</td>\n",
       "      <td>13.233169</td>\n",
       "      <td>0</td>\n",
       "    </tr>\n",
       "    <tr>\n",
       "      <th>84</th>\n",
       "      <td>15.104648</td>\n",
       "      <td>22.054723</td>\n",
       "      <td>1</td>\n",
       "    </tr>\n",
       "    <tr>\n",
       "      <th>85</th>\n",
       "      <td>16.520248</td>\n",
       "      <td>21.002800</td>\n",
       "      <td>1</td>\n",
       "    </tr>\n",
       "    <tr>\n",
       "      <th>86</th>\n",
       "      <td>11.571733</td>\n",
       "      <td>21.011408</td>\n",
       "      <td>1</td>\n",
       "    </tr>\n",
       "    <tr>\n",
       "      <th>87</th>\n",
       "      <td>9.569972</td>\n",
       "      <td>11.745489</td>\n",
       "      <td>0</td>\n",
       "    </tr>\n",
       "    <tr>\n",
       "      <th>88</th>\n",
       "      <td>7.375046</td>\n",
       "      <td>10.767186</td>\n",
       "      <td>0</td>\n",
       "    </tr>\n",
       "    <tr>\n",
       "      <th>89</th>\n",
       "      <td>3.397385</td>\n",
       "      <td>12.928148</td>\n",
       "      <td>0</td>\n",
       "    </tr>\n",
       "    <tr>\n",
       "      <th>90</th>\n",
       "      <td>13.862485</td>\n",
       "      <td>14.218339</td>\n",
       "      <td>1</td>\n",
       "    </tr>\n",
       "    <tr>\n",
       "      <th>91</th>\n",
       "      <td>8.427991</td>\n",
       "      <td>10.750092</td>\n",
       "      <td>0</td>\n",
       "    </tr>\n",
       "    <tr>\n",
       "      <th>92</th>\n",
       "      <td>16.443973</td>\n",
       "      <td>13.531299</td>\n",
       "      <td>1</td>\n",
       "    </tr>\n",
       "    <tr>\n",
       "      <th>93</th>\n",
       "      <td>10.951675</td>\n",
       "      <td>5.818238</td>\n",
       "      <td>0</td>\n",
       "    </tr>\n",
       "    <tr>\n",
       "      <th>94</th>\n",
       "      <td>3.782696</td>\n",
       "      <td>14.425330</td>\n",
       "      <td>0</td>\n",
       "    </tr>\n",
       "    <tr>\n",
       "      <th>95</th>\n",
       "      <td>9.175948</td>\n",
       "      <td>11.431940</td>\n",
       "      <td>0</td>\n",
       "    </tr>\n",
       "    <tr>\n",
       "      <th>96</th>\n",
       "      <td>19.615390</td>\n",
       "      <td>14.808260</td>\n",
       "      <td>1</td>\n",
       "    </tr>\n",
       "    <tr>\n",
       "      <th>97</th>\n",
       "      <td>22.381347</td>\n",
       "      <td>21.074843</td>\n",
       "      <td>1</td>\n",
       "    </tr>\n",
       "    <tr>\n",
       "      <th>98</th>\n",
       "      <td>10.733021</td>\n",
       "      <td>8.227268</td>\n",
       "      <td>0</td>\n",
       "    </tr>\n",
       "    <tr>\n",
       "      <th>99</th>\n",
       "      <td>15.171060</td>\n",
       "      <td>14.632671</td>\n",
       "      <td>0</td>\n",
       "    </tr>\n",
       "  </tbody>\n",
       "</table>\n",
       "<p>100 rows × 3 columns</p>\n",
       "</div>"
      ],
      "text/plain": [
       "           x1         x2  t\n",
       "0   16.824001  18.017389  1\n",
       "1   22.066128  18.558780  1\n",
       "2    8.581849  14.987916  0\n",
       "3   14.976023  19.448439  1\n",
       "4    7.228456  11.182759  0\n",
       "5   23.010588  16.092417  1\n",
       "6    8.074492   2.918351  0\n",
       "7    6.027858  12.533804  0\n",
       "8   18.254037   8.250108  0\n",
       "9   20.282705  13.478920  1\n",
       "10  15.231140  12.229700  1\n",
       "11   8.109825   5.283829  0\n",
       "12   6.513124   3.727517  0\n",
       "13  22.027652  15.732609  1\n",
       "14  14.981899  10.464330  0\n",
       "15  10.262246  -1.062249  0\n",
       "16  18.420653  22.685694  1\n",
       "17  20.419642  13.374475  1\n",
       "18  19.585672  16.811154  1\n",
       "19  14.416388  16.885593  1\n",
       "20   4.743353   7.977238  0\n",
       "21   6.859614   7.286233  0\n",
       "22   5.555385  12.317163  0\n",
       "23  16.042544  26.194665  1\n",
       "24  10.667040  10.002750  0\n",
       "25   3.925783   7.528032  0\n",
       "26  11.760304   7.918452  0\n",
       "27  12.801703   8.930220  1\n",
       "28  -0.010030  11.574807  0\n",
       "29   7.318062   6.249968  0\n",
       "..        ...        ... ..\n",
       "70   7.840649   6.813963  0\n",
       "71   3.067784  15.829798  0\n",
       "72  18.405286  15.551997  1\n",
       "73  12.455815   9.987858  0\n",
       "74  11.560608  33.673987  1\n",
       "75  22.144208  20.418706  1\n",
       "76  12.782017  21.766210  1\n",
       "77  21.450005  21.830694  1\n",
       "78  15.195910  16.820344  1\n",
       "79   1.524550  16.963832  0\n",
       "80  13.808909  20.111592  1\n",
       "81  12.547692  13.513324  0\n",
       "82  10.966797  13.321701  0\n",
       "83   9.894926  13.233169  0\n",
       "84  15.104648  22.054723  1\n",
       "85  16.520248  21.002800  1\n",
       "86  11.571733  21.011408  1\n",
       "87   9.569972  11.745489  0\n",
       "88   7.375046  10.767186  0\n",
       "89   3.397385  12.928148  0\n",
       "90  13.862485  14.218339  1\n",
       "91   8.427991  10.750092  0\n",
       "92  16.443973  13.531299  1\n",
       "93  10.951675   5.818238  0\n",
       "94   3.782696  14.425330  0\n",
       "95   9.175948  11.431940  0\n",
       "96  19.615390  14.808260  1\n",
       "97  22.381347  21.074843  1\n",
       "98  10.733021   8.227268  0\n",
       "99  15.171060  14.632671  0\n",
       "\n",
       "[100 rows x 3 columns]"
      ]
     },
     "execution_count": 28,
     "metadata": {},
     "output_type": "execute_result"
    }
   ],
   "source": [
    "df"
   ]
  },
  {
   "cell_type": "code",
   "execution_count": 29,
   "metadata": {},
   "outputs": [
    {
     "data": {
      "text/plain": [
       "array([48, 20, 25, 31, 79, 83, 34, 86, 71, 36, 66, 97, 46, 44, 32, 11, 13,\n",
       "       17, 82, 69, 57, 16, 92, 14, 99, 85, 19, 41, 96, 47, 35, 15, 77,  9,\n",
       "       22, 29, 89,  7, 93, 84,  1, 81, 74, 28, 23, 39, 38, 54, 90, 75, 73,\n",
       "       56, 67,  8,  0,  2, 21, 30, 12, 65, 64, 40, 98, 80, 95, 94,  5, 43,\n",
       "       42, 49, 87, 52, 72, 59, 50, 60, 78,  3, 76,  4, 37, 53, 91, 62,  6,\n",
       "       55, 10, 45, 18, 27, 24, 58, 33, 70, 88, 63, 51, 26, 68, 61], dtype=int64)"
      ]
     },
     "execution_count": 29,
     "metadata": {},
     "output_type": "execute_result"
    }
   ],
   "source": [
    "permutation(df.index)"
   ]
  },
  {
   "cell_type": "code",
   "execution_count": 45,
   "metadata": {
    "collapsed": true
   },
   "outputs": [],
   "source": [
    "train_x = df[['x1','x2']].as_matrix()\n",
    "train_t = df[['t']].as_matrix()"
   ]
  },
  {
   "cell_type": "code",
   "execution_count": 46,
   "metadata": {
    "collapsed": true
   },
   "outputs": [],
   "source": [
    "x = tf.placeholder(tf.float32,[None,2])\n",
    "w = tf.Variable(tf.zeros([2,1]))\n",
    "w0 = tf.Variable(tf.zeros([1]))\n",
    "f = tf.matmul(x,w) + w0\n",
    "p = tf.sigmoid(f)"
   ]
  },
  {
   "cell_type": "code",
   "execution_count": 47,
   "metadata": {
    "collapsed": true
   },
   "outputs": [],
   "source": [
    "t = tf.placeholder(tf.float32,[None,1])\n",
    "loss = -tf.reduce_sum(t*tf.log(p) + (1-t)*tf.log(1-p))\n",
    "loss2 = tf.reduce_sum(tf.square(p-t))\n",
    "train_step = tf.train.AdamOptimizer().minimize(loss)\n",
    "train_step2  =  tf.train.AdamOptimizer().minimize(loss2)"
   ]
  },
  {
   "cell_type": "code",
   "execution_count": 48,
   "metadata": {
    "collapsed": true
   },
   "outputs": [],
   "source": [
    "correct_prediction = tf.equal(tf.sign(p-0.5),tf.sign(t-0.5))\n",
    "accuracy = tf.reduce_mean(tf.cast(correct_prediction,tf.float32))"
   ]
  },
  {
   "cell_type": "code",
   "execution_count": 49,
   "metadata": {
    "collapsed": true
   },
   "outputs": [],
   "source": [
    "sess = tf.Session()\n",
    "#sess.run(tf.initialize_all_variables())   # 古い書き方\n",
    "sess.run(tf.global_variables_initializer()) # 変数の初期化"
   ]
  },
  {
   "cell_type": "code",
   "execution_count": 50,
   "metadata": {},
   "outputs": [
    {
     "name": "stdout",
     "output_type": "stream",
     "text": [
      "Steps: 2000, Loss: 41.550003, Accuracy: 0.890000\n",
      "Steps: 4000, Loss: 29.718925, Accuracy: 0.940000\n",
      "Steps: 6000, Loss: 22.866459, Accuracy: 0.960000\n",
      "Steps: 8000, Loss: 18.708408, Accuracy: 0.960000\n",
      "Steps: 10000, Loss: 16.149426, Accuracy: 0.960000\n",
      "Steps: 12000, Loss: 14.588111, Accuracy: 0.960000\n",
      "Steps: 14000, Loss: 13.665074, Accuracy: 0.960000\n",
      "Steps: 16000, Loss: 13.154911, Accuracy: 0.960000\n",
      "Steps: 18000, Loss: 12.910064, Accuracy: 0.960000\n",
      "Steps: 20000, Loss: 12.824947, Accuracy: 0.960000\n"
     ]
    }
   ],
   "source": [
    "times = 0\n",
    "for _ in range(20000):\n",
    "    times += 1\n",
    "    sess.run(train_step, feed_dict={x:train_x,t:train_t})\n",
    "    if times % 2000 == 0:\n",
    "        loss_val,acc_val = sess.run([loss,accuracy], feed_dict={x:train_x,t:train_t})\n",
    "        print('Steps: {0:d}, Loss: {1:f}, Accuracy: {2:f}'.format(times,loss_val,acc_val))"
   ]
  },
  {
   "cell_type": "code",
   "execution_count": 51,
   "metadata": {},
   "outputs": [
    {
     "name": "stdout",
     "output_type": "stream",
     "text": [
      "-14.3438 0.645066 0.382782\n"
     ]
    }
   ],
   "source": [
    "w0_val, w_val = sess.run([w0, w])\n",
    "w0_val, w1_val, w2_val = w0_val[0], w_val[0][0], w_val[1][0]\n",
    "print( w0_val, w1_val, w2_val )"
   ]
  },
  {
   "cell_type": "code",
   "execution_count": 52,
   "metadata": {},
   "outputs": [
    {
     "data": {
      "text/plain": [
       "<matplotlib.image.AxesImage at 0x2728ac7cf60>"
      ]
     },
     "execution_count": 52,
     "metadata": {},
     "output_type": "execute_result"
    },
    {
     "data": {
      "image/png": "[encoded data removed]",
      "text/plain": [
       "<matplotlib.figure.Figure at 0x272892c3a20>"
      ]
     },
     "metadata": {},
     "output_type": "display_data"
    }
   ],
   "source": [
    "train_set0 = df[df['t']==0]\n",
    "train_set1 = df[df['t']==1]\n",
    "\n",
    "fig = plt.figure(figsize=(6,6))\n",
    "subplot = fig.add_subplot(1,1,1)\n",
    "subplot.set_ylim([0,30])\n",
    "subplot.set_xlim([0,30])\n",
    "subplot.scatter(train_set1.x1, train_set1.x2, marker='x')\n",
    "subplot.scatter(train_set0.x1, train_set0.x2, marker='o')\n",
    "\n",
    "linex = np.linspace(0,30,10)\n",
    "liney = - (w1_val*linex/w2_val + w0_val/w2_val)\n",
    "subplot.plot(linex, liney)\n",
    "\n",
    "field = [[(1 / (1 + np.exp(-(w0_val + w1_val*x1 + w2_val*x2))))\n",
    "          for x1 in np.linspace(0,30,100)]\n",
    "         for x2 in np.linspace(0,30,100)]\n",
    "subplot.imshow(field, origin='lower', extent=(0,30,0,30),\n",
    "               cmap=plt.cm.gray_r, alpha=0.5)"
   ]
  },
  {
   "cell_type": "markdown",
   "metadata": {},
   "source": [
    "# 予測正解率の代わりに単純誤差を評価基準とした学習"
   ]
  },
  {
   "cell_type": "code",
   "execution_count": 53,
   "metadata": {
    "collapsed": true
   },
   "outputs": [],
   "source": [
    "sess = tf.Session()\n",
    "#sess.run(tf.initialize_all_variables())   # 古い書き方\n",
    "sess.run(tf.global_variables_initializer()) # 変数の初期化"
   ]
  },
  {
   "cell_type": "markdown",
   "metadata": {},
   "source": [
    "予測正解率の代わりに単純誤差を評価基準とする(train_step → train_step2)"
   ]
  },
  {
   "cell_type": "code",
   "execution_count": 54,
   "metadata": {},
   "outputs": [
    {
     "name": "stdout",
     "output_type": "stream",
     "text": [
      "Steps: 2000, Loss: 12.413401, Accuracy: 0.920000\n",
      "Steps: 4000, Loss: 8.117838, Accuracy: 0.960000\n",
      "Steps: 6000, Loss: 6.081060, Accuracy: 0.960000\n",
      "Steps: 8000, Loss: 5.004556, Accuracy: 0.960000\n",
      "Steps: 10000, Loss: 4.408652, Accuracy: 0.960000\n",
      "Steps: 12000, Loss: 4.074916, Accuracy: 0.950000\n",
      "Steps: 14000, Loss: 3.889331, Accuracy: 0.950000\n",
      "Steps: 16000, Loss: 3.788468, Accuracy: 0.960000\n",
      "Steps: 18000, Loss: 3.735834, Accuracy: 0.960000\n",
      "Steps: 20000, Loss: 3.709971, Accuracy: 0.960000\n"
     ]
    }
   ],
   "source": [
    "times = 0\n",
    "for _ in range(20000):\n",
    "    times += 1\n",
    "    sess.run(train_step2, feed_dict={x:train_x,t:train_t})\n",
    "    if times % 2000 == 0:\n",
    "        loss_val,acc_val = sess.run([loss2,accuracy], feed_dict={x:train_x,t:train_t})\n",
    "        print('Steps: {0:d}, Loss: {1:f}, Accuracy: {2:f}'.format(times,loss_val,acc_val))"
   ]
  },
  {
   "cell_type": "code",
   "execution_count": 55,
   "metadata": {},
   "outputs": [
    {
     "name": "stdout",
     "output_type": "stream",
     "text": [
      "-13.4392 0.531808 0.445388\n"
     ]
    }
   ],
   "source": [
    "w0_val, w_val = sess.run([w0, w])\n",
    "w0_val, w1_val, w2_val = w0_val[0], w_val[0][0], w_val[1][0]\n",
    "print( w0_val, w1_val, w2_val )"
   ]
  },
  {
   "cell_type": "code",
   "execution_count": 56,
   "metadata": {},
   "outputs": [
    {
     "data": {
      "text/plain": [
       "<matplotlib.image.AxesImage at 0x2728af9aef0>"
      ]
     },
     "execution_count": 56,
     "metadata": {},
     "output_type": "execute_result"
    },
    {
     "data": {
      "image/png": "[encoded data removed]",
      "text/plain": [
       "<matplotlib.figure.Figure at 0x2728ac7c8d0>"
      ]
     },
     "metadata": {},
     "output_type": "display_data"
    }
   ],
   "source": [
    "train_set0 = df[df['t']==0]\n",
    "train_set1 = df[df['t']==1]\n",
    "\n",
    "fig = plt.figure(figsize=(6,6))\n",
    "subplot = fig.add_subplot(1,1,1)\n",
    "subplot.set_ylim([0,30])\n",
    "subplot.set_xlim([0,30])\n",
    "subplot.scatter(train_set1.x1, train_set1.x2, marker='x')\n",
    "subplot.scatter(train_set0.x1, train_set0.x2, marker='o')\n",
    "\n",
    "linex = np.linspace(0,30,10)\n",
    "liney = - (w1_val*linex/w2_val + w0_val/w2_val)\n",
    "subplot.plot(linex, liney)\n",
    "\n",
    "field = [[(1 / (1 + np.exp(-(w0_val + w1_val*x1 + w2_val*x2))))\n",
    "          for x1 in np.linspace(0,30,100)]\n",
    "         for x2 in np.linspace(0,30,100)]\n",
    "subplot.imshow(field, origin='lower', extent=(0,30,0,30),\n",
    "               cmap=plt.cm.gray_r, alpha=0.5)"
   ]
  },
  {
   "cell_type": "code",
   "execution_count": null,
   "metadata": {
    "collapsed": true
   },
   "outputs": [],
   "source": []
  }
 ],
 "metadata": {
  "kernelspec": {
   "display_name": "Python 3",
   "language": "python",
   "name": "python3"
  },
  "language_info": {
   "codemirror_mode": {
    "name": "ipython",
    "version": 3
   },
   "file_extension": ".py",
   "mimetype": "text/x-python",
   "name": "python",
   "nbconvert_exporter": "python",
   "pygments_lexer": "ipython3",
   "version": "3.6.2"
  }
 },
 "nbformat": 4,
 "nbformat_minor": 2
}
