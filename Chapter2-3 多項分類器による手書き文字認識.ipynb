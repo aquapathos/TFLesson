{
 "cells": [
  {
   "cell_type": "markdown",
   "metadata": {},
   "source": [
    "# MNISTの手書き数字認識\n",
    "http://tensorflow.classcat.com/2016/03/09/tensorflow-cc-mnist-for-ml-beginners/"
   ]
  },
  {
   "cell_type": "code",
   "execution_count": 178,
   "metadata": {
    "collapsed": true
   },
   "outputs": [],
   "source": [
    "import numpy as np\n",
    "import matplotlib.pyplot as plt\n",
    "from tensorflow.examples.tutorials.mnist import input_data\n",
    "import seaborn as sns\n",
    "import tensorflow as tf\n",
    "%matplotlib inline"
   ]
  },
  {
   "cell_type": "markdown",
   "metadata": {},
   "source": [
    "※ tensorflow にはMNISTのサンプルデータをダウンロードするためのモジュールが備わっている"
   ]
  },
  {
   "cell_type": "code",
   "execution_count": 179,
   "metadata": {},
   "outputs": [
    {
     "name": "stdout",
     "output_type": "stream",
     "text": [
      "Extracting /tmp/data/train-images-idx3-ubyte.gz\n",
      "Extracting /tmp/data/train-labels-idx1-ubyte.gz\n",
      "Extracting /tmp/data/t10k-images-idx3-ubyte.gz\n",
      "Extracting /tmp/data/t10k-labels-idx1-ubyte.gz\n"
     ]
    }
   ],
   "source": [
    "mnist = input_data.read_data_sets(\"/tmp/data/\", one_hot=True)"
   ]
  },
  {
   "cell_type": "markdown",
   "metadata": {},
   "source": [
    "※ Windowsの場合、データはC:\\tmp\\dataに保存される"
   ]
  },
  {
   "cell_type": "markdown",
   "metadata": {},
   "source": [
    "ためしに画像を取り出して表示してみる"
   ]
  },
  {
   "cell_type": "code",
   "execution_count": 180,
   "metadata": {},
   "outputs": [
    {
     "data": {
      "text/plain": [
       "((55000, 10), (5000, 10), (10000, 10))"
      ]
     },
     "execution_count": 180,
     "metadata": {},
     "output_type": "execute_result"
    }
   ],
   "source": [
    "mnist.train.labels.shape,mnist.validation.labels.shape,mnist.test.labels.shape"
   ]
  },
  {
   "cell_type": "code",
   "execution_count": 181,
   "metadata": {
    "collapsed": true
   },
   "outputs": [],
   "source": [
    "images, labels = mnist.train.next_batch(6)"
   ]
  },
  {
   "cell_type": "code",
   "execution_count": 182,
   "metadata": {},
   "outputs": [
    {
     "data": {
      "text/plain": [
       "((6, 784), (6, 10))"
      ]
     },
     "execution_count": 182,
     "metadata": {},
     "output_type": "execute_result"
    }
   ],
   "source": [
    "images.shape, labels.shape"
   ]
  },
  {
   "cell_type": "markdown",
   "metadata": {},
   "source": [
    "画像は1次元データとして表現されている。28ｘ28＝784"
   ]
  },
  {
   "cell_type": "code",
   "execution_count": 183,
   "metadata": {},
   "outputs": [
    {
     "data": {
      "text/plain": [
       "array([[ 0.,  0.,  0.,  0.,  0.,  1.,  0.,  0.,  0.,  0.],\n",
       "       [ 0.,  0.,  0.,  0.,  1.,  0.,  0.,  0.,  0.,  0.],\n",
       "       [ 0.,  0.,  0.,  1.,  0.,  0.,  0.,  0.,  0.,  0.],\n",
       "       [ 0.,  0.,  0.,  0.,  0.,  0.,  0.,  1.,  0.,  0.],\n",
       "       [ 0.,  0.,  1.,  0.,  0.,  0.,  0.,  0.,  0.,  0.],\n",
       "       [ 0.,  0.,  0.,  0.,  0.,  0.,  0.,  0.,  1.,  0.]])"
      ]
     },
     "execution_count": 183,
     "metadata": {},
     "output_type": "execute_result"
    }
   ],
   "source": [
    "labels"
   ]
  },
  {
   "cell_type": "code",
   "execution_count": 184,
   "metadata": {
    "collapsed": true
   },
   "outputs": [],
   "source": [
    "images = images.reshape((6,28,28))"
   ]
  },
  {
   "cell_type": "code",
   "execution_count": 185,
   "metadata": {},
   "outputs": [
    {
     "data": {
      "text/plain": [
       "(6, 28, 28)"
      ]
     },
     "execution_count": 185,
     "metadata": {},
     "output_type": "execute_result"
    }
   ],
   "source": [
    "images.shape"
   ]
  },
  {
   "cell_type": "code",
   "execution_count": 186,
   "metadata": {
    "collapsed": true
   },
   "outputs": [],
   "source": [
    "def plotchr(image,label,i):\n",
    "    sns.set_context(\"talk\")\n",
    "    plt.subplot(1,6,i+1)\n",
    "    plt.xticks([])\n",
    "    plt.yticks([])\n",
    "    plt.title(\"%d\" % np.argmax(label))\n",
    "    plt.imshow(image,cmap=plt.cm.gray_r)"
   ]
  },
  {
   "cell_type": "markdown",
   "metadata": {},
   "source": [
    "###### テストデータを先頭から６つ表示してみる"
   ]
  },
  {
   "cell_type": "code",
   "execution_count": 187,
   "metadata": {},
   "outputs": [
    {
     "data": {
      "image/png": "[encoded data removed]",
      "text/plain": [
       "<matplotlib.figure.Figure at 0x247828ec208>"
      ]
     },
     "metadata": {},
     "output_type": "display_data"
    }
   ],
   "source": [
    "for i in range(6):\n",
    "    images, labels = mnist.test.images[i], mnist.test.labels[i]\n",
    "    images = images.reshape((28,28))\n",
    "    plotchr(images,labels,i)"
   ]
  },
  {
   "cell_type": "markdown",
   "metadata": {},
   "source": [
    "## 訓練データを先頭から6つ表示してみる"
   ]
  },
  {
   "cell_type": "code",
   "execution_count": 188,
   "metadata": {},
   "outputs": [
    {
     "data": {
      "image/png": "[encoded data removed]",
      "text/plain": [
       "<matplotlib.figure.Figure at 0x24784107748>"
      ]
     },
     "metadata": {},
     "output_type": "display_data"
    }
   ],
   "source": [
    "for i in range(6):\n",
    "    images, labels = mnist.train.images[i], mnist.train.labels[i]\n",
    "    images = images.reshape((28,28))\n",
    "    plotchr(images,labels,i)"
   ]
  },
  {
   "cell_type": "markdown",
   "metadata": {},
   "source": [
    "## 訓練例からランダムに6つ表示"
   ]
  },
  {
   "cell_type": "code",
   "execution_count": 189,
   "metadata": {},
   "outputs": [
    {
     "data": {
      "image/png": "[encoded data removed]",
      "text/plain": [
       "<matplotlib.figure.Figure at 0x24789117710>"
      ]
     },
     "metadata": {},
     "output_type": "display_data"
    }
   ],
   "source": [
    "# sns.set_context(\"poster\")\n",
    "images, labels = mnist.train.next_batch(6)\n",
    "images = images.reshape((6,28,28))\n",
    "for i in range(6):\n",
    "    plotchr(images[i],labels[i],i)"
   ]
  },
  {
   "cell_type": "markdown",
   "metadata": {},
   "source": [
    "## テストデータからランダムに6つ表示"
   ]
  },
  {
   "cell_type": "code",
   "execution_count": 190,
   "metadata": {},
   "outputs": [
    {
     "data": {
      "image/png": "[encoded data removed]",
      "text/plain": [
       "<matplotlib.figure.Figure at 0x24788f4ed68>"
      ]
     },
     "metadata": {},
     "output_type": "display_data"
    }
   ],
   "source": [
    "images, labels = mnist.test.next_batch(6)\n",
    "images = images.reshape((6,28,28))\n",
    "\n",
    "for i in range(6):\n",
    "    plotchr(images[i],labels[i],i)\n"
   ]
  },
  {
   "cell_type": "markdown",
   "metadata": {},
   "source": [
    "# モデルの作成"
   ]
  },
  {
   "cell_type": "code",
   "execution_count": 191,
   "metadata": {
    "collapsed": true
   },
   "outputs": [],
   "source": [
    "# モデルの作成\n",
    "x = tf.placeholder(tf.float32, [None, 784])\n",
    "W = tf.Variable(tf.zeros([784, 10]))\n",
    "w0 = tf.Variable(tf.zeros([10]))\n",
    "f = tf.matmul(x,W)+w0\n",
    "p = tf.nn.softmax(f)"
   ]
  },
  {
   "cell_type": "markdown",
   "metadata": {},
   "source": [
    "# 誤差関数とオプティマイザーを定義"
   ]
  },
  {
   "cell_type": "code",
   "execution_count": 192,
   "metadata": {
    "collapsed": true
   },
   "outputs": [],
   "source": [
    "t = tf.placeholder(tf.float32, [None, 10])\n",
    "loss = -tf.reduce_sum(t * tf.log(p))\n",
    "# train_step = tf.train.GradientDescentOptimizer(0.01).minimize(loss)\n",
    "train_step = tf.train.AdamOptimizer().minimize(loss)"
   ]
  },
  {
   "cell_type": "markdown",
   "metadata": {},
   "source": [
    "# 正答率の計算式を定義"
   ]
  },
  {
   "cell_type": "code",
   "execution_count": 193,
   "metadata": {
    "collapsed": true
   },
   "outputs": [],
   "source": [
    "correct_prediction = tf.equal(tf.argmax(p,1),tf.argmax(t,1)) # 最大の番号が一致するかどうかの判定\n",
    "accuracy = tf.reduce_mean(tf.cast(correct_prediction, tf.float32))  "
   ]
  },
  {
   "cell_type": "markdown",
   "metadata": {},
   "source": [
    "tf.cast : C言語で言うキャスト　correct_prediction は Boolean なのでそのままでは平均値はとれないので、真なら1.0、偽なら0.0という浮動小数点数にキャストしてから平均をとる"
   ]
  },
  {
   "cell_type": "markdown",
   "metadata": {},
   "source": [
    "# セッションの開始"
   ]
  },
  {
   "cell_type": "code",
   "execution_count": 194,
   "metadata": {
    "collapsed": true
   },
   "outputs": [],
   "source": [
    "#sess = tf.Session()\n",
    "sees = tf.InteractiveSession()\n",
    "sess.run(tf.global_variables_initializer())"
   ]
  },
  {
   "cell_type": "code",
   "execution_count": 195,
   "metadata": {},
   "outputs": [
    {
     "name": "stdout",
     "output_type": "stream",
     "text": [
      "Step: 100, Loss: 7596.456055, Accuracy: 0.843800\n",
      "Step: 200, Loss: 5381.030273, Accuracy: 0.879400\n",
      "Step: 300, Loss: 4533.486328, Accuracy: 0.888200\n",
      "Step: 400, Loss: 4073.842773, Accuracy: 0.899100\n",
      "Step: 500, Loss: 3777.294434, Accuracy: 0.904000\n",
      "Step: 600, Loss: 3606.895508, Accuracy: 0.907800\n",
      "Step: 700, Loss: 3434.129395, Accuracy: 0.909900\n",
      "Step: 800, Loss: 3336.555420, Accuracy: 0.911100\n",
      "Step: 900, Loss: 3244.187988, Accuracy: 0.913300\n",
      "Step: 1000, Loss: 3196.597412, Accuracy: 0.913800\n",
      "Step: 1100, Loss: 3127.806885, Accuracy: 0.913900\n",
      "Step: 1200, Loss: 3086.204102, Accuracy: 0.914800\n",
      "Step: 1300, Loss: 3026.024902, Accuracy: 0.916600\n",
      "Step: 1400, Loss: 2993.714355, Accuracy: 0.916900\n",
      "Step: 1500, Loss: 2965.597656, Accuracy: 0.917500\n",
      "Step: 1600, Loss: 2927.501221, Accuracy: 0.919000\n",
      "Step: 1700, Loss: 2912.040527, Accuracy: 0.919800\n",
      "Step: 1800, Loss: 2873.033691, Accuracy: 0.920200\n",
      "Step: 1900, Loss: 2861.559082, Accuracy: 0.920900\n",
      "Step: 2000, Loss: 2861.095459, Accuracy: 0.921500\n"
     ]
    }
   ],
   "source": [
    "times = 0\n",
    "for _ in range(2000):\n",
    "    times += 1\n",
    "    batch_xs,batch_ts = mnist.train.next_batch(100)\n",
    "    sess.run(train_step, feed_dict={x:batch_xs, t:batch_ts})\n",
    "    if times % 100 == 0:\n",
    "        loss_val, acc_val = sess.run([loss,accuracy],\n",
    "                feed_dict={x:mnist.test.images, t:mnist.test.labels})\n",
    "        print(\"Step: {0:d}, Loss: {1:f}, Accuracy: {2:f}\".format(times, loss_val, acc_val))"
   ]
  },
  {
   "cell_type": "markdown",
   "metadata": {},
   "source": [
    "# 学習結果を用いて文字認識してみる"
   ]
  },
  {
   "cell_type": "code",
   "execution_count": null,
   "metadata": {},
   "outputs": [
    {
     "data": {
      "image/png": "[encoded data removed]",
      "text/plain": [
       "<matplotlib.figure.Figure at 0x247838d3c88>"
      ]
     },
     "metadata": {},
     "output_type": "display_data"
    }
   ],
   "source": [
    "plt.figure(figsize=(8,15))\n",
    "def plotchr(image,label1,label2, i):\n",
    "    sns.set_context(\"talk\")\n",
    "    plt.subplot(10,6,i)\n",
    "    plt.xticks([])\n",
    "    plt.yticks([])\n",
    "    plt.title(\"%d / %d\" % (np.argmax(label1),np.argmax(label2)))\n",
    "    plt.imshow(image,cmap=plt.cm.gray_r)\n",
    "    \n",
    "images, labels = mnist.test.images, mnist.test.labels\n",
    "p_val = sess.run(p, feed_dict={x:images, t:labels})\n",
    "\n",
    "# 0～9 と判定されたものについて、それぞれ正の例を３つ、負の例を３つ表示する\n",
    "picnumber = 0\n",
    "for i in range(10):\n",
    "    c = 0\n",
    "    for (image, label, pred) in zip(images, labels, p_val):\n",
    "        prediction,actual = np.argmax(pred), np.argmax(label)\n",
    "        if prediction != i:  # \n",
    "            continue\n",
    "        if(c<3 and i == actual) or (c>=3 and i != actual):\n",
    "            picnumber += 1\n",
    "            plotchr(image.reshape((28,28)),pred,label,picnumber)\n",
    "            c += 1\n",
    "            if c > 5:\n",
    "                break\n",
    "            "
   ]
  },
  {
   "cell_type": "code",
   "execution_count": null,
   "metadata": {
    "collapsed": true
   },
   "outputs": [],
   "source": []
  }
 ],
 "metadata": {
  "kernelspec": {
   "display_name": "Python [default]",
   "language": "python",
   "name": "python3"
  },
  "language_info": {
   "codemirror_mode": {
    "name": "ipython",
    "version": 3
   },
   "file_extension": ".py",
   "mimetype": "text/x-python",
   "name": "python",
   "nbconvert_exporter": "python",
   "pygments_lexer": "ipython3",
   "version": "3.6.1"
  }
 },
 "nbformat": 4,
 "nbformat_minor": 2
}
