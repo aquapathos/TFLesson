{
 "cells": [
  {
   "cell_type": "code",
   "execution_count": 15,
   "metadata": {},
   "outputs": [
    {
     "ename": "SyntaxError",
     "evalue": "invalid syntax (<ipython-input-15-71ae9ddf8db0>, line 79)",
     "output_type": "error",
     "traceback": [
      "\u001b[1;36m  File \u001b[1;32m\"<ipython-input-15-71ae9ddf8db0>\"\u001b[1;36m, line \u001b[1;32m79\u001b[0m\n\u001b[1;33m    2    save_metadata(FLAGS.log_dir + '/projector/metadata.tsv')\u001b[0m\n\u001b[1;37m                     ^\u001b[0m\n\u001b[1;31mSyntaxError\u001b[0m\u001b[1;31m:\u001b[0m invalid syntax\n"
     ]
    }
   ],
   "source": [
    "# Copyright 2016 Norman Heckscher. All Rights Reserved.\n",
    "#\n",
    "# Licensed under the Apache License, Version 2.0 (the 'License');\n",
    "# you may not use this file except in compliance with the License.\n",
    "# You may obtain a copy of the License at\n",
    "#\n",
    "#     http://www.apache.org/licenses/LICENSE-2.0\n",
    "#\n",
    "# Unless required by applicable law or agreed to in writing, software\n",
    "# distributed under the License is distributed on an 'AS IS' BASIS,\n",
    "# WITHOUT WARRANTIES OR CONDITIONS OF ANY KIND, either express or implied.\n",
    "# See the License for the specific language governing permissions and\n",
    "# limitations under the License.\n",
    "# ==============================================================================\n",
    "\"\"\"MNIST dimensionality reduction with TensorFlow and TensorBoard.\n",
    "This demonstrates the functionality of the TensorBoard Embedding Visualization dashboard using MNIST.\n",
    "https://www.tensorflow.org/versions/r0.12/how_tos/embedding_viz/index.html#tensorboard-embedding-visualization\n",
    "\"\"\"\n",
    "from __future__ import absolute_import\n",
    "from __future__ import division\n",
    "from __future__ import print_function\n",
    "\n",
    "import argparse\n",
    "import sys\n",
    "\n",
    "import os\n",
    "import numpy as np\n",
    "from tensorflow.contrib.tensorboard.plugins import projector\n",
    "\n",
    "import tensorflow as tf\n",
    "\n",
    "from tensorflow.examples.tutorials.mnist import input_data\n",
    "FLAGS = None\n",
    "\n",
    "\n",
    "def generate_embeddings():\n",
    "    # Import data\n",
    "    mnist = input_data.read_data_sets(FLAGS.data_dir,\n",
    "                                      one_hot=True,\n",
    "                                      fake_data=FLAGS.fake_data)\n",
    "    sess = tf.InteractiveSession()\n",
    "\n",
    "    # Input set for Embedded TensorBoard visualization\n",
    "    # Performed with cpu to conserve memory and processing power\n",
    "    with tf.device(\"/cpu:0\"):\n",
    "        embedding = tf.Variable(tf.stack(mnist.test.images[:FLAGS.max_steps], axis=0), trainable=False, name='embedding')\n",
    "\n",
    "    tf.global_variables_initializer().run()\n",
    "\n",
    "    saver = tf.train.Saver()\n",
    "    writer = tf.summary.FileWriter(FLAGS.log_dir + '/projector', sess.graph)\n",
    "\n",
    "    # Add embedding tensorboard visualization. Need tensorflow version\n",
    "    # >= 0.12.0RC0\n",
    "    config = projector.ProjectorConfig()\n",
    "    embed= config.embeddings.add()\n",
    "    embed.tensor_name = 'embedding:0'\n",
    "    embed.metadata_path = os.path.join(FLAGS.log_dir + '/projector/metadata.tsv')\n",
    "    embed.sprite.image_path = os.path.join(FLAGS.data_dir + '/mnist_10k_sprite.png')\n",
    "\n",
    "    # Specify the width and height of a single thumbnail.\n",
    "    embed.sprite.single_image_dim.extend([28, 28])\n",
    "    projector.visualize_embeddings(writer, config)\n",
    "\n",
    "    saver.save(sess, os.path.join(\n",
    "        FLAGS.log_dir, 'projector/a_model.ckpt'), global_step=FLAGS.max_steps)\n",
    "\n",
    "def generate_metadata_file():\n",
    "    # Import data\n",
    "    mnist = input_data.read_data_sets(FLAGS.data_dir,\n",
    "                                      one_hot=True,\n",
    "                                      fake_data=FLAGS.fake_data)\n",
    "    def save_metadata(file):\n",
    "        with open(file, 'w') as f:\n",
    "            for i in range(FLAGS.max_steps):\n",
    "                c = np.nonzero(mnist.test.labels[::1])[1:][0][i]\n",
    "                f.write('{}\\n'.format(c))\n",
    "\n",
    "2    save_metadata(FLAGS.log_dir + '/projector/metadata.tsv')\n",
    "\n",
    "def main():\n",
    "    tf.gfile.MakeDirs('./projector') # fix the directory to be created\n",
    "    generate_metadata_file()\n",
    "    generate_embeddings()\n",
    "    \n",
    "main()"
   ]
  },
  {
   "cell_type": "code",
   "execution_count": 16,
   "metadata": {},
   "outputs": [
    {
     "data": {
      "text/plain": [
       "_StoreAction(option_strings=['--logdir'], dest='logdir', nargs=None, const=None, default='A', type=None, choices=None, help=None, metavar=None)"
      ]
     },
     "execution_count": 16,
     "metadata": {},
     "output_type": "execute_result"
    }
   ],
   "source": [
    "parser.add_argument('--logdir', default=\"A\")"
   ]
  },
  {
   "cell_type": "code",
   "execution_count": 17,
   "metadata": {},
   "outputs": [
    {
     "ename": "AttributeError",
     "evalue": "'str' object has no attribute 'add_argment'",
     "output_type": "error",
     "traceback": [
      "\u001b[1;31m---------------------------------------------------------------------------\u001b[0m",
      "\u001b[1;31mAttributeError\u001b[0m                            Traceback (most recent call last)",
      "\u001b[1;32m<ipython-input-17-03e245ada03c>\u001b[0m in \u001b[0;36m<module>\u001b[1;34m()\u001b[0m\n\u001b[1;32m----> 1\u001b[1;33m \u001b[0mFLAGS\u001b[0m\u001b[1;33m.\u001b[0m\u001b[0madd_argment\u001b[0m\u001b[1;33m(\u001b[0m\u001b[1;34m\"logdir\"\u001b[0m\u001b[1;33m,\u001b[0m\u001b[1;34m\"A\"\u001b[0m\u001b[1;33m)\u001b[0m\u001b[1;33m\u001b[0m\u001b[0m\n\u001b[0m",
      "\u001b[1;31mAttributeError\u001b[0m: 'str' object has no attribute 'add_argment'"
     ]
    }
   ],
   "source": [
    "FLAGS.add_argment(\"logdir\",\"A\")"
   ]
  },
  {
   "cell_type": "code",
   "execution_count": null,
   "metadata": {
    "collapsed": true
   },
   "outputs": [],
   "source": []
  }
 ],
 "metadata": {
  "kernelspec": {
   "display_name": "Python 3",
   "language": "python",
   "name": "python3"
  },
  "language_info": {
   "codemirror_mode": {
    "name": "ipython",
    "version": 3
   },
   "file_extension": ".py",
   "mimetype": "text/x-python",
   "name": "python",
   "nbconvert_exporter": "python",
   "pygments_lexer": "ipython3",
   "version": "3.6.2"
  }
 },
 "nbformat": 4,
 "nbformat_minor": 2
}
